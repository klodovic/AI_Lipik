{
 "cells": [
  {
   "cell_type": "code",
   "execution_count": 1,
   "id": "91439a79-979e-446f-8aff-1ef388a00fd9",
   "metadata": {},
   "outputs": [],
   "source": [
    "import pandas as pd\n",
    "import matplotlib.pyplot as plt\n",
    "import numpy as np\n",
    "import seaborn as sns\n",
    "from scipy import stats\n",
    "\n",
    "from sklearn.preprocessing import LabelEncoder"
   ]
  },
  {
   "cell_type": "code",
   "execution_count": 2,
   "id": "76eb9a68-c059-474b-a9ba-49ebb5de5af6",
   "metadata": {},
   "outputs": [],
   "source": [
    "gender = pd.read_csv(\"gender_vjezba.csv\")\n",
    "odjeli_place = pd.read_csv(\"odjeli_place.csv\")"
   ]
  },
  {
   "cell_type": "code",
   "execution_count": null,
   "id": "27c3cb4a-6411-45e7-9fb0-b1609cfa5dd2",
   "metadata": {},
   "outputs": [],
   "source": []
  },
  {
   "cell_type": "code",
   "execution_count": 3,
   "id": "4a6cbb1a-461b-4d2d-800e-6865c77f673d",
   "metadata": {},
   "outputs": [
    {
     "data": {
      "text/html": [
       "<div>\n",
       "<style scoped>\n",
       "    .dataframe tbody tr th:only-of-type {\n",
       "        vertical-align: middle;\n",
       "    }\n",
       "\n",
       "    .dataframe tbody tr th {\n",
       "        vertical-align: top;\n",
       "    }\n",
       "\n",
       "    .dataframe thead th {\n",
       "        text-align: right;\n",
       "    }\n",
       "</style>\n",
       "<table border=\"1\" class=\"dataframe\">\n",
       "  <thead>\n",
       "    <tr style=\"text-align: right;\">\n",
       "      <th></th>\n",
       "      <th>Unnamed: 0</th>\n",
       "      <th>Department</th>\n",
       "      <th>Salary</th>\n",
       "    </tr>\n",
       "  </thead>\n",
       "  <tbody>\n",
       "    <tr>\n",
       "      <th>0</th>\n",
       "      <td>0</td>\n",
       "      <td>Marketing</td>\n",
       "      <td>52483.570765</td>\n",
       "    </tr>\n",
       "    <tr>\n",
       "      <th>1</th>\n",
       "      <td>1</td>\n",
       "      <td>Marketing</td>\n",
       "      <td>49308.678494</td>\n",
       "    </tr>\n",
       "    <tr>\n",
       "      <th>2</th>\n",
       "      <td>2</td>\n",
       "      <td>Marketing</td>\n",
       "      <td>53238.442691</td>\n",
       "    </tr>\n",
       "    <tr>\n",
       "      <th>3</th>\n",
       "      <td>3</td>\n",
       "      <td>Marketing</td>\n",
       "      <td>57615.149282</td>\n",
       "    </tr>\n",
       "    <tr>\n",
       "      <th>4</th>\n",
       "      <td>4</td>\n",
       "      <td>Marketing</td>\n",
       "      <td>48829.233126</td>\n",
       "    </tr>\n",
       "    <tr>\n",
       "      <th>...</th>\n",
       "      <td>...</td>\n",
       "      <td>...</td>\n",
       "      <td>...</td>\n",
       "    </tr>\n",
       "    <tr>\n",
       "      <th>85</th>\n",
       "      <td>85</td>\n",
       "      <td>Sales</td>\n",
       "      <td>51989.457738</td>\n",
       "    </tr>\n",
       "    <tr>\n",
       "      <th>86</th>\n",
       "      <td>86</td>\n",
       "      <td>Sales</td>\n",
       "      <td>60492.412706</td>\n",
       "    </tr>\n",
       "    <tr>\n",
       "      <th>87</th>\n",
       "      <td>87</td>\n",
       "      <td>Sales</td>\n",
       "      <td>56972.506658</td>\n",
       "    </tr>\n",
       "    <tr>\n",
       "      <th>88</th>\n",
       "      <td>88</td>\n",
       "      <td>Sales</td>\n",
       "      <td>51821.438777</td>\n",
       "    </tr>\n",
       "    <tr>\n",
       "      <th>89</th>\n",
       "      <td>89</td>\n",
       "      <td>Sales</td>\n",
       "      <td>58079.604599</td>\n",
       "    </tr>\n",
       "  </tbody>\n",
       "</table>\n",
       "<p>90 rows × 3 columns</p>\n",
       "</div>"
      ],
      "text/plain": [
       "    Unnamed: 0 Department        Salary\n",
       "0            0  Marketing  52483.570765\n",
       "1            1  Marketing  49308.678494\n",
       "2            2  Marketing  53238.442691\n",
       "3            3  Marketing  57615.149282\n",
       "4            4  Marketing  48829.233126\n",
       "..         ...        ...           ...\n",
       "85          85      Sales  51989.457738\n",
       "86          86      Sales  60492.412706\n",
       "87          87      Sales  56972.506658\n",
       "88          88      Sales  51821.438777\n",
       "89          89      Sales  58079.604599\n",
       "\n",
       "[90 rows x 3 columns]"
      ]
     },
     "execution_count": 3,
     "metadata": {},
     "output_type": "execute_result"
    }
   ],
   "source": [
    "odjeli_place"
   ]
  },
  {
   "cell_type": "code",
   "execution_count": 4,
   "id": "e4f72589-ba28-492c-8d9b-d2e7930120e5",
   "metadata": {},
   "outputs": [],
   "source": [
    "### Metoda ANOVA"
   ]
  },
  {
   "cell_type": "code",
   "execution_count": null,
   "id": "052b645c-a424-4028-a88c-f0666431e42e",
   "metadata": {},
   "outputs": [],
   "source": []
  },
  {
   "cell_type": "code",
   "execution_count": 5,
   "id": "c77f6dff-b43f-4343-bab7-2a1ffc9447e9",
   "metadata": {},
   "outputs": [
    {
     "name": "stdout",
     "output_type": "stream",
     "text": [
      "<class 'pandas.core.frame.DataFrame'>\n",
      "RangeIndex: 90 entries, 0 to 89\n",
      "Data columns (total 3 columns):\n",
      " #   Column      Non-Null Count  Dtype  \n",
      "---  ------      --------------  -----  \n",
      " 0   Unnamed: 0  90 non-null     int64  \n",
      " 1   Department  90 non-null     object \n",
      " 2   Salary      90 non-null     float64\n",
      "dtypes: float64(1), int64(1), object(1)\n",
      "memory usage: 2.2+ KB\n"
     ]
    }
   ],
   "source": [
    "odjeli_place.info()"
   ]
  },
  {
   "cell_type": "code",
   "execution_count": null,
   "id": "9b26f45e-e62f-4f45-91d6-ec8949250a1d",
   "metadata": {},
   "outputs": [],
   "source": []
  },
  {
   "cell_type": "code",
   "execution_count": 6,
   "id": "a177bf05-ff12-46d2-8b1b-5a5a46409f37",
   "metadata": {},
   "outputs": [
    {
     "data": {
      "text/plain": [
       "Department\n",
       "Marketing    30\n",
       "Logistics    30\n",
       "Sales        30\n",
       "Name: count, dtype: int64"
      ]
     },
     "execution_count": 6,
     "metadata": {},
     "output_type": "execute_result"
    }
   ],
   "source": [
    "odjeli_place[\"Department\"].value_counts()"
   ]
  },
  {
   "cell_type": "code",
   "execution_count": null,
   "id": "17082af4-663f-4c64-943f-deb3429b07c0",
   "metadata": {},
   "outputs": [],
   "source": []
  },
  {
   "cell_type": "code",
   "execution_count": 7,
   "id": "d603a83f-aa99-4a1c-ba75-eea9ed6671a5",
   "metadata": {},
   "outputs": [],
   "source": [
    "odjeli_place_department = odjeli_place.groupby (\"Department\")"
   ]
  },
  {
   "cell_type": "code",
   "execution_count": 8,
   "id": "5bdcdf8c-60bd-4206-8004-cc31370d56a3",
   "metadata": {},
   "outputs": [
    {
     "data": {
      "text/plain": [
       "Department\n",
       "Logistics    44454.768884\n",
       "Marketing    49059.265521\n",
       "Sales        55077.308635\n",
       "Name: Salary, dtype: float64"
      ]
     },
     "execution_count": 8,
     "metadata": {},
     "output_type": "execute_result"
    }
   ],
   "source": [
    "odjeli_place_department [\"Salary\"].mean()"
   ]
  },
  {
   "cell_type": "code",
   "execution_count": null,
   "id": "b1d47780-4141-4f50-91b7-57481629b121",
   "metadata": {},
   "outputs": [],
   "source": []
  },
  {
   "cell_type": "code",
   "execution_count": 9,
   "id": "a797c250-571b-49a7-8a78-944150b5ac12",
   "metadata": {},
   "outputs": [
    {
     "data": {
      "text/plain": [
       "(array([ 3.,  8., 11., 12., 18., 12., 10.,  8.,  4.,  4.]),\n",
       " array([36181.48444254, 39002.12219178, 41822.75994101, 44643.39769024,\n",
       "        47464.03543948, 50284.67318871, 53105.31093795, 55925.94868718,\n",
       "        58746.58643642, 61567.22418565, 64387.86193488]),\n",
       " <BarContainer object of 10 artists>)"
      ]
     },
     "execution_count": 9,
     "metadata": {},
     "output_type": "execute_result"
    },
    {
     "data": {
      "image/png": "[encoded data removed]",
      "text/plain": [
       "<Figure size 640x480 with 1 Axes>"
      ]
     },
     "metadata": {},
     "output_type": "display_data"
    }
   ],
   "source": [
    "plt.hist(odjeli_place.Salary)"
   ]
  },
  {
   "cell_type": "code",
   "execution_count": null,
   "id": "fc2a79d8-8dc2-453b-b321-df36b3c4e7d5",
   "metadata": {},
   "outputs": [],
   "source": []
  },
  {
   "cell_type": "code",
   "execution_count": 10,
   "id": "12188e06-1b44-4293-8437-2ff7693c8dfe",
   "metadata": {},
   "outputs": [
    {
     "data": {
      "text/html": [
       "<div>\n",
       "<style scoped>\n",
       "    .dataframe tbody tr th:only-of-type {\n",
       "        vertical-align: middle;\n",
       "    }\n",
       "\n",
       "    .dataframe tbody tr th {\n",
       "        vertical-align: top;\n",
       "    }\n",
       "\n",
       "    .dataframe thead th {\n",
       "        text-align: right;\n",
       "    }\n",
       "</style>\n",
       "<table border=\"1\" class=\"dataframe\">\n",
       "  <thead>\n",
       "    <tr style=\"text-align: right;\">\n",
       "      <th></th>\n",
       "      <th>Unnamed: 0</th>\n",
       "      <th>Salary</th>\n",
       "    </tr>\n",
       "  </thead>\n",
       "  <tbody>\n",
       "    <tr>\n",
       "      <th>Unnamed: 0</th>\n",
       "      <td>1.00000</td>\n",
       "      <td>0.34113</td>\n",
       "    </tr>\n",
       "    <tr>\n",
       "      <th>Salary</th>\n",
       "      <td>0.34113</td>\n",
       "      <td>1.00000</td>\n",
       "    </tr>\n",
       "  </tbody>\n",
       "</table>\n",
       "</div>"
      ],
      "text/plain": [
       "            Unnamed: 0   Salary\n",
       "Unnamed: 0     1.00000  0.34113\n",
       "Salary         0.34113  1.00000"
      ]
     },
     "execution_count": 10,
     "metadata": {},
     "output_type": "execute_result"
    }
   ],
   "source": [
    "odjeli_place.corr(numeric_only = True)"
   ]
  },
  {
   "cell_type": "code",
   "execution_count": null,
   "id": "a3c957f0-bc2b-4178-a6a1-25905f061dd1",
   "metadata": {},
   "outputs": [],
   "source": []
  },
  {
   "cell_type": "code",
   "execution_count": 11,
   "id": "62bcab98-ef17-4969-b772-f61274dad306",
   "metadata": {},
   "outputs": [],
   "source": [
    "marketing = odjeli_place[odjeli_place['Department'] == 'Marketing']['Salary']\n",
    "logistics = odjeli_place[odjeli_place['Department'] == 'Logistics']['Salary']\n",
    "sales = odjeli_place[odjeli_place['Department'] == 'Sales']['Salary']"
   ]
  },
  {
   "cell_type": "code",
   "execution_count": null,
   "id": "274c4fe4-739f-4901-8b47-6bbb3e1e81aa",
   "metadata": {},
   "outputs": [],
   "source": []
  },
  {
   "cell_type": "code",
   "execution_count": 12,
   "id": "02ae56a8-4ba6-43ee-8d1b-332a76f5909f",
   "metadata": {},
   "outputs": [
    {
     "data": {
      "text/plain": [
       "30    42292.320245\n",
       "31    53335.251830\n",
       "32    44939.262489\n",
       "33    40240.300820\n",
       "34    48701.452104\n",
       "35    39506.203575\n",
       "36    45939.886178\n",
       "37    36181.484443\n",
       "38    39023.162780\n",
       "39    45885.875561\n",
       "40    48323.099610\n",
       "41    45771.157265\n",
       "42    44479.582729\n",
       "43    43645.033370\n",
       "44    38346.651043\n",
       "45    41760.701062\n",
       "46    42927.125531\n",
       "47    49757.050018\n",
       "48    46546.282303\n",
       "49    37066.319301\n",
       "50    46458.377862\n",
       "51    43267.129738\n",
       "52    41953.850999\n",
       "53    47752.543300\n",
       "54    49639.497851\n",
       "55    49190.760536\n",
       "56    41223.521145\n",
       "57    43608.544309\n",
       "58    46490.685441\n",
       "59    49389.953072\n",
       "Name: Salary, dtype: float64"
      ]
     },
     "execution_count": 12,
     "metadata": {},
     "output_type": "execute_result"
    }
   ],
   "source": [
    "logistics"
   ]
  },
  {
   "cell_type": "code",
   "execution_count": null,
   "id": "9a2ac383-89d2-4749-9328-1ac54bcbfd7a",
   "metadata": {},
   "outputs": [],
   "source": []
  },
  {
   "cell_type": "code",
   "execution_count": 13,
   "id": "996104f5-5d18-47a6-8beb-f0591f7935f8",
   "metadata": {},
   "outputs": [],
   "source": [
    "F_statistic, p_value = stats.f_oneway(marketing, logistics, sales)"
   ]
  },
  {
   "cell_type": "code",
   "execution_count": 14,
   "id": "c6f50ce1-4543-4413-b841-9a7b74b19688",
   "metadata": {},
   "outputs": [
    {
     "data": {
      "text/plain": [
       "np.float64(34.873805599251384)"
      ]
     },
     "execution_count": 14,
     "metadata": {},
     "output_type": "execute_result"
    }
   ],
   "source": [
    "F_statistic"
   ]
  },
  {
   "cell_type": "code",
   "execution_count": 15,
   "id": "d14a54c5-bd2a-4804-8cbc-09c77f0eec56",
   "metadata": {},
   "outputs": [
    {
     "data": {
      "text/plain": [
       "np.float64(7.548262426790079e-12)"
      ]
     },
     "execution_count": 15,
     "metadata": {},
     "output_type": "execute_result"
    }
   ],
   "source": [
    "p_value"
   ]
  },
  {
   "cell_type": "code",
   "execution_count": null,
   "id": "a1efd630-d7ed-4567-8d5f-bdd91346d0df",
   "metadata": {},
   "outputs": [],
   "source": []
  },
  {
   "cell_type": "code",
   "execution_count": 16,
   "id": "27aabd6b-102e-400d-8bf8-bfb3b6c867b3",
   "metadata": {},
   "outputs": [
    {
     "data": {
      "text/html": [
       "<div>\n",
       "<style scoped>\n",
       "    .dataframe tbody tr th:only-of-type {\n",
       "        vertical-align: middle;\n",
       "    }\n",
       "\n",
       "    .dataframe tbody tr th {\n",
       "        vertical-align: top;\n",
       "    }\n",
       "\n",
       "    .dataframe thead th {\n",
       "        text-align: right;\n",
       "    }\n",
       "</style>\n",
       "<table border=\"1\" class=\"dataframe\">\n",
       "  <thead>\n",
       "    <tr style=\"text-align: right;\">\n",
       "      <th></th>\n",
       "      <th>Unnamed: 0</th>\n",
       "      <th>Gender</th>\n",
       "      <th>ExerciseFrequency</th>\n",
       "    </tr>\n",
       "  </thead>\n",
       "  <tbody>\n",
       "    <tr>\n",
       "      <th>0</th>\n",
       "      <td>0</td>\n",
       "      <td>Male</td>\n",
       "      <td>6.745071</td>\n",
       "    </tr>\n",
       "    <tr>\n",
       "      <th>1</th>\n",
       "      <td>1</td>\n",
       "      <td>Male</td>\n",
       "      <td>5.792604</td>\n",
       "    </tr>\n",
       "    <tr>\n",
       "      <th>2</th>\n",
       "      <td>2</td>\n",
       "      <td>Male</td>\n",
       "      <td>6.971533</td>\n",
       "    </tr>\n",
       "    <tr>\n",
       "      <th>3</th>\n",
       "      <td>3</td>\n",
       "      <td>Male</td>\n",
       "      <td>8.284545</td>\n",
       "    </tr>\n",
       "    <tr>\n",
       "      <th>4</th>\n",
       "      <td>4</td>\n",
       "      <td>Male</td>\n",
       "      <td>5.648770</td>\n",
       "    </tr>\n",
       "    <tr>\n",
       "      <th>...</th>\n",
       "      <td>...</td>\n",
       "      <td>...</td>\n",
       "      <td>...</td>\n",
       "    </tr>\n",
       "    <tr>\n",
       "      <th>195</th>\n",
       "      <td>195</td>\n",
       "      <td>Female</td>\n",
       "      <td>6.077976</td>\n",
       "    </tr>\n",
       "    <tr>\n",
       "      <th>196</th>\n",
       "      <td>196</td>\n",
       "      <td>Female</td>\n",
       "      <td>4.174214</td>\n",
       "    </tr>\n",
       "    <tr>\n",
       "      <th>197</th>\n",
       "      <td>197</td>\n",
       "      <td>Female</td>\n",
       "      <td>5.730588</td>\n",
       "    </tr>\n",
       "    <tr>\n",
       "      <th>198</th>\n",
       "      <td>198</td>\n",
       "      <td>Female</td>\n",
       "      <td>5.587313</td>\n",
       "    </tr>\n",
       "    <tr>\n",
       "      <th>199</th>\n",
       "      <td>199</td>\n",
       "      <td>Female</td>\n",
       "      <td>3.785545</td>\n",
       "    </tr>\n",
       "  </tbody>\n",
       "</table>\n",
       "<p>200 rows × 3 columns</p>\n",
       "</div>"
      ],
      "text/plain": [
       "     Unnamed: 0  Gender  ExerciseFrequency\n",
       "0             0    Male           6.745071\n",
       "1             1    Male           5.792604\n",
       "2             2    Male           6.971533\n",
       "3             3    Male           8.284545\n",
       "4             4    Male           5.648770\n",
       "..          ...     ...                ...\n",
       "195         195  Female           6.077976\n",
       "196         196  Female           4.174214\n",
       "197         197  Female           5.730588\n",
       "198         198  Female           5.587313\n",
       "199         199  Female           3.785545\n",
       "\n",
       "[200 rows x 3 columns]"
      ]
     },
     "execution_count": 16,
     "metadata": {},
     "output_type": "execute_result"
    }
   ],
   "source": [
    "gender"
   ]
  },
  {
   "cell_type": "code",
   "execution_count": null,
   "id": "66a6e606-cba4-4b67-93b5-1b579da72b12",
   "metadata": {},
   "outputs": [],
   "source": [
    "#### Zadatak"
   ]
  },
  {
   "cell_type": "code",
   "execution_count": 17,
   "id": "c6cc4acb-434f-4efb-ba1d-761c4574232d",
   "metadata": {},
   "outputs": [],
   "source": [
    "exercise_Frequency = gender.groupby(\"Gender\")"
   ]
  },
  {
   "cell_type": "code",
   "execution_count": 20,
   "id": "4202ff76-f36f-46c7-bc2c-a68ed409aece",
   "metadata": {},
   "outputs": [
    {
     "data": {
      "text/plain": [
       "Gender\n",
       "Female    5.533457\n",
       "Male      5.844230\n",
       "Name: ExerciseFrequency, dtype: float64"
      ]
     },
     "execution_count": 20,
     "metadata": {},
     "output_type": "execute_result"
    }
   ],
   "source": [
    "exercise_Frequency [\"ExerciseFrequency\"].mean()"
   ]
  },
  {
   "cell_type": "code",
   "execution_count": null,
   "id": "87228b40-4b36-4396-a845-60a406a53434",
   "metadata": {},
   "outputs": [],
   "source": []
  },
  {
   "cell_type": "code",
   "execution_count": 19,
   "id": "a662c9c0-8308-4eb9-90ec-435705800a13",
   "metadata": {},
   "outputs": [
    {
     "data": {
      "text/plain": [
       "(array([ 2., 11., 27., 20., 46., 48., 21., 12., 11.,  2.]),\n",
       " array([2.07038234, 2.82136948, 3.57235663, 4.32334377, 5.07433091,\n",
       "        5.82531805, 6.57630519, 7.32729233, 8.07827947, 8.82926661,\n",
       "        9.58025375]),\n",
       " <BarContainer object of 10 artists>)"
      ]
     },
     "execution_count": 19,
     "metadata": {},
     "output_type": "execute_result"
    },
    {
     "data": {
      "image/png": "[encoded data removed]",
      "text/plain": [
       "<Figure size 640x480 with 1 Axes>"
      ]
     },
     "metadata": {},
     "output_type": "display_data"
    }
   ],
   "source": [
    "plt.hist(gender.ExerciseFrequency)"
   ]
  },
  {
   "cell_type": "code",
   "execution_count": null,
   "id": "58f7ae62-0f15-420b-8a04-44b06a614b4f",
   "metadata": {},
   "outputs": [],
   "source": []
  },
  {
   "cell_type": "code",
   "execution_count": 21,
   "id": "dbda681a-7cca-4f4d-a244-16d1e48fd969",
   "metadata": {},
   "outputs": [],
   "source": [
    "muskarci = gender[gender['Gender'] == 'Male']['ExerciseFrequency']\n",
    "zene = gender[gender['Gender'] == 'Female']['ExerciseFrequency']"
   ]
  },
  {
   "cell_type": "code",
   "execution_count": 22,
   "id": "cc74227d-2c3d-44e7-89bc-5523d14e8c14",
   "metadata": {},
   "outputs": [],
   "source": [
    "F_statistic2, p_value2 = stats.f_oneway(muskarci, zene)"
   ]
  },
  {
   "cell_type": "code",
   "execution_count": 23,
   "id": "da566fbf-1ce7-4ba5-ba1a-36e93496f721",
   "metadata": {},
   "outputs": [
    {
     "data": {
      "text/plain": [
       "np.float64(2.475096859950524)"
      ]
     },
     "execution_count": 23,
     "metadata": {},
     "output_type": "execute_result"
    }
   ],
   "source": [
    "F_statistic2"
   ]
  },
  {
   "cell_type": "code",
   "execution_count": 24,
   "id": "5b845e8e-50c9-4849-a994-9d780707634c",
   "metadata": {},
   "outputs": [
    {
     "data": {
      "text/plain": [
       "np.float64(0.11725885247920977)"
      ]
     },
     "execution_count": 24,
     "metadata": {},
     "output_type": "execute_result"
    }
   ],
   "source": [
    "p_value2"
   ]
  },
  {
   "cell_type": "code",
   "execution_count": null,
   "id": "4e87b680-e206-41d0-8111-82af7e2c3fcc",
   "metadata": {},
   "outputs": [],
   "source": []
  },
  {
   "cell_type": "code",
   "execution_count": 25,
   "id": "2de06cf1-a572-4df5-a178-1ac2e2fffdde",
   "metadata": {},
   "outputs": [],
   "source": [
    "#### TWO WAY ANOVA"
   ]
  },
  {
   "cell_type": "code",
   "execution_count": null,
   "id": "84bc61d1-2edf-4ed0-a074-2730fbad4c9c",
   "metadata": {},
   "outputs": [],
   "source": []
  },
  {
   "cell_type": "code",
   "execution_count": 26,
   "id": "5f936b7e-9388-4805-bf55-0fb6ec228554",
   "metadata": {},
   "outputs": [],
   "source": [
    "np.random.seed(42)"
   ]
  },
  {
   "cell_type": "code",
   "execution_count": 27,
   "id": "980abd0e-cbb4-43b6-b612-8b800eaecc3b",
   "metadata": {},
   "outputs": [],
   "source": [
    "departments = np.random.choice(['Marketing', 'Logistics', 'Sales'], 50)\n",
    "experience_levels = np.random.choice(['Junior', 'Mid', 'Senior'], 50)"
   ]
  },
  {
   "cell_type": "code",
   "execution_count": null,
   "id": "92a80a6b-e9b7-4c6d-94e3-73c7fc35c260",
   "metadata": {},
   "outputs": [],
   "source": []
  },
  {
   "cell_type": "code",
   "execution_count": 28,
   "id": "b8970adb-64bb-4faf-882c-610ec80e8f75",
   "metadata": {},
   "outputs": [],
   "source": [
    "salary = np.random.normal(loc=50000, scale=5000, size=50) + \\\n",
    "         (np.where(departments == 'Marketing', 2000, 0)) + \\\n",
    "         (np.where(departments == 'Sales', -3000, 0)) + \\\n",
    "         (np.where(experience_levels == 'Senior', 5000, 0)) + \\\n",
    "         (np.where(experience_levels == 'Junior', -5000, 0))"
   ]
  },
  {
   "cell_type": "code",
   "execution_count": 29,
   "id": "3830ae39-257a-47de-b041-de7f1634a672",
   "metadata": {},
   "outputs": [],
   "source": [
    "df = pd.DataFrame({\n",
    "    'Department': departments,\n",
    "    'Experience': experience_levels,\n",
    "    'Salary': salary\n",
    "})"
   ]
  },
  {
   "cell_type": "code",
   "execution_count": 30,
   "id": "0b2669d5-8d29-489e-8e83-3dbcd688801d",
   "metadata": {
    "scrolled": true
   },
   "outputs": [
    {
     "data": {
      "text/html": [
       "<div>\n",
       "<style scoped>\n",
       "    .dataframe tbody tr th:only-of-type {\n",
       "        vertical-align: middle;\n",
       "    }\n",
       "\n",
       "    .dataframe tbody tr th {\n",
       "        vertical-align: top;\n",
       "    }\n",
       "\n",
       "    .dataframe thead th {\n",
       "        text-align: right;\n",
       "    }\n",
       "</style>\n",
       "<table border=\"1\" class=\"dataframe\">\n",
       "  <thead>\n",
       "    <tr style=\"text-align: right;\">\n",
       "      <th></th>\n",
       "      <th>Department</th>\n",
       "      <th>Experience</th>\n",
       "      <th>Salary</th>\n",
       "    </tr>\n",
       "  </thead>\n",
       "  <tbody>\n",
       "    <tr>\n",
       "      <th>0</th>\n",
       "      <td>Sales</td>\n",
       "      <td>Mid</td>\n",
       "      <td>49910.613974</td>\n",
       "    </tr>\n",
       "    <tr>\n",
       "      <th>1</th>\n",
       "      <td>Marketing</td>\n",
       "      <td>Junior</td>\n",
       "      <td>51438.742298</td>\n",
       "    </tr>\n",
       "    <tr>\n",
       "      <th>2</th>\n",
       "      <td>Sales</td>\n",
       "      <td>Mid</td>\n",
       "      <td>51471.661651</td>\n",
       "    </tr>\n",
       "    <tr>\n",
       "      <th>3</th>\n",
       "      <td>Sales</td>\n",
       "      <td>Junior</td>\n",
       "      <td>45774.988986</td>\n",
       "    </tr>\n",
       "    <tr>\n",
       "      <th>4</th>\n",
       "      <td>Marketing</td>\n",
       "      <td>Mid</td>\n",
       "      <td>50964.170549</td>\n",
       "    </tr>\n",
       "    <tr>\n",
       "      <th>5</th>\n",
       "      <td>Marketing</td>\n",
       "      <td>Senior</td>\n",
       "      <td>53882.613025</td>\n",
       "    </tr>\n",
       "    <tr>\n",
       "      <th>6</th>\n",
       "      <td>Sales</td>\n",
       "      <td>Senior</td>\n",
       "      <td>44459.233552</td>\n",
       "    </tr>\n",
       "    <tr>\n",
       "      <th>7</th>\n",
       "      <td>Logistics</td>\n",
       "      <td>Junior</td>\n",
       "      <td>50498.234879</td>\n",
       "    </tr>\n",
       "    <tr>\n",
       "      <th>8</th>\n",
       "      <td>Sales</td>\n",
       "      <td>Senior</td>\n",
       "      <td>51111.339394</td>\n",
       "    </tr>\n",
       "    <tr>\n",
       "      <th>9</th>\n",
       "      <td>Sales</td>\n",
       "      <td>Senior</td>\n",
       "      <td>49948.083457</td>\n",
       "    </tr>\n",
       "    <tr>\n",
       "      <th>10</th>\n",
       "      <td>Sales</td>\n",
       "      <td>Mid</td>\n",
       "      <td>52898.581724</td>\n",
       "    </tr>\n",
       "    <tr>\n",
       "      <th>11</th>\n",
       "      <td>Sales</td>\n",
       "      <td>Junior</td>\n",
       "      <td>37508.960303</td>\n",
       "    </tr>\n",
       "    <tr>\n",
       "      <th>12</th>\n",
       "      <td>Marketing</td>\n",
       "      <td>Mid</td>\n",
       "      <td>56173.977096</td>\n",
       "    </tr>\n",
       "    <tr>\n",
       "      <th>13</th>\n",
       "      <td>Sales</td>\n",
       "      <td>Mid</td>\n",
       "      <td>48482.806922</td>\n",
       "    </tr>\n",
       "    <tr>\n",
       "      <th>14</th>\n",
       "      <td>Logistics</td>\n",
       "      <td>Mid</td>\n",
       "      <td>44810.850617</td>\n",
       "    </tr>\n",
       "    <tr>\n",
       "      <th>15</th>\n",
       "      <td>Marketing</td>\n",
       "      <td>Mid</td>\n",
       "      <td>51620.981275</td>\n",
       "    </tr>\n",
       "    <tr>\n",
       "      <th>16</th>\n",
       "      <td>Logistics</td>\n",
       "      <td>Mid</td>\n",
       "      <td>54864.817669</td>\n",
       "    </tr>\n",
       "    <tr>\n",
       "      <th>17</th>\n",
       "      <td>Logistics</td>\n",
       "      <td>Mid</td>\n",
       "      <td>53977.977319</td>\n",
       "    </tr>\n",
       "    <tr>\n",
       "      <th>18</th>\n",
       "      <td>Logistics</td>\n",
       "      <td>Mid</td>\n",
       "      <td>57477.171264</td>\n",
       "    </tr>\n",
       "    <tr>\n",
       "      <th>19</th>\n",
       "      <td>Logistics</td>\n",
       "      <td>Junior</td>\n",
       "      <td>46690.906260</td>\n",
       "    </tr>\n",
       "    <tr>\n",
       "      <th>20</th>\n",
       "      <td>Marketing</td>\n",
       "      <td>Senior</td>\n",
       "      <td>73861.481268</td>\n",
       "    </tr>\n",
       "    <tr>\n",
       "      <th>21</th>\n",
       "      <td>Marketing</td>\n",
       "      <td>Mid</td>\n",
       "      <td>47398.045975</td>\n",
       "    </tr>\n",
       "    <tr>\n",
       "      <th>22</th>\n",
       "      <td>Logistics</td>\n",
       "      <td>Mid</td>\n",
       "      <td>48006.808050</td>\n",
       "    </tr>\n",
       "    <tr>\n",
       "      <th>23</th>\n",
       "      <td>Logistics</td>\n",
       "      <td>Mid</td>\n",
       "      <td>49695.679563</td>\n",
       "    </tr>\n",
       "    <tr>\n",
       "      <th>24</th>\n",
       "      <td>Marketing</td>\n",
       "      <td>Mid</td>\n",
       "      <td>44906.247707</td>\n",
       "    </tr>\n",
       "    <tr>\n",
       "      <th>25</th>\n",
       "      <td>Marketing</td>\n",
       "      <td>Mid</td>\n",
       "      <td>57212.458087</td>\n",
       "    </tr>\n",
       "    <tr>\n",
       "      <th>26</th>\n",
       "      <td>Marketing</td>\n",
       "      <td>Mid</td>\n",
       "      <td>56517.662453</td>\n",
       "    </tr>\n",
       "    <tr>\n",
       "      <th>27</th>\n",
       "      <td>Sales</td>\n",
       "      <td>Senior</td>\n",
       "      <td>52095.001655</td>\n",
       "    </tr>\n",
       "    <tr>\n",
       "      <th>28</th>\n",
       "      <td>Sales</td>\n",
       "      <td>Senior</td>\n",
       "      <td>49327.917732</td>\n",
       "    </tr>\n",
       "    <tr>\n",
       "      <th>29</th>\n",
       "      <td>Sales</td>\n",
       "      <td>Mid</td>\n",
       "      <td>39524.730646</td>\n",
       "    </tr>\n",
       "    <tr>\n",
       "      <th>30</th>\n",
       "      <td>Logistics</td>\n",
       "      <td>Senior</td>\n",
       "      <td>51053.708357</td>\n",
       "    </tr>\n",
       "    <tr>\n",
       "      <th>31</th>\n",
       "      <td>Sales</td>\n",
       "      <td>Junior</td>\n",
       "      <td>45718.556419</td>\n",
       "    </tr>\n",
       "    <tr>\n",
       "      <th>32</th>\n",
       "      <td>Logistics</td>\n",
       "      <td>Mid</td>\n",
       "      <td>48939.192891</td>\n",
       "    </tr>\n",
       "    <tr>\n",
       "      <th>33</th>\n",
       "      <td>Logistics</td>\n",
       "      <td>Junior</td>\n",
       "      <td>42865.656030</td>\n",
       "    </tr>\n",
       "    <tr>\n",
       "      <th>34</th>\n",
       "      <td>Sales</td>\n",
       "      <td>Junior</td>\n",
       "      <td>44507.241658</td>\n",
       "    </tr>\n",
       "    <tr>\n",
       "      <th>35</th>\n",
       "      <td>Logistics</td>\n",
       "      <td>Mid</td>\n",
       "      <td>55790.933265</td>\n",
       "    </tr>\n",
       "    <tr>\n",
       "      <th>36</th>\n",
       "      <td>Sales</td>\n",
       "      <td>Senior</td>\n",
       "      <td>53285.584350</td>\n",
       "    </tr>\n",
       "    <tr>\n",
       "      <th>37</th>\n",
       "      <td>Sales</td>\n",
       "      <td>Junior</td>\n",
       "      <td>43572.564479</td>\n",
       "    </tr>\n",
       "    <tr>\n",
       "      <th>38</th>\n",
       "      <td>Marketing</td>\n",
       "      <td>Mid</td>\n",
       "      <td>58859.310668</td>\n",
       "    </tr>\n",
       "    <tr>\n",
       "      <th>39</th>\n",
       "      <td>Sales</td>\n",
       "      <td>Junior</td>\n",
       "      <td>42877.766470</td>\n",
       "    </tr>\n",
       "    <tr>\n",
       "      <th>40</th>\n",
       "      <td>Marketing</td>\n",
       "      <td>Junior</td>\n",
       "      <td>45453.557268</td>\n",
       "    </tr>\n",
       "    <tr>\n",
       "      <th>41</th>\n",
       "      <td>Sales</td>\n",
       "      <td>Junior</td>\n",
       "      <td>45365.627514</td>\n",
       "    </tr>\n",
       "    <tr>\n",
       "      <th>42</th>\n",
       "      <td>Sales</td>\n",
       "      <td>Junior</td>\n",
       "      <td>40716.849087</td>\n",
       "    </tr>\n",
       "    <tr>\n",
       "      <th>43</th>\n",
       "      <td>Marketing</td>\n",
       "      <td>Senior</td>\n",
       "      <td>55160.871379</td>\n",
       "    </tr>\n",
       "    <tr>\n",
       "      <th>44</th>\n",
       "      <td>Marketing</td>\n",
       "      <td>Junior</td>\n",
       "      <td>53368.668101</td>\n",
       "    </tr>\n",
       "    <tr>\n",
       "      <th>45</th>\n",
       "      <td>Sales</td>\n",
       "      <td>Junior</td>\n",
       "      <td>40540.236646</td>\n",
       "    </tr>\n",
       "    <tr>\n",
       "      <th>46</th>\n",
       "      <td>Logistics</td>\n",
       "      <td>Junior</td>\n",
       "      <td>31724.119762</td>\n",
       "    </tr>\n",
       "    <tr>\n",
       "      <th>47</th>\n",
       "      <td>Marketing</td>\n",
       "      <td>Senior</td>\n",
       "      <td>58727.589719</td>\n",
       "    </tr>\n",
       "    <tr>\n",
       "      <th>48</th>\n",
       "      <td>Logistics</td>\n",
       "      <td>Junior</td>\n",
       "      <td>43022.417742</td>\n",
       "    </tr>\n",
       "    <tr>\n",
       "      <th>49</th>\n",
       "      <td>Logistics</td>\n",
       "      <td>Junior</td>\n",
       "      <td>43554.315718</td>\n",
       "    </tr>\n",
       "  </tbody>\n",
       "</table>\n",
       "</div>"
      ],
      "text/plain": [
       "   Department Experience        Salary\n",
       "0       Sales        Mid  49910.613974\n",
       "1   Marketing     Junior  51438.742298\n",
       "2       Sales        Mid  51471.661651\n",
       "3       Sales     Junior  45774.988986\n",
       "4   Marketing        Mid  50964.170549\n",
       "5   Marketing     Senior  53882.613025\n",
       "6       Sales     Senior  44459.233552\n",
       "7   Logistics     Junior  50498.234879\n",
       "8       Sales     Senior  51111.339394\n",
       "9       Sales     Senior  49948.083457\n",
       "10      Sales        Mid  52898.581724\n",
       "11      Sales     Junior  37508.960303\n",
       "12  Marketing        Mid  56173.977096\n",
       "13      Sales        Mid  48482.806922\n",
       "14  Logistics        Mid  44810.850617\n",
       "15  Marketing        Mid  51620.981275\n",
       "16  Logistics        Mid  54864.817669\n",
       "17  Logistics        Mid  53977.977319\n",
       "18  Logistics        Mid  57477.171264\n",
       "19  Logistics     Junior  46690.906260\n",
       "20  Marketing     Senior  73861.481268\n",
       "21  Marketing        Mid  47398.045975\n",
       "22  Logistics        Mid  48006.808050\n",
       "23  Logistics        Mid  49695.679563\n",
       "24  Marketing        Mid  44906.247707\n",
       "25  Marketing        Mid  57212.458087\n",
       "26  Marketing        Mid  56517.662453\n",
       "27      Sales     Senior  52095.001655\n",
       "28      Sales     Senior  49327.917732\n",
       "29      Sales        Mid  39524.730646\n",
       "30  Logistics     Senior  51053.708357\n",
       "31      Sales     Junior  45718.556419\n",
       "32  Logistics        Mid  48939.192891\n",
       "33  Logistics     Junior  42865.656030\n",
       "34      Sales     Junior  44507.241658\n",
       "35  Logistics        Mid  55790.933265\n",
       "36      Sales     Senior  53285.584350\n",
       "37      Sales     Junior  43572.564479\n",
       "38  Marketing        Mid  58859.310668\n",
       "39      Sales     Junior  42877.766470\n",
       "40  Marketing     Junior  45453.557268\n",
       "41      Sales     Junior  45365.627514\n",
       "42      Sales     Junior  40716.849087\n",
       "43  Marketing     Senior  55160.871379\n",
       "44  Marketing     Junior  53368.668101\n",
       "45      Sales     Junior  40540.236646\n",
       "46  Logistics     Junior  31724.119762\n",
       "47  Marketing     Senior  58727.589719\n",
       "48  Logistics     Junior  43022.417742\n",
       "49  Logistics     Junior  43554.315718"
      ]
     },
     "execution_count": 30,
     "metadata": {},
     "output_type": "execute_result"
    }
   ],
   "source": [
    "df"
   ]
  },
  {
   "cell_type": "code",
   "execution_count": null,
   "id": "22f83d09-4e90-4ad1-8cbb-d9623d1997ae",
   "metadata": {},
   "outputs": [],
   "source": []
  },
  {
   "cell_type": "code",
   "execution_count": 31,
   "id": "68f998f0-fb16-4b4b-a1a7-a6e6e23d3d45",
   "metadata": {},
   "outputs": [],
   "source": [
    "df_depart = df.groupby(\"Department\")"
   ]
  },
  {
   "cell_type": "code",
   "execution_count": 32,
   "id": "e7700034-edb4-437f-b289-bd84ee312579",
   "metadata": {},
   "outputs": [
    {
     "data": {
      "text/plain": [
       "Department\n",
       "Logistics    48198.185959\n",
       "Marketing    54369.758458\n",
       "Sales        46454.917331\n",
       "Name: Salary, dtype: float64"
      ]
     },
     "execution_count": 32,
     "metadata": {},
     "output_type": "execute_result"
    }
   ],
   "source": [
    "df_depart['Salary'].mean()"
   ]
  },
  {
   "cell_type": "code",
   "execution_count": 37,
   "id": "2447588c-c30f-46c7-a79a-e6a68018076e",
   "metadata": {},
   "outputs": [],
   "source": [
    "import statsmodels.api as sm\n",
    "from statsmodels.formula.api import ols"
   ]
  },
  {
   "cell_type": "code",
   "execution_count": 38,
   "id": "df780b2a-b427-4186-9cd0-fd321e5ccf50",
   "metadata": {},
   "outputs": [],
   "source": [
    "model = ols('Salary ~ C(Department) + C(Experience) + C(Department):C(Experience)', data=df).fit()"
   ]
  },
  {
   "cell_type": "code",
   "execution_count": null,
   "id": "da31a001-b283-4383-b58e-513fd5cd7067",
   "metadata": {},
   "outputs": [],
   "source": []
  },
  {
   "cell_type": "code",
   "execution_count": 39,
   "id": "ad45b01b-3a01-4f9c-9325-f48f88327f27",
   "metadata": {},
   "outputs": [],
   "source": [
    "anova_table = sm.stats.anova_lm(model, typ=2)"
   ]
  },
  {
   "cell_type": "code",
   "execution_count": 40,
   "id": "31a8530a-3da6-4b83-b442-a45d0b40294b",
   "metadata": {},
   "outputs": [
    {
     "data": {
      "text/html": [
       "<div>\n",
       "<style scoped>\n",
       "    .dataframe tbody tr th:only-of-type {\n",
       "        vertical-align: middle;\n",
       "    }\n",
       "\n",
       "    .dataframe tbody tr th {\n",
       "        vertical-align: top;\n",
       "    }\n",
       "\n",
       "    .dataframe thead th {\n",
       "        text-align: right;\n",
       "    }\n",
       "</style>\n",
       "<table border=\"1\" class=\"dataframe\">\n",
       "  <thead>\n",
       "    <tr style=\"text-align: right;\">\n",
       "      <th></th>\n",
       "      <th>sum_sq</th>\n",
       "      <th>df</th>\n",
       "      <th>F</th>\n",
       "      <th>PR(&gt;F)</th>\n",
       "    </tr>\n",
       "  </thead>\n",
       "  <tbody>\n",
       "    <tr>\n",
       "      <th>C(Department)</th>\n",
       "      <td>3.544608e+08</td>\n",
       "      <td>2.0</td>\n",
       "      <td>7.097703</td>\n",
       "      <td>0.002255</td>\n",
       "    </tr>\n",
       "    <tr>\n",
       "      <th>C(Experience)</th>\n",
       "      <td>5.870328e+08</td>\n",
       "      <td>2.0</td>\n",
       "      <td>11.754713</td>\n",
       "      <td>0.000092</td>\n",
       "    </tr>\n",
       "    <tr>\n",
       "      <th>C(Department):C(Experience)</th>\n",
       "      <td>1.016781e+08</td>\n",
       "      <td>4.0</td>\n",
       "      <td>1.017999</td>\n",
       "      <td>0.409391</td>\n",
       "    </tr>\n",
       "    <tr>\n",
       "      <th>Residual</th>\n",
       "      <td>1.023774e+09</td>\n",
       "      <td>41.0</td>\n",
       "      <td>NaN</td>\n",
       "      <td>NaN</td>\n",
       "    </tr>\n",
       "  </tbody>\n",
       "</table>\n",
       "</div>"
      ],
      "text/plain": [
       "                                   sum_sq    df          F    PR(>F)\n",
       "C(Department)                3.544608e+08   2.0   7.097703  0.002255\n",
       "C(Experience)                5.870328e+08   2.0  11.754713  0.000092\n",
       "C(Department):C(Experience)  1.016781e+08   4.0   1.017999  0.409391\n",
       "Residual                     1.023774e+09  41.0        NaN       NaN"
      ]
     },
     "execution_count": 40,
     "metadata": {},
     "output_type": "execute_result"
    }
   ],
   "source": [
    "anova_table"
   ]
  },
  {
   "cell_type": "code",
   "execution_count": null,
   "id": "641b6d70-ac72-4af5-b418-2f639dd6490f",
   "metadata": {},
   "outputs": [],
   "source": []
  },
  {
   "cell_type": "code",
   "execution_count": null,
   "id": "0c324f15-42e2-4d9a-9696-1291a0f33d4f",
   "metadata": {},
   "outputs": [],
   "source": []
  },
  {
   "cell_type": "code",
   "execution_count": null,
   "id": "789778f4-a92e-4fea-b481-65cb12e10b4c",
   "metadata": {},
   "outputs": [],
   "source": []
  },
  {
   "cell_type": "code",
   "execution_count": null,
   "id": "40883c3b-48d4-4e9f-8b0b-548d946b23d8",
   "metadata": {},
   "outputs": [],
   "source": []
  },
  {
   "cell_type": "code",
   "execution_count": null,
   "id": "7fd93de9-742c-4919-b4db-a8399d40320e",
   "metadata": {},
   "outputs": [],
   "source": []
  },
  {
   "cell_type": "code",
   "execution_count": null,
   "id": "ee4b27d8-3fb3-4976-945f-d5be923791fa",
   "metadata": {},
   "outputs": [],
   "source": []
  },
  {
   "cell_type": "code",
   "execution_count": null,
   "id": "4485c2aa-5f1a-44f0-bf1f-d218402317ea",
   "metadata": {},
   "outputs": [],
   "source": []
  },
  {
   "cell_type": "code",
   "execution_count": null,
   "id": "1d935942-1b07-47bd-bbcf-0e4012a62de8",
   "metadata": {},
   "outputs": [],
   "source": []
  },
  {
   "cell_type": "code",
   "execution_count": null,
   "id": "8ab7ca34-34a9-49b8-ad68-91fd2c54a99b",
   "metadata": {},
   "outputs": [],
   "source": []
  },
  {
   "cell_type": "code",
   "execution_count": null,
   "id": "da18988c-49bd-4cec-bdcb-7a9745c8d243",
   "metadata": {},
   "outputs": [],
   "source": []
  },
  {
   "cell_type": "code",
   "execution_count": null,
   "id": "101c6930-a8df-4773-a7f6-cb734594b1ee",
   "metadata": {},
   "outputs": [],
   "source": []
  },
  {
   "cell_type": "code",
   "execution_count": null,
   "id": "ab63de67-075e-4792-9858-babfc17687b0",
   "metadata": {},
   "outputs": [],
   "source": []
  },
  {
   "cell_type": "code",
   "execution_count": null,
   "id": "95cf2446-fb11-462a-959b-d0a4ccdb965c",
   "metadata": {},
   "outputs": [],
   "source": []
  },
  {
   "cell_type": "code",
   "execution_count": null,
   "id": "9a43dbcf-deb3-47b3-bdce-19fcc2631c7f",
   "metadata": {},
   "outputs": [],
   "source": []
  },
  {
   "cell_type": "code",
   "execution_count": null,
   "id": "0b7d9548-6e70-4b4c-8867-d3f998e7367f",
   "metadata": {},
   "outputs": [],
   "source": []
  },
  {
   "cell_type": "code",
   "execution_count": null,
   "id": "740cafa3-bc27-4d45-bd10-7b3c66a03670",
   "metadata": {},
   "outputs": [],
   "source": []
  },
  {
   "cell_type": "code",
   "execution_count": null,
   "id": "a456d6c2-1261-454e-ab16-b6f8bc862a00",
   "metadata": {},
   "outputs": [],
   "source": []
  },
  {
   "cell_type": "code",
   "execution_count": null,
   "id": "9f5716e7-e8f6-4455-9c06-ebdc3df98fd0",
   "metadata": {},
   "outputs": [],
   "source": []
  },
  {
   "cell_type": "code",
   "execution_count": null,
   "id": "3eb921fa-14fa-4a64-ac50-324492c86343",
   "metadata": {},
   "outputs": [],
   "source": []
  }
 ],
 "metadata": {
  "kernelspec": {
   "display_name": "Python [conda env:base] *",
   "language": "python",
   "name": "conda-base-py"
  },
  "language_info": {
   "codemirror_mode": {
    "name": "ipython",
    "version": 3
   },
   "file_extension": ".py",
   "mimetype": "text/x-python",
   "name": "python",
   "nbconvert_exporter": "python",
   "pygments_lexer": "ipython3",
   "version": "3.13.5"
  }
 },
 "nbformat": 4,
 "nbformat_minor": 5
}
