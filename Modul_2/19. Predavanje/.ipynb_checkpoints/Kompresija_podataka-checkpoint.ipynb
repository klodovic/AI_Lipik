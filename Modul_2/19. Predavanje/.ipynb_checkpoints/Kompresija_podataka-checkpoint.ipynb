{
 "cells": [
  {
   "cell_type": "code",
   "execution_count": 2,
   "id": "3cdb7e23-d20a-41f5-ac44-2a227aac4494",
   "metadata": {},
   "outputs": [],
   "source": [
    "import pandas as pd\n",
    "import matplotlib.pyplot as plt\n",
    "import numpy as np\n",
    "import seaborn as sns\n",
    "from scipy import stats"
   ]
  },
  {
   "cell_type": "code",
   "execution_count": null,
   "id": "20959668-db15-4913-a3e4-3bde416af9e7",
   "metadata": {},
   "outputs": [],
   "source": []
  },
  {
   "cell_type": "code",
   "execution_count": 3,
   "id": "8605e32a-f27f-46bf-9547-563058fbd1d8",
   "metadata": {},
   "outputs": [],
   "source": [
    "#### rad s velikim datasetovima - kompresija podataka...."
   ]
  },
  {
   "cell_type": "code",
   "execution_count": null,
   "id": "65f3ad55-27ab-44ef-a020-122fc7aa5207",
   "metadata": {},
   "outputs": [],
   "source": []
  },
  {
   "cell_type": "code",
   "execution_count": 4,
   "id": "9eb53a73-08df-40e1-827b-2381cfede484",
   "metadata": {},
   "outputs": [],
   "source": [
    "allianz = pd.read_excel(\"Allianz2_kolone.xlsx\")"
   ]
  },
  {
   "cell_type": "code",
   "execution_count": 7,
   "id": "e8049098-66ad-4fb3-8960-b066e23279f7",
   "metadata": {},
   "outputs": [
    {
     "data": {
      "text/html": [
       "<div>\n",
       "<style scoped>\n",
       "    .dataframe tbody tr th:only-of-type {\n",
       "        vertical-align: middle;\n",
       "    }\n",
       "\n",
       "    .dataframe tbody tr th {\n",
       "        vertical-align: top;\n",
       "    }\n",
       "\n",
       "    .dataframe thead th {\n",
       "        text-align: right;\n",
       "    }\n",
       "</style>\n",
       "<table border=\"1\" class=\"dataframe\">\n",
       "  <thead>\n",
       "    <tr style=\"text-align: right;\">\n",
       "      <th></th>\n",
       "      <th>City</th>\n",
       "      <th>GeNdeR_oF_CustoMer</th>\n",
       "      <th>Age</th>\n",
       "      <th>InCoMe</th>\n",
       "      <th>ILLness</th>\n",
       "    </tr>\n",
       "  </thead>\n",
       "  <tbody>\n",
       "    <tr>\n",
       "      <th>0</th>\n",
       "      <td>Dallas</td>\n",
       "      <td>Male</td>\n",
       "      <td>41.0</td>\n",
       "      <td>40367.0</td>\n",
       "      <td>No</td>\n",
       "    </tr>\n",
       "    <tr>\n",
       "      <th>1</th>\n",
       "      <td>Dallas</td>\n",
       "      <td>Male</td>\n",
       "      <td>54.0</td>\n",
       "      <td>45084.0</td>\n",
       "      <td>No</td>\n",
       "    </tr>\n",
       "    <tr>\n",
       "      <th>2</th>\n",
       "      <td>Dallas</td>\n",
       "      <td>male</td>\n",
       "      <td>42.0</td>\n",
       "      <td>52483.0</td>\n",
       "      <td>No</td>\n",
       "    </tr>\n",
       "    <tr>\n",
       "      <th>3</th>\n",
       "      <td>Dallas</td>\n",
       "      <td>Male</td>\n",
       "      <td>40.0</td>\n",
       "      <td>40941.0</td>\n",
       "      <td>No</td>\n",
       "    </tr>\n",
       "    <tr>\n",
       "      <th>4</th>\n",
       "      <td>Dallas</td>\n",
       "      <td>male</td>\n",
       "      <td>46.0</td>\n",
       "      <td>50289.0</td>\n",
       "      <td>No</td>\n",
       "    </tr>\n",
       "    <tr>\n",
       "      <th>...</th>\n",
       "      <td>...</td>\n",
       "      <td>...</td>\n",
       "      <td>...</td>\n",
       "      <td>...</td>\n",
       "      <td>...</td>\n",
       "    </tr>\n",
       "    <tr>\n",
       "      <th>149995</th>\n",
       "      <td>Austin</td>\n",
       "      <td>Male</td>\n",
       "      <td>48.0</td>\n",
       "      <td>93669.0</td>\n",
       "      <td>No</td>\n",
       "    </tr>\n",
       "    <tr>\n",
       "      <th>149996</th>\n",
       "      <td>Austin</td>\n",
       "      <td>Male</td>\n",
       "      <td>25.0</td>\n",
       "      <td>96748.0</td>\n",
       "      <td>No</td>\n",
       "    </tr>\n",
       "    <tr>\n",
       "      <th>149997</th>\n",
       "      <td>Austin</td>\n",
       "      <td>Male</td>\n",
       "      <td>26.0</td>\n",
       "      <td>111885.0</td>\n",
       "      <td>No</td>\n",
       "    </tr>\n",
       "    <tr>\n",
       "      <th>149998</th>\n",
       "      <td>Austin</td>\n",
       "      <td>Male</td>\n",
       "      <td>25.0</td>\n",
       "      <td>111878.0</td>\n",
       "      <td>No</td>\n",
       "    </tr>\n",
       "    <tr>\n",
       "      <th>149999</th>\n",
       "      <td>Austin</td>\n",
       "      <td>Female</td>\n",
       "      <td>37.0</td>\n",
       "      <td>87251.0</td>\n",
       "      <td>No</td>\n",
       "    </tr>\n",
       "  </tbody>\n",
       "</table>\n",
       "<p>150000 rows × 5 columns</p>\n",
       "</div>"
      ],
      "text/plain": [
       "          City GeNdeR_oF_CustoMer   Age    InCoMe ILLness\n",
       "0       Dallas               Male  41.0   40367.0      No\n",
       "1       Dallas               Male  54.0   45084.0      No\n",
       "2       Dallas               male  42.0   52483.0      No\n",
       "3       Dallas               Male  40.0   40941.0      No\n",
       "4       Dallas               male  46.0   50289.0      No\n",
       "...        ...                ...   ...       ...     ...\n",
       "149995  Austin               Male  48.0   93669.0      No\n",
       "149996  Austin               Male  25.0   96748.0      No\n",
       "149997  Austin               Male  26.0  111885.0      No\n",
       "149998  Austin               Male  25.0  111878.0      No\n",
       "149999  Austin             Female  37.0   87251.0      No\n",
       "\n",
       "[150000 rows x 5 columns]"
      ]
     },
     "execution_count": 7,
     "metadata": {},
     "output_type": "execute_result"
    }
   ],
   "source": [
    "allianz"
   ]
  },
  {
   "cell_type": "code",
   "execution_count": 6,
   "id": "dedcffd1-6e6c-4cef-a752-64817a68b694",
   "metadata": {},
   "outputs": [
    {
     "data": {
      "text/plain": [
       "Index                     132\n",
       "City                  1200000\n",
       "GeNdeR_oF_CustoMer    1200000\n",
       "Age                   1200000\n",
       "InCoMe                1200000\n",
       "ILLness               1200000\n",
       "dtype: int64"
      ]
     },
     "execution_count": 6,
     "metadata": {},
     "output_type": "execute_result"
    }
   ],
   "source": [
    "allianz.memory_usage()"
   ]
  },
  {
   "cell_type": "code",
   "execution_count": null,
   "id": "70dd8a5d-a011-4d27-b457-60612ec969fc",
   "metadata": {},
   "outputs": [],
   "source": []
  },
  {
   "cell_type": "code",
   "execution_count": 8,
   "id": "4ffb0329-fc11-4304-911e-6783bd0347c6",
   "metadata": {},
   "outputs": [
    {
     "data": {
      "text/plain": [
       "np.int64(6000132)"
      ]
     },
     "execution_count": 8,
     "metadata": {},
     "output_type": "execute_result"
    }
   ],
   "source": [
    "allianz.memory_usage().sum()"
   ]
  },
  {
   "cell_type": "code",
   "execution_count": 9,
   "id": "368468c5-3d44-4967-ad88-a953eb6a73f1",
   "metadata": {},
   "outputs": [
    {
     "name": "stdout",
     "output_type": "stream",
     "text": [
      "<class 'pandas.core.frame.DataFrame'>\n",
      "RangeIndex: 150000 entries, 0 to 149999\n",
      "Data columns (total 5 columns):\n",
      " #   Column              Non-Null Count   Dtype  \n",
      "---  ------              --------------   -----  \n",
      " 0   City                149998 non-null  object \n",
      " 1   GeNdeR_oF_CustoMer  149998 non-null  object \n",
      " 2   Age                 149998 non-null  float64\n",
      " 3   InCoMe              149998 non-null  float64\n",
      " 4   ILLness             150000 non-null  object \n",
      "dtypes: float64(2), object(3)\n",
      "memory usage: 5.7+ MB\n"
     ]
    }
   ],
   "source": [
    "allianz.info()"
   ]
  },
  {
   "cell_type": "code",
   "execution_count": null,
   "id": "5a2bdb7b-7bf8-4741-9b08-5e3c71f12508",
   "metadata": {},
   "outputs": [],
   "source": []
  },
  {
   "cell_type": "code",
   "execution_count": null,
   "id": "51d6c544-82dd-4a88-86dc-559b956b2394",
   "metadata": {},
   "outputs": [],
   "source": [
    "### Metoda 1"
   ]
  },
  {
   "cell_type": "code",
   "execution_count": null,
   "id": "04ec9269-c8ee-42f6-9e84-ca41f69e8fac",
   "metadata": {},
   "outputs": [],
   "source": []
  },
  {
   "cell_type": "code",
   "execution_count": 10,
   "id": "dae92068-f8ff-45ae-bc97-922128a0212b",
   "metadata": {},
   "outputs": [],
   "source": [
    "allianz['Age'] = pd.to_numeric(allianz['Age'], downcast='float')"
   ]
  },
  {
   "cell_type": "code",
   "execution_count": 11,
   "id": "898fd090-21bc-460d-baa8-cbfcbe8aefb5",
   "metadata": {},
   "outputs": [
    {
     "name": "stdout",
     "output_type": "stream",
     "text": [
      "<class 'pandas.core.frame.DataFrame'>\n",
      "RangeIndex: 150000 entries, 0 to 149999\n",
      "Data columns (total 5 columns):\n",
      " #   Column              Non-Null Count   Dtype  \n",
      "---  ------              --------------   -----  \n",
      " 0   City                149998 non-null  object \n",
      " 1   GeNdeR_oF_CustoMer  149998 non-null  object \n",
      " 2   Age                 149998 non-null  float32\n",
      " 3   InCoMe              149998 non-null  float64\n",
      " 4   ILLness             150000 non-null  object \n",
      "dtypes: float32(1), float64(1), object(3)\n",
      "memory usage: 5.1+ MB\n"
     ]
    }
   ],
   "source": [
    "allianz.info()"
   ]
  },
  {
   "cell_type": "code",
   "execution_count": null,
   "id": "70ab7bf2-7a14-4170-a9b0-c82195adc4fe",
   "metadata": {},
   "outputs": [],
   "source": []
  },
  {
   "cell_type": "code",
   "execution_count": 12,
   "id": "e740c670-029a-4982-a16f-3aaef37e6be1",
   "metadata": {},
   "outputs": [],
   "source": [
    "allianz['InCoMe'] = pd.to_numeric(allianz['InCoMe'], downcast='float')"
   ]
  },
  {
   "cell_type": "code",
   "execution_count": 13,
   "id": "59235d3e-5b7e-4e07-9937-6abcfcc5933f",
   "metadata": {},
   "outputs": [
    {
     "name": "stdout",
     "output_type": "stream",
     "text": [
      "<class 'pandas.core.frame.DataFrame'>\n",
      "RangeIndex: 150000 entries, 0 to 149999\n",
      "Data columns (total 5 columns):\n",
      " #   Column              Non-Null Count   Dtype  \n",
      "---  ------              --------------   -----  \n",
      " 0   City                149998 non-null  object \n",
      " 1   GeNdeR_oF_CustoMer  149998 non-null  object \n",
      " 2   Age                 149998 non-null  float32\n",
      " 3   InCoMe              149998 non-null  float32\n",
      " 4   ILLness             150000 non-null  object \n",
      "dtypes: float32(2), object(3)\n",
      "memory usage: 4.6+ MB\n"
     ]
    }
   ],
   "source": [
    "allianz.info()"
   ]
  },
  {
   "cell_type": "code",
   "execution_count": null,
   "id": "8aab4f69-6ea7-4032-92e2-f4183b0819fc",
   "metadata": {},
   "outputs": [],
   "source": []
  },
  {
   "cell_type": "code",
   "execution_count": 14,
   "id": "88046330-667e-410e-9809-cdf9587d99af",
   "metadata": {},
   "outputs": [],
   "source": [
    "bike_buyers = pd.read_csv(\"bike_buyers_clean.csv\")"
   ]
  },
  {
   "cell_type": "code",
   "execution_count": 15,
   "id": "292e6300-27f8-4517-9173-5ab25ce4ba5d",
   "metadata": {},
   "outputs": [
    {
     "name": "stdout",
     "output_type": "stream",
     "text": [
      "<class 'pandas.core.frame.DataFrame'>\n",
      "RangeIndex: 1000 entries, 0 to 999\n",
      "Data columns (total 13 columns):\n",
      " #   Column            Non-Null Count  Dtype \n",
      "---  ------            --------------  ----- \n",
      " 0   ID                1000 non-null   int64 \n",
      " 1   Marital Status    1000 non-null   object\n",
      " 2   Gender            1000 non-null   object\n",
      " 3   Income            1000 non-null   int64 \n",
      " 4   Children          1000 non-null   int64 \n",
      " 5   Education         1000 non-null   object\n",
      " 6   Occupation        1000 non-null   object\n",
      " 7   Home Owner        1000 non-null   object\n",
      " 8   Cars              1000 non-null   int64 \n",
      " 9   Commute Distance  1000 non-null   object\n",
      " 10  Region            1000 non-null   object\n",
      " 11  Age               1000 non-null   int64 \n",
      " 12  Purchased Bike    1000 non-null   object\n",
      "dtypes: int64(5), object(8)\n",
      "memory usage: 101.7+ KB\n"
     ]
    }
   ],
   "source": [
    "bike_buyers.info()"
   ]
  },
  {
   "cell_type": "code",
   "execution_count": null,
   "id": "b89ab066-f7d8-42ce-bd94-06d5d00c05b9",
   "metadata": {},
   "outputs": [],
   "source": []
  },
  {
   "cell_type": "code",
   "execution_count": 17,
   "id": "8d1e0ed8-bb88-4866-81d9-4aa7f126984c",
   "metadata": {},
   "outputs": [],
   "source": [
    "icols = bike_buyers.select_dtypes('integer').columns"
   ]
  },
  {
   "cell_type": "code",
   "execution_count": 18,
   "id": "7b107c38-b5ce-4e69-aafc-e25dfc08d9c5",
   "metadata": {},
   "outputs": [
    {
     "data": {
      "text/plain": [
       "Index(['ID', 'Income', 'Children', 'Cars', 'Age'], dtype='object')"
      ]
     },
     "execution_count": 18,
     "metadata": {},
     "output_type": "execute_result"
    }
   ],
   "source": [
    "icols"
   ]
  },
  {
   "cell_type": "code",
   "execution_count": null,
   "id": "ab870c07-0e6c-46f9-8114-ab71e2d44be4",
   "metadata": {},
   "outputs": [],
   "source": []
  },
  {
   "cell_type": "code",
   "execution_count": 20,
   "id": "9542c1d5-0a30-4fd5-b270-2914b7969e6c",
   "metadata": {},
   "outputs": [],
   "source": [
    "bike_buyers[icols] = bike_buyers[icols].apply(pd.to_numeric, downcast='integer')"
   ]
  },
  {
   "cell_type": "code",
   "execution_count": null,
   "id": "7953969d-0fdd-4e77-86f8-c5af4b88d1dd",
   "metadata": {},
   "outputs": [],
   "source": []
  },
  {
   "cell_type": "code",
   "execution_count": 21,
   "id": "8c73b5bb-9102-40ac-b63b-726f64f1ade4",
   "metadata": {},
   "outputs": [
    {
     "name": "stdout",
     "output_type": "stream",
     "text": [
      "<class 'pandas.core.frame.DataFrame'>\n",
      "RangeIndex: 1000 entries, 0 to 999\n",
      "Data columns (total 13 columns):\n",
      " #   Column            Non-Null Count  Dtype \n",
      "---  ------            --------------  ----- \n",
      " 0   ID                1000 non-null   int16 \n",
      " 1   Marital Status    1000 non-null   object\n",
      " 2   Gender            1000 non-null   object\n",
      " 3   Income            1000 non-null   int32 \n",
      " 4   Children          1000 non-null   int8  \n",
      " 5   Education         1000 non-null   object\n",
      " 6   Occupation        1000 non-null   object\n",
      " 7   Home Owner        1000 non-null   object\n",
      " 8   Cars              1000 non-null   int8  \n",
      " 9   Commute Distance  1000 non-null   object\n",
      " 10  Region            1000 non-null   object\n",
      " 11  Age               1000 non-null   int8  \n",
      " 12  Purchased Bike    1000 non-null   object\n",
      "dtypes: int16(1), int32(1), int8(3), object(8)\n",
      "memory usage: 71.4+ KB\n"
     ]
    }
   ],
   "source": [
    "bike_buyers.info()"
   ]
  },
  {
   "cell_type": "code",
   "execution_count": null,
   "id": "d18a2ce6-78fd-4bf1-b722-21fc43fa9645",
   "metadata": {},
   "outputs": [],
   "source": []
  },
  {
   "cell_type": "code",
   "execution_count": null,
   "id": "546dd84f-5c88-4354-985c-c9068b48dc6a",
   "metadata": {},
   "outputs": [],
   "source": [
    "### Category data type"
   ]
  },
  {
   "cell_type": "code",
   "execution_count": 23,
   "id": "16904991-b5cf-4406-a90e-bf23e2833e47",
   "metadata": {},
   "outputs": [
    {
     "data": {
      "text/plain": [
       "Education\n",
       "Bachelors              306\n",
       "Partial College        265\n",
       "High School            179\n",
       "Graduate Degree        174\n",
       "Partial High School     76\n",
       "Name: count, dtype: int64"
      ]
     },
     "execution_count": 23,
     "metadata": {},
     "output_type": "execute_result"
    }
   ],
   "source": [
    "bike_buyers.Education.value_counts()"
   ]
  },
  {
   "cell_type": "code",
   "execution_count": 24,
   "id": "1f270989-fab0-40a4-a4b7-bb794f1deb9e",
   "metadata": {},
   "outputs": [],
   "source": [
    "bike_buyers[\"Education\"] = bike_buyers[\"Education\"].astype(\"category\")"
   ]
  },
  {
   "cell_type": "code",
   "execution_count": 25,
   "id": "224c8166-32dd-4bae-a1a9-f3aa0b95d262",
   "metadata": {},
   "outputs": [
    {
     "name": "stdout",
     "output_type": "stream",
     "text": [
      "<class 'pandas.core.frame.DataFrame'>\n",
      "RangeIndex: 1000 entries, 0 to 999\n",
      "Data columns (total 13 columns):\n",
      " #   Column            Non-Null Count  Dtype   \n",
      "---  ------            --------------  -----   \n",
      " 0   ID                1000 non-null   int16   \n",
      " 1   Marital Status    1000 non-null   object  \n",
      " 2   Gender            1000 non-null   object  \n",
      " 3   Income            1000 non-null   int32   \n",
      " 4   Children          1000 non-null   int8    \n",
      " 5   Education         1000 non-null   category\n",
      " 6   Occupation        1000 non-null   object  \n",
      " 7   Home Owner        1000 non-null   object  \n",
      " 8   Cars              1000 non-null   int8    \n",
      " 9   Commute Distance  1000 non-null   object  \n",
      " 10  Region            1000 non-null   object  \n",
      " 11  Age               1000 non-null   int8    \n",
      " 12  Purchased Bike    1000 non-null   object  \n",
      "dtypes: category(1), int16(1), int32(1), int8(3), object(7)\n",
      "memory usage: 64.8+ KB\n"
     ]
    }
   ],
   "source": [
    "bike_buyers.info()"
   ]
  },
  {
   "cell_type": "code",
   "execution_count": null,
   "id": "0f59e2eb-d79b-4b16-8232-e3235a0cc0db",
   "metadata": {},
   "outputs": [],
   "source": []
  },
  {
   "cell_type": "code",
   "execution_count": 26,
   "id": "283f5ddd-86b6-4cb4-ab92-3053c3172ebf",
   "metadata": {},
   "outputs": [],
   "source": [
    "turisti = pd.read_excel(\"Turisti.xlsx\")"
   ]
  },
  {
   "cell_type": "code",
   "execution_count": 27,
   "id": "10a6320c-064e-455d-bdcf-47ff0ec91e30",
   "metadata": {},
   "outputs": [
    {
     "data": {
      "text/html": [
       "<div>\n",
       "<style scoped>\n",
       "    .dataframe tbody tr th:only-of-type {\n",
       "        vertical-align: middle;\n",
       "    }\n",
       "\n",
       "    .dataframe tbody tr th {\n",
       "        vertical-align: top;\n",
       "    }\n",
       "\n",
       "    .dataframe thead th {\n",
       "        text-align: right;\n",
       "    }\n",
       "</style>\n",
       "<table border=\"1\" class=\"dataframe\">\n",
       "  <thead>\n",
       "    <tr style=\"text-align: right;\">\n",
       "      <th></th>\n",
       "      <th>Country</th>\n",
       "      <th>City</th>\n",
       "      <th>NoDays</th>\n",
       "      <th>Motivation</th>\n",
       "      <th>Price</th>\n",
       "      <th>NrPeople</th>\n",
       "      <th>NrCh</th>\n",
       "      <th>Service</th>\n",
       "      <th>Transport</th>\n",
       "      <th>Loyalty</th>\n",
       "      <th>Paymenttype</th>\n",
       "    </tr>\n",
       "  </thead>\n",
       "  <tbody>\n",
       "    <tr>\n",
       "      <th>0</th>\n",
       "      <td>Italija</td>\n",
       "      <td>Padova</td>\n",
       "      <td>10.0</td>\n",
       "      <td>tourism</td>\n",
       "      <td>1700.0</td>\n",
       "      <td>4.0</td>\n",
       "      <td>2.0</td>\n",
       "      <td>700.0</td>\n",
       "      <td>bus</td>\n",
       "      <td>6.0</td>\n",
       "      <td>2.0</td>\n",
       "    </tr>\n",
       "    <tr>\n",
       "      <th>1</th>\n",
       "      <td>Portugal</td>\n",
       "      <td>Lisbon</td>\n",
       "      <td>11.0</td>\n",
       "      <td>tourism</td>\n",
       "      <td>2475.0</td>\n",
       "      <td>6.0</td>\n",
       "      <td>4.0</td>\n",
       "      <td>250.0</td>\n",
       "      <td>train</td>\n",
       "      <td>3.0</td>\n",
       "      <td>2.0</td>\n",
       "    </tr>\n",
       "    <tr>\n",
       "      <th>2</th>\n",
       "      <td>Italija</td>\n",
       "      <td>Milano</td>\n",
       "      <td>5.0</td>\n",
       "      <td>tourism</td>\n",
       "      <td>850.0</td>\n",
       "      <td>5.0</td>\n",
       "      <td>4.0</td>\n",
       "      <td>250.0</td>\n",
       "      <td>airplane</td>\n",
       "      <td>4.0</td>\n",
       "      <td>1.0</td>\n",
       "    </tr>\n",
       "    <tr>\n",
       "      <th>3</th>\n",
       "      <td>Španjolska</td>\n",
       "      <td>Barcelona</td>\n",
       "      <td>7.0</td>\n",
       "      <td>tourism</td>\n",
       "      <td>1505.0</td>\n",
       "      <td>5.0</td>\n",
       "      <td>3.0</td>\n",
       "      <td>500.0</td>\n",
       "      <td>bus</td>\n",
       "      <td>4.0</td>\n",
       "      <td>1.0</td>\n",
       "    </tr>\n",
       "    <tr>\n",
       "      <th>4</th>\n",
       "      <td>Njemačka</td>\n",
       "      <td>Berlin</td>\n",
       "      <td>12.0</td>\n",
       "      <td>tourism</td>\n",
       "      <td>2280.0</td>\n",
       "      <td>4.0</td>\n",
       "      <td>2.0</td>\n",
       "      <td>700.0</td>\n",
       "      <td>train</td>\n",
       "      <td>5.0</td>\n",
       "      <td>2.0</td>\n",
       "    </tr>\n",
       "    <tr>\n",
       "      <th>...</th>\n",
       "      <td>...</td>\n",
       "      <td>...</td>\n",
       "      <td>...</td>\n",
       "      <td>...</td>\n",
       "      <td>...</td>\n",
       "      <td>...</td>\n",
       "      <td>...</td>\n",
       "      <td>...</td>\n",
       "      <td>...</td>\n",
       "      <td>...</td>\n",
       "      <td>...</td>\n",
       "    </tr>\n",
       "    <tr>\n",
       "      <th>295</th>\n",
       "      <td>Italija</td>\n",
       "      <td>Rome</td>\n",
       "      <td>5.0</td>\n",
       "      <td>business</td>\n",
       "      <td>850.0</td>\n",
       "      <td>1.0</td>\n",
       "      <td>0.0</td>\n",
       "      <td>1000.0</td>\n",
       "      <td>airplane</td>\n",
       "      <td>2.0</td>\n",
       "      <td>2.0</td>\n",
       "    </tr>\n",
       "    <tr>\n",
       "      <th>296</th>\n",
       "      <td>Portugal</td>\n",
       "      <td>Lisbon</td>\n",
       "      <td>11.0</td>\n",
       "      <td>tourism</td>\n",
       "      <td>2475.0</td>\n",
       "      <td>3.0</td>\n",
       "      <td>1.0</td>\n",
       "      <td>1000.0</td>\n",
       "      <td>train</td>\n",
       "      <td>4.0</td>\n",
       "      <td>2.0</td>\n",
       "    </tr>\n",
       "    <tr>\n",
       "      <th>297</th>\n",
       "      <td>Italija</td>\n",
       "      <td>Padova</td>\n",
       "      <td>10.0</td>\n",
       "      <td>tourism</td>\n",
       "      <td>1700.0</td>\n",
       "      <td>3.0</td>\n",
       "      <td>1.0</td>\n",
       "      <td>1000.0</td>\n",
       "      <td>bus</td>\n",
       "      <td>2.0</td>\n",
       "      <td>1.0</td>\n",
       "    </tr>\n",
       "    <tr>\n",
       "      <th>298</th>\n",
       "      <td>Island</td>\n",
       "      <td>Reykjavík</td>\n",
       "      <td>10.0</td>\n",
       "      <td>tourism</td>\n",
       "      <td>2500.0</td>\n",
       "      <td>4.0</td>\n",
       "      <td>2.0</td>\n",
       "      <td>700.0</td>\n",
       "      <td>Airplane</td>\n",
       "      <td>5.0</td>\n",
       "      <td>1.0</td>\n",
       "    </tr>\n",
       "    <tr>\n",
       "      <th>299</th>\n",
       "      <td>Island</td>\n",
       "      <td>Reykjavík</td>\n",
       "      <td>10.0</td>\n",
       "      <td>tourism</td>\n",
       "      <td>2500.0</td>\n",
       "      <td>3.0</td>\n",
       "      <td>1.0</td>\n",
       "      <td>1000.0</td>\n",
       "      <td>Airplane</td>\n",
       "      <td>6.0</td>\n",
       "      <td>2.0</td>\n",
       "    </tr>\n",
       "  </tbody>\n",
       "</table>\n",
       "<p>300 rows × 11 columns</p>\n",
       "</div>"
      ],
      "text/plain": [
       "        Country       City  NoDays Motivation   Price  NrPeople  NrCh  \\\n",
       "0       Italija     Padova    10.0    tourism  1700.0       4.0   2.0   \n",
       "1      Portugal     Lisbon    11.0    tourism  2475.0       6.0   4.0   \n",
       "2       Italija     Milano     5.0    tourism   850.0       5.0   4.0   \n",
       "3    Španjolska  Barcelona     7.0    tourism  1505.0       5.0   3.0   \n",
       "4      Njemačka     Berlin    12.0    tourism  2280.0       4.0   2.0   \n",
       "..          ...        ...     ...        ...     ...       ...   ...   \n",
       "295     Italija       Rome     5.0   business   850.0       1.0   0.0   \n",
       "296    Portugal     Lisbon    11.0    tourism  2475.0       3.0   1.0   \n",
       "297     Italija     Padova    10.0    tourism  1700.0       3.0   1.0   \n",
       "298      Island  Reykjavík    10.0    tourism  2500.0       4.0   2.0   \n",
       "299      Island  Reykjavík    10.0    tourism  2500.0       3.0   1.0   \n",
       "\n",
       "     Service Transport  Loyalty  Paymenttype  \n",
       "0      700.0       bus      6.0          2.0  \n",
       "1      250.0     train      3.0          2.0  \n",
       "2      250.0  airplane      4.0          1.0  \n",
       "3      500.0       bus      4.0          1.0  \n",
       "4      700.0     train      5.0          2.0  \n",
       "..       ...       ...      ...          ...  \n",
       "295   1000.0  airplane      2.0          2.0  \n",
       "296   1000.0     train      4.0          2.0  \n",
       "297   1000.0       bus      2.0          1.0  \n",
       "298    700.0  Airplane      5.0          1.0  \n",
       "299   1000.0  Airplane      6.0          2.0  \n",
       "\n",
       "[300 rows x 11 columns]"
      ]
     },
     "execution_count": 27,
     "metadata": {},
     "output_type": "execute_result"
    }
   ],
   "source": [
    "turisti"
   ]
  },
  {
   "cell_type": "code",
   "execution_count": null,
   "id": "06b28613-f8d2-4066-b6a4-64bd03080172",
   "metadata": {},
   "outputs": [],
   "source": []
  },
  {
   "cell_type": "code",
   "execution_count": 28,
   "id": "464b695e-0ec3-45a2-b699-6db426d77389",
   "metadata": {},
   "outputs": [
    {
     "data": {
      "text/html": [
       "<div>\n",
       "<style scoped>\n",
       "    .dataframe tbody tr th:only-of-type {\n",
       "        vertical-align: middle;\n",
       "    }\n",
       "\n",
       "    .dataframe tbody tr th {\n",
       "        vertical-align: top;\n",
       "    }\n",
       "\n",
       "    .dataframe thead th {\n",
       "        text-align: right;\n",
       "    }\n",
       "</style>\n",
       "<table border=\"1\" class=\"dataframe\">\n",
       "  <thead>\n",
       "    <tr style=\"text-align: right;\">\n",
       "      <th></th>\n",
       "      <th>NoDays</th>\n",
       "      <th>Price</th>\n",
       "      <th>NrPeople</th>\n",
       "      <th>NrCh</th>\n",
       "      <th>Service</th>\n",
       "      <th>Loyalty</th>\n",
       "      <th>Paymenttype</th>\n",
       "    </tr>\n",
       "  </thead>\n",
       "  <tbody>\n",
       "    <tr>\n",
       "      <th>count</th>\n",
       "      <td>299.000000</td>\n",
       "      <td>299.000000</td>\n",
       "      <td>298.000000</td>\n",
       "      <td>298.000000</td>\n",
       "      <td>299.000000</td>\n",
       "      <td>299.000000</td>\n",
       "      <td>299.000000</td>\n",
       "    </tr>\n",
       "    <tr>\n",
       "      <th>mean</th>\n",
       "      <td>8.187291</td>\n",
       "      <td>2228.377926</td>\n",
       "      <td>3.174497</td>\n",
       "      <td>2.194631</td>\n",
       "      <td>794.481605</td>\n",
       "      <td>3.608696</td>\n",
       "      <td>1.936455</td>\n",
       "    </tr>\n",
       "    <tr>\n",
       "      <th>std</th>\n",
       "      <td>2.261074</td>\n",
       "      <td>9749.828055</td>\n",
       "      <td>1.498513</td>\n",
       "      <td>12.831557</td>\n",
       "      <td>224.680195</td>\n",
       "      <td>1.746730</td>\n",
       "      <td>0.785337</td>\n",
       "    </tr>\n",
       "    <tr>\n",
       "      <th>min</th>\n",
       "      <td>5.000000</td>\n",
       "      <td>85.000000</td>\n",
       "      <td>1.000000</td>\n",
       "      <td>0.000000</td>\n",
       "      <td>250.000000</td>\n",
       "      <td>1.000000</td>\n",
       "      <td>1.000000</td>\n",
       "    </tr>\n",
       "    <tr>\n",
       "      <th>25%</th>\n",
       "      <td>7.000000</td>\n",
       "      <td>1190.000000</td>\n",
       "      <td>2.000000</td>\n",
       "      <td>0.000000</td>\n",
       "      <td>700.000000</td>\n",
       "      <td>2.000000</td>\n",
       "      <td>1.000000</td>\n",
       "    </tr>\n",
       "    <tr>\n",
       "      <th>50%</th>\n",
       "      <td>9.000000</td>\n",
       "      <td>1700.000000</td>\n",
       "      <td>4.000000</td>\n",
       "      <td>2.000000</td>\n",
       "      <td>700.000000</td>\n",
       "      <td>4.000000</td>\n",
       "      <td>2.000000</td>\n",
       "    </tr>\n",
       "    <tr>\n",
       "      <th>75%</th>\n",
       "      <td>10.000000</td>\n",
       "      <td>2070.000000</td>\n",
       "      <td>4.000000</td>\n",
       "      <td>2.000000</td>\n",
       "      <td>1000.000000</td>\n",
       "      <td>5.000000</td>\n",
       "      <td>3.000000</td>\n",
       "    </tr>\n",
       "    <tr>\n",
       "      <th>max</th>\n",
       "      <td>12.000000</td>\n",
       "      <td>170000.000000</td>\n",
       "      <td>6.000000</td>\n",
       "      <td>222.000000</td>\n",
       "      <td>1000.000000</td>\n",
       "      <td>6.000000</td>\n",
       "      <td>3.000000</td>\n",
       "    </tr>\n",
       "  </tbody>\n",
       "</table>\n",
       "</div>"
      ],
      "text/plain": [
       "           NoDays          Price    NrPeople        NrCh      Service  \\\n",
       "count  299.000000     299.000000  298.000000  298.000000   299.000000   \n",
       "mean     8.187291    2228.377926    3.174497    2.194631   794.481605   \n",
       "std      2.261074    9749.828055    1.498513   12.831557   224.680195   \n",
       "min      5.000000      85.000000    1.000000    0.000000   250.000000   \n",
       "25%      7.000000    1190.000000    2.000000    0.000000   700.000000   \n",
       "50%      9.000000    1700.000000    4.000000    2.000000   700.000000   \n",
       "75%     10.000000    2070.000000    4.000000    2.000000  1000.000000   \n",
       "max     12.000000  170000.000000    6.000000  222.000000  1000.000000   \n",
       "\n",
       "          Loyalty  Paymenttype  \n",
       "count  299.000000   299.000000  \n",
       "mean     3.608696     1.936455  \n",
       "std      1.746730     0.785337  \n",
       "min      1.000000     1.000000  \n",
       "25%      2.000000     1.000000  \n",
       "50%      4.000000     2.000000  \n",
       "75%      5.000000     3.000000  \n",
       "max      6.000000     3.000000  "
      ]
     },
     "execution_count": 28,
     "metadata": {},
     "output_type": "execute_result"
    }
   ],
   "source": [
    "turisti.describe()"
   ]
  },
  {
   "cell_type": "code",
   "execution_count": null,
   "id": "f3f4351c-b176-444a-b43d-5d80c41a7337",
   "metadata": {},
   "outputs": [],
   "source": []
  },
  {
   "cell_type": "code",
   "execution_count": 29,
   "id": "cc46e8a6-68b9-4f51-a0da-65b6b78113fb",
   "metadata": {},
   "outputs": [
    {
     "name": "stdout",
     "output_type": "stream",
     "text": [
      "<class 'pandas.core.frame.DataFrame'>\n",
      "RangeIndex: 300 entries, 0 to 299\n",
      "Data columns (total 11 columns):\n",
      " #   Column       Non-Null Count  Dtype  \n",
      "---  ------       --------------  -----  \n",
      " 0   Country      299 non-null    object \n",
      " 1   City         298 non-null    object \n",
      " 2   NoDays       299 non-null    float64\n",
      " 3   Motivation   297 non-null    object \n",
      " 4   Price        299 non-null    float64\n",
      " 5   NrPeople     298 non-null    float64\n",
      " 6   NrCh         298 non-null    float64\n",
      " 7   Service      299 non-null    float64\n",
      " 8   Transport    298 non-null    object \n",
      " 9   Loyalty      299 non-null    float64\n",
      " 10  Paymenttype  299 non-null    float64\n",
      "dtypes: float64(7), object(4)\n",
      "memory usage: 25.9+ KB\n"
     ]
    }
   ],
   "source": [
    "turisti.info()"
   ]
  },
  {
   "cell_type": "code",
   "execution_count": null,
   "id": "d235cee8-4b52-4314-8573-bf5aea6808ab",
   "metadata": {},
   "outputs": [],
   "source": []
  },
  {
   "cell_type": "code",
   "execution_count": 30,
   "id": "7026b008-7370-49d9-a977-4afe448b5336",
   "metadata": {},
   "outputs": [
    {
     "data": {
      "text/plain": [
       "Country\n",
       "Italija       69\n",
       "Španjolska    61\n",
       "Francuska     59\n",
       "Njemačka      46\n",
       "Portugal      38\n",
       "Švedska       16\n",
       "Island        10\n",
       "Name: count, dtype: int64"
      ]
     },
     "execution_count": 30,
     "metadata": {},
     "output_type": "execute_result"
    }
   ],
   "source": [
    "turisti.Country.value_counts()"
   ]
  },
  {
   "cell_type": "code",
   "execution_count": null,
   "id": "f998e7a9-1449-414b-8ded-2de58025d707",
   "metadata": {},
   "outputs": [],
   "source": []
  },
  {
   "cell_type": "code",
   "execution_count": 31,
   "id": "a4210c75-ac47-44d6-a863-77d16ce4a8ad",
   "metadata": {},
   "outputs": [
    {
     "data": {
      "text/plain": [
       "City\n",
       "Lisbon       38\n",
       "Barcelona    32\n",
       "Paris        32\n",
       "Madrid       29\n",
       "Berlin       27\n",
       "Lyon         27\n",
       "Padova       24\n",
       "Rome         23\n",
       "Milano       20\n",
       "Frankfurt    19\n",
       "Stockholm    16\n",
       "Reykjavík    10\n",
       "rome          1\n",
       "Name: count, dtype: int64"
      ]
     },
     "execution_count": 31,
     "metadata": {},
     "output_type": "execute_result"
    }
   ],
   "source": [
    "turisti.City.value_counts()"
   ]
  },
  {
   "cell_type": "code",
   "execution_count": 32,
   "id": "a88d7da5-3ac3-482c-83a2-759f95676bac",
   "metadata": {},
   "outputs": [
    {
     "data": {
      "text/plain": [
       "Motivation\n",
       "tourism     237\n",
       "business     59\n",
       "busines       1\n",
       "Name: count, dtype: int64"
      ]
     },
     "execution_count": 32,
     "metadata": {},
     "output_type": "execute_result"
    }
   ],
   "source": [
    "turisti.Motivation.value_counts()"
   ]
  },
  {
   "cell_type": "code",
   "execution_count": 33,
   "id": "5c9e7bf0-93bb-4887-a891-ad788e05ba58",
   "metadata": {},
   "outputs": [
    {
     "data": {
      "text/plain": [
       "Transport\n",
       "bus         122\n",
       "train        85\n",
       "airplane     68\n",
       "Airplane     23\n",
       "Name: count, dtype: int64"
      ]
     },
     "execution_count": 33,
     "metadata": {},
     "output_type": "execute_result"
    }
   ],
   "source": [
    "turisti.Transport.value_counts()"
   ]
  },
  {
   "cell_type": "code",
   "execution_count": null,
   "id": "566f8a84-15c1-4c1c-8d60-dbcb3378199f",
   "metadata": {},
   "outputs": [],
   "source": []
  },
  {
   "cell_type": "code",
   "execution_count": 34,
   "id": "e89a965a-d590-44a8-bb40-84f2ca1fad89",
   "metadata": {},
   "outputs": [
    {
     "data": {
      "text/html": [
       "<div>\n",
       "<style scoped>\n",
       "    .dataframe tbody tr th:only-of-type {\n",
       "        vertical-align: middle;\n",
       "    }\n",
       "\n",
       "    .dataframe tbody tr th {\n",
       "        vertical-align: top;\n",
       "    }\n",
       "\n",
       "    .dataframe thead th {\n",
       "        text-align: right;\n",
       "    }\n",
       "</style>\n",
       "<table border=\"1\" class=\"dataframe\">\n",
       "  <thead>\n",
       "    <tr style=\"text-align: right;\">\n",
       "      <th></th>\n",
       "      <th>NoDays</th>\n",
       "      <th>Price</th>\n",
       "      <th>NrPeople</th>\n",
       "      <th>NrCh</th>\n",
       "      <th>Service</th>\n",
       "      <th>Loyalty</th>\n",
       "      <th>Paymenttype</th>\n",
       "    </tr>\n",
       "  </thead>\n",
       "  <tbody>\n",
       "    <tr>\n",
       "      <th>NoDays</th>\n",
       "      <td>1.000000</td>\n",
       "      <td>0.097999</td>\n",
       "      <td>0.332548</td>\n",
       "      <td>-0.005752</td>\n",
       "      <td>-0.202398</td>\n",
       "      <td>0.009272</td>\n",
       "      <td>-0.014063</td>\n",
       "    </tr>\n",
       "    <tr>\n",
       "      <th>Price</th>\n",
       "      <td>0.097999</td>\n",
       "      <td>1.000000</td>\n",
       "      <td>0.089489</td>\n",
       "      <td>0.003674</td>\n",
       "      <td>-0.087627</td>\n",
       "      <td>0.047398</td>\n",
       "      <td>-0.070582</td>\n",
       "    </tr>\n",
       "    <tr>\n",
       "      <th>NrPeople</th>\n",
       "      <td>0.332548</td>\n",
       "      <td>0.089489</td>\n",
       "      <td>1.000000</td>\n",
       "      <td>0.121863</td>\n",
       "      <td>-0.886605</td>\n",
       "      <td>-0.062233</td>\n",
       "      <td>0.074845</td>\n",
       "    </tr>\n",
       "    <tr>\n",
       "      <th>NrCh</th>\n",
       "      <td>-0.005752</td>\n",
       "      <td>0.003674</td>\n",
       "      <td>0.121863</td>\n",
       "      <td>1.000000</td>\n",
       "      <td>-0.113301</td>\n",
       "      <td>-0.091556</td>\n",
       "      <td>0.012575</td>\n",
       "    </tr>\n",
       "    <tr>\n",
       "      <th>Service</th>\n",
       "      <td>-0.202398</td>\n",
       "      <td>-0.087627</td>\n",
       "      <td>-0.886605</td>\n",
       "      <td>-0.113301</td>\n",
       "      <td>1.000000</td>\n",
       "      <td>0.056898</td>\n",
       "      <td>-0.098985</td>\n",
       "    </tr>\n",
       "    <tr>\n",
       "      <th>Loyalty</th>\n",
       "      <td>0.009272</td>\n",
       "      <td>0.047398</td>\n",
       "      <td>-0.062233</td>\n",
       "      <td>-0.091556</td>\n",
       "      <td>0.056898</td>\n",
       "      <td>1.000000</td>\n",
       "      <td>0.016060</td>\n",
       "    </tr>\n",
       "    <tr>\n",
       "      <th>Paymenttype</th>\n",
       "      <td>-0.014063</td>\n",
       "      <td>-0.070582</td>\n",
       "      <td>0.074845</td>\n",
       "      <td>0.012575</td>\n",
       "      <td>-0.098985</td>\n",
       "      <td>0.016060</td>\n",
       "      <td>1.000000</td>\n",
       "    </tr>\n",
       "  </tbody>\n",
       "</table>\n",
       "</div>"
      ],
      "text/plain": [
       "               NoDays     Price  NrPeople      NrCh   Service   Loyalty  \\\n",
       "NoDays       1.000000  0.097999  0.332548 -0.005752 -0.202398  0.009272   \n",
       "Price        0.097999  1.000000  0.089489  0.003674 -0.087627  0.047398   \n",
       "NrPeople     0.332548  0.089489  1.000000  0.121863 -0.886605 -0.062233   \n",
       "NrCh        -0.005752  0.003674  0.121863  1.000000 -0.113301 -0.091556   \n",
       "Service     -0.202398 -0.087627 -0.886605 -0.113301  1.000000  0.056898   \n",
       "Loyalty      0.009272  0.047398 -0.062233 -0.091556  0.056898  1.000000   \n",
       "Paymenttype -0.014063 -0.070582  0.074845  0.012575 -0.098985  0.016060   \n",
       "\n",
       "             Paymenttype  \n",
       "NoDays         -0.014063  \n",
       "Price          -0.070582  \n",
       "NrPeople        0.074845  \n",
       "NrCh            0.012575  \n",
       "Service        -0.098985  \n",
       "Loyalty         0.016060  \n",
       "Paymenttype     1.000000  "
      ]
     },
     "execution_count": 34,
     "metadata": {},
     "output_type": "execute_result"
    }
   ],
   "source": [
    "turisti.corr(numeric_only = True)"
   ]
  },
  {
   "cell_type": "code",
   "execution_count": null,
   "id": "1fa11cb9-8f52-4df9-ad00-2f2f2bb8bfda",
   "metadata": {},
   "outputs": [],
   "source": []
  },
  {
   "cell_type": "code",
   "execution_count": 35,
   "id": "576321ba-5c6e-48ef-8f22-baf288af9830",
   "metadata": {},
   "outputs": [
    {
     "data": {
      "text/plain": [
       "<seaborn.axisgrid.PairGrid at 0x1852652fb60>"
      ]
     },
     "execution_count": 35,
     "metadata": {},
     "output_type": "execute_result"
    },
    {
     "data": {
      "image/png": "[encoded data removed]",
      "text/plain": [
       "<Figure size 1750x1750 with 56 Axes>"
      ]
     },
     "metadata": {},
     "output_type": "display_data"
    }
   ],
   "source": [
    "sns.pairplot (turisti)"
   ]
  },
  {
   "cell_type": "code",
   "execution_count": null,
   "id": "d96efd35-7e73-4d89-bc78-c39f533c39d6",
   "metadata": {},
   "outputs": [],
   "source": []
  },
  {
   "cell_type": "code",
   "execution_count": 36,
   "id": "911ab611-c104-47a2-8c93-e433cf221ac2",
   "metadata": {},
   "outputs": [
    {
     "data": {
      "text/html": [
       "<div>\n",
       "<style scoped>\n",
       "    .dataframe tbody tr th:only-of-type {\n",
       "        vertical-align: middle;\n",
       "    }\n",
       "\n",
       "    .dataframe tbody tr th {\n",
       "        vertical-align: top;\n",
       "    }\n",
       "\n",
       "    .dataframe thead th {\n",
       "        text-align: right;\n",
       "    }\n",
       "</style>\n",
       "<table border=\"1\" class=\"dataframe\">\n",
       "  <thead>\n",
       "    <tr style=\"text-align: right;\">\n",
       "      <th></th>\n",
       "      <th>Country</th>\n",
       "      <th>City</th>\n",
       "      <th>NoDays</th>\n",
       "      <th>Motivation</th>\n",
       "      <th>Price</th>\n",
       "      <th>NrPeople</th>\n",
       "      <th>NrCh</th>\n",
       "      <th>Service</th>\n",
       "      <th>Transport</th>\n",
       "      <th>Loyalty</th>\n",
       "      <th>Paymenttype</th>\n",
       "    </tr>\n",
       "  </thead>\n",
       "  <tbody>\n",
       "    <tr>\n",
       "      <th>240</th>\n",
       "      <td>Italija</td>\n",
       "      <td>Milano</td>\n",
       "      <td>5.0</td>\n",
       "      <td>business</td>\n",
       "      <td>85.0</td>\n",
       "      <td>1.0</td>\n",
       "      <td>0.0</td>\n",
       "      <td>1000.0</td>\n",
       "      <td>airplane</td>\n",
       "      <td>4.0</td>\n",
       "      <td>2.0</td>\n",
       "    </tr>\n",
       "    <tr>\n",
       "      <th>295</th>\n",
       "      <td>Italija</td>\n",
       "      <td>Rome</td>\n",
       "      <td>5.0</td>\n",
       "      <td>business</td>\n",
       "      <td>850.0</td>\n",
       "      <td>1.0</td>\n",
       "      <td>0.0</td>\n",
       "      <td>1000.0</td>\n",
       "      <td>airplane</td>\n",
       "      <td>2.0</td>\n",
       "      <td>2.0</td>\n",
       "    </tr>\n",
       "    <tr>\n",
       "      <th>37</th>\n",
       "      <td>Italija</td>\n",
       "      <td>Padova</td>\n",
       "      <td>5.0</td>\n",
       "      <td>business</td>\n",
       "      <td>850.0</td>\n",
       "      <td>1.0</td>\n",
       "      <td>0.0</td>\n",
       "      <td>1000.0</td>\n",
       "      <td>airplane</td>\n",
       "      <td>3.0</td>\n",
       "      <td>3.0</td>\n",
       "    </tr>\n",
       "    <tr>\n",
       "      <th>2</th>\n",
       "      <td>Italija</td>\n",
       "      <td>Milano</td>\n",
       "      <td>5.0</td>\n",
       "      <td>tourism</td>\n",
       "      <td>850.0</td>\n",
       "      <td>5.0</td>\n",
       "      <td>4.0</td>\n",
       "      <td>250.0</td>\n",
       "      <td>airplane</td>\n",
       "      <td>4.0</td>\n",
       "      <td>1.0</td>\n",
       "    </tr>\n",
       "    <tr>\n",
       "      <th>54</th>\n",
       "      <td>Italija</td>\n",
       "      <td>Milano</td>\n",
       "      <td>5.0</td>\n",
       "      <td>business</td>\n",
       "      <td>850.0</td>\n",
       "      <td>1.0</td>\n",
       "      <td>0.0</td>\n",
       "      <td>1000.0</td>\n",
       "      <td>airplane</td>\n",
       "      <td>5.0</td>\n",
       "      <td>2.0</td>\n",
       "    </tr>\n",
       "    <tr>\n",
       "      <th>...</th>\n",
       "      <td>...</td>\n",
       "      <td>...</td>\n",
       "      <td>...</td>\n",
       "      <td>...</td>\n",
       "      <td>...</td>\n",
       "      <td>...</td>\n",
       "      <td>...</td>\n",
       "      <td>...</td>\n",
       "      <td>...</td>\n",
       "      <td>...</td>\n",
       "      <td>...</td>\n",
       "    </tr>\n",
       "    <tr>\n",
       "      <th>178</th>\n",
       "      <td>Švedska</td>\n",
       "      <td>Stockholm</td>\n",
       "      <td>12.0</td>\n",
       "      <td>tourism</td>\n",
       "      <td>2760.0</td>\n",
       "      <td>3.0</td>\n",
       "      <td>1.0</td>\n",
       "      <td>1000.0</td>\n",
       "      <td>Airplane</td>\n",
       "      <td>2.0</td>\n",
       "      <td>1.0</td>\n",
       "    </tr>\n",
       "    <tr>\n",
       "      <th>190</th>\n",
       "      <td>Švedska</td>\n",
       "      <td>Stockholm</td>\n",
       "      <td>12.0</td>\n",
       "      <td>tourism</td>\n",
       "      <td>2760.0</td>\n",
       "      <td>5.0</td>\n",
       "      <td>3.0</td>\n",
       "      <td>500.0</td>\n",
       "      <td>Airplane</td>\n",
       "      <td>6.0</td>\n",
       "      <td>3.0</td>\n",
       "    </tr>\n",
       "    <tr>\n",
       "      <th>254</th>\n",
       "      <td>Švedska</td>\n",
       "      <td>Stockholm</td>\n",
       "      <td>12.0</td>\n",
       "      <td>tourism</td>\n",
       "      <td>2760.0</td>\n",
       "      <td>3.0</td>\n",
       "      <td>2.0</td>\n",
       "      <td>700.0</td>\n",
       "      <td>Airplane</td>\n",
       "      <td>6.0</td>\n",
       "      <td>1.0</td>\n",
       "    </tr>\n",
       "    <tr>\n",
       "      <th>82</th>\n",
       "      <td>Italija</td>\n",
       "      <td>Padova</td>\n",
       "      <td>10.0</td>\n",
       "      <td>tourism</td>\n",
       "      <td>170000.0</td>\n",
       "      <td>5.0</td>\n",
       "      <td>3.0</td>\n",
       "      <td>500.0</td>\n",
       "      <td>bus</td>\n",
       "      <td>5.0</td>\n",
       "      <td>1.0</td>\n",
       "    </tr>\n",
       "    <tr>\n",
       "      <th>49</th>\n",
       "      <td>Italija</td>\n",
       "      <td>NaN</td>\n",
       "      <td>NaN</td>\n",
       "      <td>NaN</td>\n",
       "      <td>NaN</td>\n",
       "      <td>NaN</td>\n",
       "      <td>NaN</td>\n",
       "      <td>NaN</td>\n",
       "      <td>NaN</td>\n",
       "      <td>NaN</td>\n",
       "      <td>NaN</td>\n",
       "    </tr>\n",
       "  </tbody>\n",
       "</table>\n",
       "<p>300 rows × 11 columns</p>\n",
       "</div>"
      ],
      "text/plain": [
       "     Country       City  NoDays Motivation     Price  NrPeople  NrCh  Service  \\\n",
       "240  Italija     Milano     5.0   business      85.0       1.0   0.0   1000.0   \n",
       "295  Italija       Rome     5.0   business     850.0       1.0   0.0   1000.0   \n",
       "37   Italija     Padova     5.0   business     850.0       1.0   0.0   1000.0   \n",
       "2    Italija     Milano     5.0    tourism     850.0       5.0   4.0    250.0   \n",
       "54   Italija     Milano     5.0   business     850.0       1.0   0.0   1000.0   \n",
       "..       ...        ...     ...        ...       ...       ...   ...      ...   \n",
       "178  Švedska  Stockholm    12.0    tourism    2760.0       3.0   1.0   1000.0   \n",
       "190  Švedska  Stockholm    12.0    tourism    2760.0       5.0   3.0    500.0   \n",
       "254  Švedska  Stockholm    12.0    tourism    2760.0       3.0   2.0    700.0   \n",
       "82   Italija     Padova    10.0    tourism  170000.0       5.0   3.0    500.0   \n",
       "49   Italija        NaN     NaN        NaN       NaN       NaN   NaN      NaN   \n",
       "\n",
       "    Transport  Loyalty  Paymenttype  \n",
       "240  airplane      4.0          2.0  \n",
       "295  airplane      2.0          2.0  \n",
       "37   airplane      3.0          3.0  \n",
       "2    airplane      4.0          1.0  \n",
       "54   airplane      5.0          2.0  \n",
       "..        ...      ...          ...  \n",
       "178  Airplane      2.0          1.0  \n",
       "190  Airplane      6.0          3.0  \n",
       "254  Airplane      6.0          1.0  \n",
       "82        bus      5.0          1.0  \n",
       "49        NaN      NaN          NaN  \n",
       "\n",
       "[300 rows x 11 columns]"
      ]
     },
     "execution_count": 36,
     "metadata": {},
     "output_type": "execute_result"
    }
   ],
   "source": [
    "turisti.sort_values (by = [\"Price\"])"
   ]
  },
  {
   "cell_type": "code",
   "execution_count": 37,
   "id": "702ff33b-0cf3-471b-8d58-330a5e1fa88c",
   "metadata": {},
   "outputs": [
    {
     "data": {
      "text/plain": [
       "np.float64(1670.7070707070707)"
      ]
     },
     "execution_count": 37,
     "metadata": {},
     "output_type": "execute_result"
    }
   ],
   "source": [
    "outlier_index_Price = [240,82]\n",
    "mean_non_outliers = turisti.drop(outlier_index_Price)[\"Price\"].mean()\n",
    "mean_non_outliers"
   ]
  },
  {
   "cell_type": "code",
   "execution_count": null,
   "id": "4b5123fd-7421-464f-ab3c-43ad3ebfdc82",
   "metadata": {},
   "outputs": [],
   "source": []
  },
  {
   "cell_type": "code",
   "execution_count": 38,
   "id": "69bda6e5-a73c-43ce-969b-bebdc32af0f1",
   "metadata": {},
   "outputs": [
    {
     "data": {
      "text/html": [
       "<div>\n",
       "<style scoped>\n",
       "    .dataframe tbody tr th:only-of-type {\n",
       "        vertical-align: middle;\n",
       "    }\n",
       "\n",
       "    .dataframe tbody tr th {\n",
       "        vertical-align: top;\n",
       "    }\n",
       "\n",
       "    .dataframe thead th {\n",
       "        text-align: right;\n",
       "    }\n",
       "</style>\n",
       "<table border=\"1\" class=\"dataframe\">\n",
       "  <thead>\n",
       "    <tr style=\"text-align: right;\">\n",
       "      <th></th>\n",
       "      <th>NoDays</th>\n",
       "      <th>Price</th>\n",
       "      <th>NrPeople</th>\n",
       "      <th>NrCh</th>\n",
       "      <th>Service</th>\n",
       "      <th>Loyalty</th>\n",
       "      <th>Paymenttype</th>\n",
       "    </tr>\n",
       "  </thead>\n",
       "  <tbody>\n",
       "    <tr>\n",
       "      <th>count</th>\n",
       "      <td>299.000000</td>\n",
       "      <td>299.000000</td>\n",
       "      <td>298.000000</td>\n",
       "      <td>298.000000</td>\n",
       "      <td>299.000000</td>\n",
       "      <td>299.000000</td>\n",
       "      <td>299.000000</td>\n",
       "    </tr>\n",
       "    <tr>\n",
       "      <th>mean</th>\n",
       "      <td>8.187291</td>\n",
       "      <td>1670.707071</td>\n",
       "      <td>3.174497</td>\n",
       "      <td>2.194631</td>\n",
       "      <td>794.481605</td>\n",
       "      <td>3.608696</td>\n",
       "      <td>1.936455</td>\n",
       "    </tr>\n",
       "    <tr>\n",
       "      <th>std</th>\n",
       "      <td>2.261074</td>\n",
       "      <td>528.860214</td>\n",
       "      <td>1.498513</td>\n",
       "      <td>12.831557</td>\n",
       "      <td>224.680195</td>\n",
       "      <td>1.746730</td>\n",
       "      <td>0.785337</td>\n",
       "    </tr>\n",
       "    <tr>\n",
       "      <th>min</th>\n",
       "      <td>5.000000</td>\n",
       "      <td>850.000000</td>\n",
       "      <td>1.000000</td>\n",
       "      <td>0.000000</td>\n",
       "      <td>250.000000</td>\n",
       "      <td>1.000000</td>\n",
       "      <td>1.000000</td>\n",
       "    </tr>\n",
       "    <tr>\n",
       "      <th>25%</th>\n",
       "      <td>7.000000</td>\n",
       "      <td>1190.000000</td>\n",
       "      <td>2.000000</td>\n",
       "      <td>0.000000</td>\n",
       "      <td>700.000000</td>\n",
       "      <td>2.000000</td>\n",
       "      <td>1.000000</td>\n",
       "    </tr>\n",
       "    <tr>\n",
       "      <th>50%</th>\n",
       "      <td>9.000000</td>\n",
       "      <td>1700.000000</td>\n",
       "      <td>4.000000</td>\n",
       "      <td>2.000000</td>\n",
       "      <td>700.000000</td>\n",
       "      <td>4.000000</td>\n",
       "      <td>2.000000</td>\n",
       "    </tr>\n",
       "    <tr>\n",
       "      <th>75%</th>\n",
       "      <td>10.000000</td>\n",
       "      <td>2070.000000</td>\n",
       "      <td>4.000000</td>\n",
       "      <td>2.000000</td>\n",
       "      <td>1000.000000</td>\n",
       "      <td>5.000000</td>\n",
       "      <td>3.000000</td>\n",
       "    </tr>\n",
       "    <tr>\n",
       "      <th>max</th>\n",
       "      <td>12.000000</td>\n",
       "      <td>2760.000000</td>\n",
       "      <td>6.000000</td>\n",
       "      <td>222.000000</td>\n",
       "      <td>1000.000000</td>\n",
       "      <td>6.000000</td>\n",
       "      <td>3.000000</td>\n",
       "    </tr>\n",
       "  </tbody>\n",
       "</table>\n",
       "</div>"
      ],
      "text/plain": [
       "           NoDays        Price    NrPeople        NrCh      Service  \\\n",
       "count  299.000000   299.000000  298.000000  298.000000   299.000000   \n",
       "mean     8.187291  1670.707071    3.174497    2.194631   794.481605   \n",
       "std      2.261074   528.860214    1.498513   12.831557   224.680195   \n",
       "min      5.000000   850.000000    1.000000    0.000000   250.000000   \n",
       "25%      7.000000  1190.000000    2.000000    0.000000   700.000000   \n",
       "50%      9.000000  1700.000000    4.000000    2.000000   700.000000   \n",
       "75%     10.000000  2070.000000    4.000000    2.000000  1000.000000   \n",
       "max     12.000000  2760.000000    6.000000  222.000000  1000.000000   \n",
       "\n",
       "          Loyalty  Paymenttype  \n",
       "count  299.000000   299.000000  \n",
       "mean     3.608696     1.936455  \n",
       "std      1.746730     0.785337  \n",
       "min      1.000000     1.000000  \n",
       "25%      2.000000     1.000000  \n",
       "50%      4.000000     2.000000  \n",
       "75%      5.000000     3.000000  \n",
       "max      6.000000     3.000000  "
      ]
     },
     "execution_count": 38,
     "metadata": {},
     "output_type": "execute_result"
    }
   ],
   "source": [
    "turisti.loc[outlier_index_Price, \"Price\"] = mean_non_outliers\n",
    "turisti.describe()"
   ]
  },
  {
   "cell_type": "code",
   "execution_count": null,
   "id": "2cb58524-909f-413b-9863-a2721433ad67",
   "metadata": {},
   "outputs": [],
   "source": []
  },
  {
   "cell_type": "code",
   "execution_count": 39,
   "id": "d1c5f031-47cf-40a7-b2b1-4ffc7ad47eaa",
   "metadata": {},
   "outputs": [
    {
     "data": {
      "text/html": [
       "<div>\n",
       "<style scoped>\n",
       "    .dataframe tbody tr th:only-of-type {\n",
       "        vertical-align: middle;\n",
       "    }\n",
       "\n",
       "    .dataframe tbody tr th {\n",
       "        vertical-align: top;\n",
       "    }\n",
       "\n",
       "    .dataframe thead th {\n",
       "        text-align: right;\n",
       "    }\n",
       "</style>\n",
       "<table border=\"1\" class=\"dataframe\">\n",
       "  <thead>\n",
       "    <tr style=\"text-align: right;\">\n",
       "      <th></th>\n",
       "      <th>Country</th>\n",
       "      <th>City</th>\n",
       "      <th>NoDays</th>\n",
       "      <th>Motivation</th>\n",
       "      <th>Price</th>\n",
       "      <th>NrPeople</th>\n",
       "      <th>NrCh</th>\n",
       "      <th>Service</th>\n",
       "      <th>Transport</th>\n",
       "      <th>Loyalty</th>\n",
       "      <th>Paymenttype</th>\n",
       "    </tr>\n",
       "  </thead>\n",
       "  <tbody>\n",
       "    <tr>\n",
       "      <th>295</th>\n",
       "      <td>Italija</td>\n",
       "      <td>Rome</td>\n",
       "      <td>5.0</td>\n",
       "      <td>business</td>\n",
       "      <td>850.0</td>\n",
       "      <td>1.0</td>\n",
       "      <td>0.0</td>\n",
       "      <td>1000.0</td>\n",
       "      <td>airplane</td>\n",
       "      <td>2.0</td>\n",
       "      <td>2.0</td>\n",
       "    </tr>\n",
       "    <tr>\n",
       "      <th>37</th>\n",
       "      <td>Italija</td>\n",
       "      <td>Padova</td>\n",
       "      <td>5.0</td>\n",
       "      <td>business</td>\n",
       "      <td>850.0</td>\n",
       "      <td>1.0</td>\n",
       "      <td>0.0</td>\n",
       "      <td>1000.0</td>\n",
       "      <td>airplane</td>\n",
       "      <td>3.0</td>\n",
       "      <td>3.0</td>\n",
       "    </tr>\n",
       "    <tr>\n",
       "      <th>38</th>\n",
       "      <td>Španjolska</td>\n",
       "      <td>Madrid</td>\n",
       "      <td>5.0</td>\n",
       "      <td>business</td>\n",
       "      <td>1075.0</td>\n",
       "      <td>1.0</td>\n",
       "      <td>0.0</td>\n",
       "      <td>1000.0</td>\n",
       "      <td>airplane</td>\n",
       "      <td>1.0</td>\n",
       "      <td>1.0</td>\n",
       "    </tr>\n",
       "    <tr>\n",
       "      <th>41</th>\n",
       "      <td>Portugal</td>\n",
       "      <td>Lisbon</td>\n",
       "      <td>9.0</td>\n",
       "      <td>tourism</td>\n",
       "      <td>2025.0</td>\n",
       "      <td>1.0</td>\n",
       "      <td>0.0</td>\n",
       "      <td>1000.0</td>\n",
       "      <td>train</td>\n",
       "      <td>3.0</td>\n",
       "      <td>1.0</td>\n",
       "    </tr>\n",
       "    <tr>\n",
       "      <th>47</th>\n",
       "      <td>Italija</td>\n",
       "      <td>Padova</td>\n",
       "      <td>7.0</td>\n",
       "      <td>business</td>\n",
       "      <td>1190.0</td>\n",
       "      <td>1.0</td>\n",
       "      <td>0.0</td>\n",
       "      <td>1000.0</td>\n",
       "      <td>bus</td>\n",
       "      <td>5.0</td>\n",
       "      <td>2.0</td>\n",
       "    </tr>\n",
       "    <tr>\n",
       "      <th>...</th>\n",
       "      <td>...</td>\n",
       "      <td>...</td>\n",
       "      <td>...</td>\n",
       "      <td>...</td>\n",
       "      <td>...</td>\n",
       "      <td>...</td>\n",
       "      <td>...</td>\n",
       "      <td>...</td>\n",
       "      <td>...</td>\n",
       "      <td>...</td>\n",
       "      <td>...</td>\n",
       "    </tr>\n",
       "    <tr>\n",
       "      <th>44</th>\n",
       "      <td>Francuska</td>\n",
       "      <td>Lyon</td>\n",
       "      <td>12.0</td>\n",
       "      <td>tourism</td>\n",
       "      <td>2460.0</td>\n",
       "      <td>6.0</td>\n",
       "      <td>4.0</td>\n",
       "      <td>250.0</td>\n",
       "      <td>train</td>\n",
       "      <td>1.0</td>\n",
       "      <td>2.0</td>\n",
       "    </tr>\n",
       "    <tr>\n",
       "      <th>252</th>\n",
       "      <td>Španjolska</td>\n",
       "      <td>Barcelona</td>\n",
       "      <td>5.0</td>\n",
       "      <td>tourism</td>\n",
       "      <td>1075.0</td>\n",
       "      <td>6.0</td>\n",
       "      <td>4.0</td>\n",
       "      <td>250.0</td>\n",
       "      <td>airplane</td>\n",
       "      <td>1.0</td>\n",
       "      <td>3.0</td>\n",
       "    </tr>\n",
       "    <tr>\n",
       "      <th>57</th>\n",
       "      <td>Francuska</td>\n",
       "      <td>Paris</td>\n",
       "      <td>7.0</td>\n",
       "      <td>tourism</td>\n",
       "      <td>1435.0</td>\n",
       "      <td>4.0</td>\n",
       "      <td>222.0</td>\n",
       "      <td>700.0</td>\n",
       "      <td>bus</td>\n",
       "      <td>1.0</td>\n",
       "      <td>2.0</td>\n",
       "    </tr>\n",
       "    <tr>\n",
       "      <th>49</th>\n",
       "      <td>Italija</td>\n",
       "      <td>NaN</td>\n",
       "      <td>NaN</td>\n",
       "      <td>NaN</td>\n",
       "      <td>NaN</td>\n",
       "      <td>NaN</td>\n",
       "      <td>NaN</td>\n",
       "      <td>NaN</td>\n",
       "      <td>NaN</td>\n",
       "      <td>NaN</td>\n",
       "      <td>NaN</td>\n",
       "    </tr>\n",
       "    <tr>\n",
       "      <th>241</th>\n",
       "      <td>Italija</td>\n",
       "      <td>Milano</td>\n",
       "      <td>5.0</td>\n",
       "      <td>business</td>\n",
       "      <td>850.0</td>\n",
       "      <td>1.0</td>\n",
       "      <td>NaN</td>\n",
       "      <td>1000.0</td>\n",
       "      <td>airplane</td>\n",
       "      <td>2.0</td>\n",
       "      <td>2.0</td>\n",
       "    </tr>\n",
       "  </tbody>\n",
       "</table>\n",
       "<p>300 rows × 11 columns</p>\n",
       "</div>"
      ],
      "text/plain": [
       "        Country       City  NoDays Motivation   Price  NrPeople   NrCh  \\\n",
       "295     Italija       Rome     5.0   business   850.0       1.0    0.0   \n",
       "37      Italija     Padova     5.0   business   850.0       1.0    0.0   \n",
       "38   Španjolska     Madrid     5.0   business  1075.0       1.0    0.0   \n",
       "41     Portugal     Lisbon     9.0    tourism  2025.0       1.0    0.0   \n",
       "47      Italija     Padova     7.0   business  1190.0       1.0    0.0   \n",
       "..          ...        ...     ...        ...     ...       ...    ...   \n",
       "44    Francuska       Lyon    12.0    tourism  2460.0       6.0    4.0   \n",
       "252  Španjolska  Barcelona     5.0    tourism  1075.0       6.0    4.0   \n",
       "57    Francuska      Paris     7.0    tourism  1435.0       4.0  222.0   \n",
       "49      Italija        NaN     NaN        NaN     NaN       NaN    NaN   \n",
       "241     Italija     Milano     5.0   business   850.0       1.0    NaN   \n",
       "\n",
       "     Service Transport  Loyalty  Paymenttype  \n",
       "295   1000.0  airplane      2.0          2.0  \n",
       "37    1000.0  airplane      3.0          3.0  \n",
       "38    1000.0  airplane      1.0          1.0  \n",
       "41    1000.0     train      3.0          1.0  \n",
       "47    1000.0       bus      5.0          2.0  \n",
       "..       ...       ...      ...          ...  \n",
       "44     250.0     train      1.0          2.0  \n",
       "252    250.0  airplane      1.0          3.0  \n",
       "57     700.0       bus      1.0          2.0  \n",
       "49       NaN       NaN      NaN          NaN  \n",
       "241   1000.0  airplane      2.0          2.0  \n",
       "\n",
       "[300 rows x 11 columns]"
      ]
     },
     "execution_count": 39,
     "metadata": {},
     "output_type": "execute_result"
    }
   ],
   "source": [
    "turisti.sort_values (by = [\"NrCh\"])"
   ]
  },
  {
   "cell_type": "code",
   "execution_count": null,
   "id": "a30e41a9-76a5-4aa9-a9a0-1c1c5c767f43",
   "metadata": {},
   "outputs": [],
   "source": []
  },
  {
   "cell_type": "code",
   "execution_count": 40,
   "id": "4a6678be-1ef5-436a-9ec3-e0ada1f376b5",
   "metadata": {},
   "outputs": [],
   "source": [
    "outlier_index_NrCh = [57]"
   ]
  },
  {
   "cell_type": "code",
   "execution_count": 41,
   "id": "c8ff747c-d57a-42a1-b8f7-9a7086b3c923",
   "metadata": {},
   "outputs": [],
   "source": [
    "mean_non_outliers_NrCh = turisti.drop(outlier_index_NrCh)[\"NrCh\"].mean()"
   ]
  },
  {
   "cell_type": "code",
   "execution_count": 42,
   "id": "ee390206-1c39-407f-810b-1c20914ea503",
   "metadata": {},
   "outputs": [
    {
     "data": {
      "text/plain": [
       "np.float64(1.4545454545454546)"
      ]
     },
     "execution_count": 42,
     "metadata": {},
     "output_type": "execute_result"
    }
   ],
   "source": [
    "mean_non_outliers_NrCh"
   ]
  },
  {
   "cell_type": "code",
   "execution_count": 43,
   "id": "326931a3-c185-4bad-b71a-7aa8e15bab9f",
   "metadata": {},
   "outputs": [
    {
     "data": {
      "text/plain": [
       "1"
      ]
     },
     "execution_count": 43,
     "metadata": {},
     "output_type": "execute_result"
    }
   ],
   "source": [
    "mean_non_outliers_NrCh = round(mean_non_outliers_NrCh)\n",
    "mean_non_outliers_NrCh"
   ]
  },
  {
   "cell_type": "code",
   "execution_count": null,
   "id": "dfed6873-131b-432d-aae3-f4072616d03f",
   "metadata": {},
   "outputs": [],
   "source": []
  },
  {
   "cell_type": "code",
   "execution_count": 44,
   "id": "7f550352-9a3e-4e70-b99a-f1786862362f",
   "metadata": {},
   "outputs": [],
   "source": [
    "turisti.loc[outlier_index_NrCh, \"NrCh\"] = mean_non_outliers_NrCh"
   ]
  },
  {
   "cell_type": "code",
   "execution_count": 45,
   "id": "2569cf84-5eb2-45a8-9fc9-b35882180f21",
   "metadata": {},
   "outputs": [
    {
     "data": {
      "text/html": [
       "<div>\n",
       "<style scoped>\n",
       "    .dataframe tbody tr th:only-of-type {\n",
       "        vertical-align: middle;\n",
       "    }\n",
       "\n",
       "    .dataframe tbody tr th {\n",
       "        vertical-align: top;\n",
       "    }\n",
       "\n",
       "    .dataframe thead th {\n",
       "        text-align: right;\n",
       "    }\n",
       "</style>\n",
       "<table border=\"1\" class=\"dataframe\">\n",
       "  <thead>\n",
       "    <tr style=\"text-align: right;\">\n",
       "      <th></th>\n",
       "      <th>NoDays</th>\n",
       "      <th>Price</th>\n",
       "      <th>NrPeople</th>\n",
       "      <th>NrCh</th>\n",
       "      <th>Service</th>\n",
       "      <th>Loyalty</th>\n",
       "      <th>Paymenttype</th>\n",
       "    </tr>\n",
       "  </thead>\n",
       "  <tbody>\n",
       "    <tr>\n",
       "      <th>count</th>\n",
       "      <td>299.000000</td>\n",
       "      <td>299.000000</td>\n",
       "      <td>298.000000</td>\n",
       "      <td>298.000000</td>\n",
       "      <td>299.000000</td>\n",
       "      <td>299.000000</td>\n",
       "      <td>299.000000</td>\n",
       "    </tr>\n",
       "    <tr>\n",
       "      <th>mean</th>\n",
       "      <td>8.187291</td>\n",
       "      <td>1670.707071</td>\n",
       "      <td>3.174497</td>\n",
       "      <td>1.453020</td>\n",
       "      <td>794.481605</td>\n",
       "      <td>3.608696</td>\n",
       "      <td>1.936455</td>\n",
       "    </tr>\n",
       "    <tr>\n",
       "      <th>std</th>\n",
       "      <td>2.261074</td>\n",
       "      <td>528.860214</td>\n",
       "      <td>1.498513</td>\n",
       "      <td>1.194604</td>\n",
       "      <td>224.680195</td>\n",
       "      <td>1.746730</td>\n",
       "      <td>0.785337</td>\n",
       "    </tr>\n",
       "    <tr>\n",
       "      <th>min</th>\n",
       "      <td>5.000000</td>\n",
       "      <td>850.000000</td>\n",
       "      <td>1.000000</td>\n",
       "      <td>0.000000</td>\n",
       "      <td>250.000000</td>\n",
       "      <td>1.000000</td>\n",
       "      <td>1.000000</td>\n",
       "    </tr>\n",
       "    <tr>\n",
       "      <th>25%</th>\n",
       "      <td>7.000000</td>\n",
       "      <td>1190.000000</td>\n",
       "      <td>2.000000</td>\n",
       "      <td>0.000000</td>\n",
       "      <td>700.000000</td>\n",
       "      <td>2.000000</td>\n",
       "      <td>1.000000</td>\n",
       "    </tr>\n",
       "    <tr>\n",
       "      <th>50%</th>\n",
       "      <td>9.000000</td>\n",
       "      <td>1700.000000</td>\n",
       "      <td>4.000000</td>\n",
       "      <td>2.000000</td>\n",
       "      <td>700.000000</td>\n",
       "      <td>4.000000</td>\n",
       "      <td>2.000000</td>\n",
       "    </tr>\n",
       "    <tr>\n",
       "      <th>75%</th>\n",
       "      <td>10.000000</td>\n",
       "      <td>2070.000000</td>\n",
       "      <td>4.000000</td>\n",
       "      <td>2.000000</td>\n",
       "      <td>1000.000000</td>\n",
       "      <td>5.000000</td>\n",
       "      <td>3.000000</td>\n",
       "    </tr>\n",
       "    <tr>\n",
       "      <th>max</th>\n",
       "      <td>12.000000</td>\n",
       "      <td>2760.000000</td>\n",
       "      <td>6.000000</td>\n",
       "      <td>4.000000</td>\n",
       "      <td>1000.000000</td>\n",
       "      <td>6.000000</td>\n",
       "      <td>3.000000</td>\n",
       "    </tr>\n",
       "  </tbody>\n",
       "</table>\n",
       "</div>"
      ],
      "text/plain": [
       "           NoDays        Price    NrPeople        NrCh      Service  \\\n",
       "count  299.000000   299.000000  298.000000  298.000000   299.000000   \n",
       "mean     8.187291  1670.707071    3.174497    1.453020   794.481605   \n",
       "std      2.261074   528.860214    1.498513    1.194604   224.680195   \n",
       "min      5.000000   850.000000    1.000000    0.000000   250.000000   \n",
       "25%      7.000000  1190.000000    2.000000    0.000000   700.000000   \n",
       "50%      9.000000  1700.000000    4.000000    2.000000   700.000000   \n",
       "75%     10.000000  2070.000000    4.000000    2.000000  1000.000000   \n",
       "max     12.000000  2760.000000    6.000000    4.000000  1000.000000   \n",
       "\n",
       "          Loyalty  Paymenttype  \n",
       "count  299.000000   299.000000  \n",
       "mean     3.608696     1.936455  \n",
       "std      1.746730     0.785337  \n",
       "min      1.000000     1.000000  \n",
       "25%      2.000000     1.000000  \n",
       "50%      4.000000     2.000000  \n",
       "75%      5.000000     3.000000  \n",
       "max      6.000000     3.000000  "
      ]
     },
     "execution_count": 45,
     "metadata": {},
     "output_type": "execute_result"
    }
   ],
   "source": [
    "turisti.describe()"
   ]
  },
  {
   "cell_type": "code",
   "execution_count": null,
   "id": "f395d774-555c-4847-946f-cf5c1533ab5d",
   "metadata": {},
   "outputs": [],
   "source": []
  },
  {
   "cell_type": "code",
   "execution_count": 46,
   "id": "d5a68045-5fd3-4dd0-a9af-601413239329",
   "metadata": {},
   "outputs": [
    {
     "data": {
      "text/plain": [
       "<seaborn.axisgrid.PairGrid at 0x1852994efd0>"
      ]
     },
     "execution_count": 46,
     "metadata": {},
     "output_type": "execute_result"
    },
    {
     "data": {
      "image/png": "[encoded data removed]",
      "text/plain": [
       "<Figure size 1750x1750 with 56 Axes>"
      ]
     },
     "metadata": {},
     "output_type": "display_data"
    }
   ],
   "source": [
    "sns.pairplot (turisti)"
   ]
  },
  {
   "cell_type": "code",
   "execution_count": null,
   "id": "9dfdcd77-de84-45e7-ae71-d468d98d1712",
   "metadata": {},
   "outputs": [],
   "source": []
  },
  {
   "cell_type": "code",
   "execution_count": 48,
   "id": "e6ebfca4-b661-42f3-93bd-b560f01e59fa",
   "metadata": {},
   "outputs": [
    {
     "data": {
      "text/html": [
       "<div>\n",
       "<style scoped>\n",
       "    .dataframe tbody tr th:only-of-type {\n",
       "        vertical-align: middle;\n",
       "    }\n",
       "\n",
       "    .dataframe tbody tr th {\n",
       "        vertical-align: top;\n",
       "    }\n",
       "\n",
       "    .dataframe thead th {\n",
       "        text-align: right;\n",
       "    }\n",
       "</style>\n",
       "<table border=\"1\" class=\"dataframe\">\n",
       "  <thead>\n",
       "    <tr style=\"text-align: right;\">\n",
       "      <th></th>\n",
       "      <th>NoDays</th>\n",
       "      <th>Price</th>\n",
       "      <th>NrPeople</th>\n",
       "      <th>NrCh</th>\n",
       "      <th>Service</th>\n",
       "      <th>Loyalty</th>\n",
       "      <th>Paymenttype</th>\n",
       "    </tr>\n",
       "  </thead>\n",
       "  <tbody>\n",
       "    <tr>\n",
       "      <th>NoDays</th>\n",
       "      <td>1.000000</td>\n",
       "      <td>0.936196</td>\n",
       "      <td>0.332548</td>\n",
       "      <td>0.268794</td>\n",
       "      <td>-0.202398</td>\n",
       "      <td>0.009272</td>\n",
       "      <td>-0.014063</td>\n",
       "    </tr>\n",
       "    <tr>\n",
       "      <th>Price</th>\n",
       "      <td>0.936196</td>\n",
       "      <td>1.000000</td>\n",
       "      <td>0.331859</td>\n",
       "      <td>0.269210</td>\n",
       "      <td>-0.206346</td>\n",
       "      <td>0.025314</td>\n",
       "      <td>-0.026802</td>\n",
       "    </tr>\n",
       "    <tr>\n",
       "      <th>NrPeople</th>\n",
       "      <td>0.332548</td>\n",
       "      <td>0.331859</td>\n",
       "      <td>1.000000</td>\n",
       "      <td>0.967994</td>\n",
       "      <td>-0.886605</td>\n",
       "      <td>-0.062233</td>\n",
       "      <td>0.074845</td>\n",
       "    </tr>\n",
       "    <tr>\n",
       "      <th>NrCh</th>\n",
       "      <td>0.268794</td>\n",
       "      <td>0.269210</td>\n",
       "      <td>0.967994</td>\n",
       "      <td>1.000000</td>\n",
       "      <td>-0.957040</td>\n",
       "      <td>-0.051465</td>\n",
       "      <td>0.084584</td>\n",
       "    </tr>\n",
       "    <tr>\n",
       "      <th>Service</th>\n",
       "      <td>-0.202398</td>\n",
       "      <td>-0.206346</td>\n",
       "      <td>-0.886605</td>\n",
       "      <td>-0.957040</td>\n",
       "      <td>1.000000</td>\n",
       "      <td>0.056898</td>\n",
       "      <td>-0.098985</td>\n",
       "    </tr>\n",
       "    <tr>\n",
       "      <th>Loyalty</th>\n",
       "      <td>0.009272</td>\n",
       "      <td>0.025314</td>\n",
       "      <td>-0.062233</td>\n",
       "      <td>-0.051465</td>\n",
       "      <td>0.056898</td>\n",
       "      <td>1.000000</td>\n",
       "      <td>0.016060</td>\n",
       "    </tr>\n",
       "    <tr>\n",
       "      <th>Paymenttype</th>\n",
       "      <td>-0.014063</td>\n",
       "      <td>-0.026802</td>\n",
       "      <td>0.074845</td>\n",
       "      <td>0.084584</td>\n",
       "      <td>-0.098985</td>\n",
       "      <td>0.016060</td>\n",
       "      <td>1.000000</td>\n",
       "    </tr>\n",
       "  </tbody>\n",
       "</table>\n",
       "</div>"
      ],
      "text/plain": [
       "               NoDays     Price  NrPeople      NrCh   Service   Loyalty  \\\n",
       "NoDays       1.000000  0.936196  0.332548  0.268794 -0.202398  0.009272   \n",
       "Price        0.936196  1.000000  0.331859  0.269210 -0.206346  0.025314   \n",
       "NrPeople     0.332548  0.331859  1.000000  0.967994 -0.886605 -0.062233   \n",
       "NrCh         0.268794  0.269210  0.967994  1.000000 -0.957040 -0.051465   \n",
       "Service     -0.202398 -0.206346 -0.886605 -0.957040  1.000000  0.056898   \n",
       "Loyalty      0.009272  0.025314 -0.062233 -0.051465  0.056898  1.000000   \n",
       "Paymenttype -0.014063 -0.026802  0.074845  0.084584 -0.098985  0.016060   \n",
       "\n",
       "             Paymenttype  \n",
       "NoDays         -0.014063  \n",
       "Price          -0.026802  \n",
       "NrPeople        0.074845  \n",
       "NrCh            0.084584  \n",
       "Service        -0.098985  \n",
       "Loyalty         0.016060  \n",
       "Paymenttype     1.000000  "
      ]
     },
     "execution_count": 48,
     "metadata": {},
     "output_type": "execute_result"
    }
   ],
   "source": [
    "turisti.corr(numeric_only=True)"
   ]
  },
  {
   "cell_type": "code",
   "execution_count": null,
   "id": "eaf10bc9-2cb8-4c6b-998c-2371d8aed6f5",
   "metadata": {},
   "outputs": [],
   "source": []
  },
  {
   "cell_type": "code",
   "execution_count": 49,
   "id": "e088c925-fc65-4bde-b223-4c8a52ac3c1c",
   "metadata": {},
   "outputs": [
    {
     "name": "stderr",
     "output_type": "stream",
     "text": [
      "C:\\Users\\Syntari\\AppData\\Local\\Temp\\ipykernel_11932\\192077709.py:1: FutureWarning: A value is trying to be set on a copy of a DataFrame or Series through chained assignment using an inplace method.\n",
      "The behavior will change in pandas 3.0. This inplace method will never work because the intermediate object on which we are setting values always behaves as a copy.\n",
      "\n",
      "For example, when doing 'df[col].method(value, inplace=True)', try using 'df.method({col: value}, inplace=True)' or df[col] = df[col].method(value) instead, to perform the operation inplace on the original object.\n",
      "\n",
      "\n",
      "  turisti[\"City\"].replace({\"rome\": \"Rome\"}, inplace=True)\n"
     ]
    }
   ],
   "source": [
    "turisti[\"City\"].replace({\"rome\": \"Rome\"}, inplace=True)"
   ]
  },
  {
   "cell_type": "code",
   "execution_count": null,
   "id": "7ae26b18-9eb2-4077-aa78-44dc387a18bd",
   "metadata": {},
   "outputs": [],
   "source": []
  },
  {
   "cell_type": "code",
   "execution_count": 50,
   "id": "f0edd865-2857-48d9-85a0-439976b35435",
   "metadata": {},
   "outputs": [
    {
     "data": {
      "text/plain": [
       "City\n",
       "Lisbon       38\n",
       "Barcelona    32\n",
       "Paris        32\n",
       "Madrid       29\n",
       "Berlin       27\n",
       "Lyon         27\n",
       "Rome         24\n",
       "Padova       24\n",
       "Milano       20\n",
       "Frankfurt    19\n",
       "Stockholm    16\n",
       "Reykjavík    10\n",
       "Name: count, dtype: int64"
      ]
     },
     "execution_count": 50,
     "metadata": {},
     "output_type": "execute_result"
    }
   ],
   "source": [
    "turisti.City.value_counts()"
   ]
  },
  {
   "cell_type": "code",
   "execution_count": null,
   "id": "66b54721-84b8-4953-97e3-bfa82248bc8b",
   "metadata": {},
   "outputs": [],
   "source": []
  },
  {
   "cell_type": "code",
   "execution_count": 51,
   "id": "4c0e7bba-77f2-457e-98fa-58cfa3f7d4dd",
   "metadata": {},
   "outputs": [
    {
     "name": "stderr",
     "output_type": "stream",
     "text": [
      "C:\\Users\\Syntari\\AppData\\Local\\Temp\\ipykernel_11932\\458410117.py:1: FutureWarning: A value is trying to be set on a copy of a DataFrame or Series through chained assignment using an inplace method.\n",
      "The behavior will change in pandas 3.0. This inplace method will never work because the intermediate object on which we are setting values always behaves as a copy.\n",
      "\n",
      "For example, when doing 'df[col].method(value, inplace=True)', try using 'df.method({col: value}, inplace=True)' or df[col] = df[col].method(value) instead, to perform the operation inplace on the original object.\n",
      "\n",
      "\n",
      "  turisti[\"Motivation\"].replace({\"busines\": \"business\"}, inplace=True)\n"
     ]
    },
    {
     "data": {
      "text/plain": [
       "Motivation\n",
       "tourism     237\n",
       "business     60\n",
       "Name: count, dtype: int64"
      ]
     },
     "execution_count": 51,
     "metadata": {},
     "output_type": "execute_result"
    }
   ],
   "source": [
    "turisti[\"Motivation\"].replace({\"busines\": \"business\"}, inplace=True)\n",
    "turisti.Motivation.value_counts()"
   ]
  },
  {
   "cell_type": "code",
   "execution_count": null,
   "id": "2447ef9b-65be-4ff7-944e-4fb8fc6a0734",
   "metadata": {},
   "outputs": [],
   "source": []
  },
  {
   "cell_type": "code",
   "execution_count": 53,
   "id": "3a706657-13f6-4ef2-aafa-050d8db2f5ee",
   "metadata": {},
   "outputs": [
    {
     "name": "stderr",
     "output_type": "stream",
     "text": [
      "C:\\Users\\Syntari\\AppData\\Local\\Temp\\ipykernel_11932\\4160322663.py:1: FutureWarning: A value is trying to be set on a copy of a DataFrame or Series through chained assignment using an inplace method.\n",
      "The behavior will change in pandas 3.0. This inplace method will never work because the intermediate object on which we are setting values always behaves as a copy.\n",
      "\n",
      "For example, when doing 'df[col].method(value, inplace=True)', try using 'df.method({col: value}, inplace=True)' or df[col] = df[col].method(value) instead, to perform the operation inplace on the original object.\n",
      "\n",
      "\n",
      "  turisti[\"Transport\"].replace({\"Airplane\": \"airplane\"}, inplace=True)\n"
     ]
    },
    {
     "data": {
      "text/plain": [
       "Transport\n",
       "bus         122\n",
       "airplane     91\n",
       "train        85\n",
       "Name: count, dtype: int64"
      ]
     },
     "execution_count": 53,
     "metadata": {},
     "output_type": "execute_result"
    }
   ],
   "source": [
    "turisti[\"Transport\"].replace({\"Airplane\": \"airplane\"}, inplace=True)\n",
    "turisti.Transport.value_counts()"
   ]
  },
  {
   "cell_type": "code",
   "execution_count": null,
   "id": "913013c6-fad3-4c21-af42-497ed52e8be4",
   "metadata": {},
   "outputs": [],
   "source": []
  },
  {
   "cell_type": "code",
   "execution_count": 54,
   "id": "c6652d3f-5a8c-445f-aad4-4213900721fd",
   "metadata": {},
   "outputs": [],
   "source": [
    "isna_values = turisti[turisti.isna().any(axis=1)]"
   ]
  },
  {
   "cell_type": "code",
   "execution_count": 55,
   "id": "c26ab1e5-4d2b-40bb-aac0-04a9a4209e76",
   "metadata": {},
   "outputs": [
    {
     "data": {
      "text/html": [
       "<div>\n",
       "<style scoped>\n",
       "    .dataframe tbody tr th:only-of-type {\n",
       "        vertical-align: middle;\n",
       "    }\n",
       "\n",
       "    .dataframe tbody tr th {\n",
       "        vertical-align: top;\n",
       "    }\n",
       "\n",
       "    .dataframe thead th {\n",
       "        text-align: right;\n",
       "    }\n",
       "</style>\n",
       "<table border=\"1\" class=\"dataframe\">\n",
       "  <thead>\n",
       "    <tr style=\"text-align: right;\">\n",
       "      <th></th>\n",
       "      <th>Country</th>\n",
       "      <th>City</th>\n",
       "      <th>NoDays</th>\n",
       "      <th>Motivation</th>\n",
       "      <th>Price</th>\n",
       "      <th>NrPeople</th>\n",
       "      <th>NrCh</th>\n",
       "      <th>Service</th>\n",
       "      <th>Transport</th>\n",
       "      <th>Loyalty</th>\n",
       "      <th>Paymenttype</th>\n",
       "    </tr>\n",
       "  </thead>\n",
       "  <tbody>\n",
       "    <tr>\n",
       "      <th>39</th>\n",
       "      <td>NaN</td>\n",
       "      <td>Madrid</td>\n",
       "      <td>5.0</td>\n",
       "      <td>tourism</td>\n",
       "      <td>1075.0</td>\n",
       "      <td>4.0</td>\n",
       "      <td>2.0</td>\n",
       "      <td>700.0</td>\n",
       "      <td>airplane</td>\n",
       "      <td>4.0</td>\n",
       "      <td>1.0</td>\n",
       "    </tr>\n",
       "    <tr>\n",
       "      <th>49</th>\n",
       "      <td>Italija</td>\n",
       "      <td>NaN</td>\n",
       "      <td>NaN</td>\n",
       "      <td>NaN</td>\n",
       "      <td>NaN</td>\n",
       "      <td>NaN</td>\n",
       "      <td>NaN</td>\n",
       "      <td>NaN</td>\n",
       "      <td>NaN</td>\n",
       "      <td>NaN</td>\n",
       "      <td>NaN</td>\n",
       "    </tr>\n",
       "    <tr>\n",
       "      <th>83</th>\n",
       "      <td>Španjolska</td>\n",
       "      <td>Madrid</td>\n",
       "      <td>7.0</td>\n",
       "      <td>NaN</td>\n",
       "      <td>1505.0</td>\n",
       "      <td>4.0</td>\n",
       "      <td>2.0</td>\n",
       "      <td>700.0</td>\n",
       "      <td>bus</td>\n",
       "      <td>4.0</td>\n",
       "      <td>2.0</td>\n",
       "    </tr>\n",
       "    <tr>\n",
       "      <th>238</th>\n",
       "      <td>Island</td>\n",
       "      <td>Reykjavík</td>\n",
       "      <td>10.0</td>\n",
       "      <td>tourism</td>\n",
       "      <td>2500.0</td>\n",
       "      <td>1.0</td>\n",
       "      <td>0.0</td>\n",
       "      <td>1000.0</td>\n",
       "      <td>NaN</td>\n",
       "      <td>6.0</td>\n",
       "      <td>2.0</td>\n",
       "    </tr>\n",
       "    <tr>\n",
       "      <th>241</th>\n",
       "      <td>Italija</td>\n",
       "      <td>Milano</td>\n",
       "      <td>5.0</td>\n",
       "      <td>business</td>\n",
       "      <td>850.0</td>\n",
       "      <td>1.0</td>\n",
       "      <td>NaN</td>\n",
       "      <td>1000.0</td>\n",
       "      <td>airplane</td>\n",
       "      <td>2.0</td>\n",
       "      <td>2.0</td>\n",
       "    </tr>\n",
       "    <tr>\n",
       "      <th>270</th>\n",
       "      <td>Španjolska</td>\n",
       "      <td>NaN</td>\n",
       "      <td>7.0</td>\n",
       "      <td>NaN</td>\n",
       "      <td>1505.0</td>\n",
       "      <td>NaN</td>\n",
       "      <td>2.0</td>\n",
       "      <td>700.0</td>\n",
       "      <td>bus</td>\n",
       "      <td>5.0</td>\n",
       "      <td>1.0</td>\n",
       "    </tr>\n",
       "  </tbody>\n",
       "</table>\n",
       "</div>"
      ],
      "text/plain": [
       "        Country       City  NoDays Motivation   Price  NrPeople  NrCh  \\\n",
       "39          NaN     Madrid     5.0    tourism  1075.0       4.0   2.0   \n",
       "49      Italija        NaN     NaN        NaN     NaN       NaN   NaN   \n",
       "83   Španjolska     Madrid     7.0        NaN  1505.0       4.0   2.0   \n",
       "238      Island  Reykjavík    10.0    tourism  2500.0       1.0   0.0   \n",
       "241     Italija     Milano     5.0   business   850.0       1.0   NaN   \n",
       "270  Španjolska        NaN     7.0        NaN  1505.0       NaN   2.0   \n",
       "\n",
       "     Service Transport  Loyalty  Paymenttype  \n",
       "39     700.0  airplane      4.0          1.0  \n",
       "49       NaN       NaN      NaN          NaN  \n",
       "83     700.0       bus      4.0          2.0  \n",
       "238   1000.0       NaN      6.0          2.0  \n",
       "241   1000.0  airplane      2.0          2.0  \n",
       "270    700.0       bus      5.0          1.0  "
      ]
     },
     "execution_count": 55,
     "metadata": {},
     "output_type": "execute_result"
    }
   ],
   "source": [
    "isna_values"
   ]
  },
  {
   "cell_type": "code",
   "execution_count": null,
   "id": "65d0381f-6c40-4fd7-9897-6c0ca352eace",
   "metadata": {},
   "outputs": [],
   "source": []
  },
  {
   "cell_type": "code",
   "execution_count": 56,
   "id": "78c9855c-f760-4a03-a579-bfdd292ea657",
   "metadata": {},
   "outputs": [],
   "source": [
    "turisti.dropna(thresh = 5, inplace = True)"
   ]
  },
  {
   "cell_type": "code",
   "execution_count": null,
   "id": "86a07522-1fb6-4ff7-a332-fa0e0eec19b9",
   "metadata": {},
   "outputs": [],
   "source": []
  },
  {
   "cell_type": "code",
   "execution_count": 57,
   "id": "30cd7855-d474-4658-b4a0-d9d707e96ce6",
   "metadata": {},
   "outputs": [],
   "source": [
    "prosjek_People = turisti [\"NrPeople\"].mean()"
   ]
  },
  {
   "cell_type": "code",
   "execution_count": 58,
   "id": "09ac13b7-c302-4999-9adf-2aad6f299654",
   "metadata": {},
   "outputs": [],
   "source": [
    "prosjek_People = round (prosjek_People)"
   ]
  },
  {
   "cell_type": "code",
   "execution_count": null,
   "id": "fa108462-9fcc-4334-a40a-7cb501aeeac6",
   "metadata": {},
   "outputs": [],
   "source": []
  },
  {
   "cell_type": "code",
   "execution_count": 59,
   "id": "82fdefa4-a099-4381-b401-a2e14db1f206",
   "metadata": {},
   "outputs": [
    {
     "name": "stderr",
     "output_type": "stream",
     "text": [
      "C:\\Users\\Syntari\\AppData\\Local\\Temp\\ipykernel_11932\\3810076397.py:1: FutureWarning: A value is trying to be set on a copy of a DataFrame or Series through chained assignment using an inplace method.\n",
      "The behavior will change in pandas 3.0. This inplace method will never work because the intermediate object on which we are setting values always behaves as a copy.\n",
      "\n",
      "For example, when doing 'df[col].method(value, inplace=True)', try using 'df.method({col: value}, inplace=True)' or df[col] = df[col].method(value) instead, to perform the operation inplace on the original object.\n",
      "\n",
      "\n",
      "  turisti [\"NrPeople\"].fillna (prosjek_People, inplace = True)\n"
     ]
    }
   ],
   "source": [
    "turisti [\"NrPeople\"].fillna (prosjek_People, inplace = True)"
   ]
  },
  {
   "cell_type": "code",
   "execution_count": 60,
   "id": "49db197c-d4f8-498d-87df-e242478bf454",
   "metadata": {},
   "outputs": [],
   "source": [
    "isna_values = turisti[turisti.isna().any(axis=1)]"
   ]
  },
  {
   "cell_type": "code",
   "execution_count": 61,
   "id": "d35b3013-b1fc-4d86-9e05-16d1e3a44994",
   "metadata": {},
   "outputs": [
    {
     "data": {
      "text/html": [
       "<div>\n",
       "<style scoped>\n",
       "    .dataframe tbody tr th:only-of-type {\n",
       "        vertical-align: middle;\n",
       "    }\n",
       "\n",
       "    .dataframe tbody tr th {\n",
       "        vertical-align: top;\n",
       "    }\n",
       "\n",
       "    .dataframe thead th {\n",
       "        text-align: right;\n",
       "    }\n",
       "</style>\n",
       "<table border=\"1\" class=\"dataframe\">\n",
       "  <thead>\n",
       "    <tr style=\"text-align: right;\">\n",
       "      <th></th>\n",
       "      <th>Country</th>\n",
       "      <th>City</th>\n",
       "      <th>NoDays</th>\n",
       "      <th>Motivation</th>\n",
       "      <th>Price</th>\n",
       "      <th>NrPeople</th>\n",
       "      <th>NrCh</th>\n",
       "      <th>Service</th>\n",
       "      <th>Transport</th>\n",
       "      <th>Loyalty</th>\n",
       "      <th>Paymenttype</th>\n",
       "    </tr>\n",
       "  </thead>\n",
       "  <tbody>\n",
       "    <tr>\n",
       "      <th>39</th>\n",
       "      <td>NaN</td>\n",
       "      <td>Madrid</td>\n",
       "      <td>5.0</td>\n",
       "      <td>tourism</td>\n",
       "      <td>1075.0</td>\n",
       "      <td>4.0</td>\n",
       "      <td>2.0</td>\n",
       "      <td>700.0</td>\n",
       "      <td>airplane</td>\n",
       "      <td>4.0</td>\n",
       "      <td>1.0</td>\n",
       "    </tr>\n",
       "    <tr>\n",
       "      <th>83</th>\n",
       "      <td>Španjolska</td>\n",
       "      <td>Madrid</td>\n",
       "      <td>7.0</td>\n",
       "      <td>NaN</td>\n",
       "      <td>1505.0</td>\n",
       "      <td>4.0</td>\n",
       "      <td>2.0</td>\n",
       "      <td>700.0</td>\n",
       "      <td>bus</td>\n",
       "      <td>4.0</td>\n",
       "      <td>2.0</td>\n",
       "    </tr>\n",
       "    <tr>\n",
       "      <th>238</th>\n",
       "      <td>Island</td>\n",
       "      <td>Reykjavík</td>\n",
       "      <td>10.0</td>\n",
       "      <td>tourism</td>\n",
       "      <td>2500.0</td>\n",
       "      <td>1.0</td>\n",
       "      <td>0.0</td>\n",
       "      <td>1000.0</td>\n",
       "      <td>NaN</td>\n",
       "      <td>6.0</td>\n",
       "      <td>2.0</td>\n",
       "    </tr>\n",
       "    <tr>\n",
       "      <th>241</th>\n",
       "      <td>Italija</td>\n",
       "      <td>Milano</td>\n",
       "      <td>5.0</td>\n",
       "      <td>business</td>\n",
       "      <td>850.0</td>\n",
       "      <td>1.0</td>\n",
       "      <td>NaN</td>\n",
       "      <td>1000.0</td>\n",
       "      <td>airplane</td>\n",
       "      <td>2.0</td>\n",
       "      <td>2.0</td>\n",
       "    </tr>\n",
       "    <tr>\n",
       "      <th>270</th>\n",
       "      <td>Španjolska</td>\n",
       "      <td>NaN</td>\n",
       "      <td>7.0</td>\n",
       "      <td>NaN</td>\n",
       "      <td>1505.0</td>\n",
       "      <td>3.0</td>\n",
       "      <td>2.0</td>\n",
       "      <td>700.0</td>\n",
       "      <td>bus</td>\n",
       "      <td>5.0</td>\n",
       "      <td>1.0</td>\n",
       "    </tr>\n",
       "  </tbody>\n",
       "</table>\n",
       "</div>"
      ],
      "text/plain": [
       "        Country       City  NoDays Motivation   Price  NrPeople  NrCh  \\\n",
       "39          NaN     Madrid     5.0    tourism  1075.0       4.0   2.0   \n",
       "83   Španjolska     Madrid     7.0        NaN  1505.0       4.0   2.0   \n",
       "238      Island  Reykjavík    10.0    tourism  2500.0       1.0   0.0   \n",
       "241     Italija     Milano     5.0   business   850.0       1.0   NaN   \n",
       "270  Španjolska        NaN     7.0        NaN  1505.0       3.0   2.0   \n",
       "\n",
       "     Service Transport  Loyalty  Paymenttype  \n",
       "39     700.0  airplane      4.0          1.0  \n",
       "83     700.0       bus      4.0          2.0  \n",
       "238   1000.0       NaN      6.0          2.0  \n",
       "241   1000.0  airplane      2.0          2.0  \n",
       "270    700.0       bus      5.0          1.0  "
      ]
     },
     "execution_count": 61,
     "metadata": {},
     "output_type": "execute_result"
    }
   ],
   "source": [
    "isna_values"
   ]
  },
  {
   "cell_type": "code",
   "execution_count": null,
   "id": "cbca6f68-9516-4f02-875c-e0ad411c2398",
   "metadata": {},
   "outputs": [],
   "source": []
  },
  {
   "cell_type": "code",
   "execution_count": 62,
   "id": "8b7548fc-52e0-40c7-b6a9-9599a749c3cf",
   "metadata": {},
   "outputs": [
    {
     "data": {
      "text/plain": [
       "1"
      ]
     },
     "execution_count": 62,
     "metadata": {},
     "output_type": "execute_result"
    }
   ],
   "source": [
    "mean_non_outliers_NrCh"
   ]
  },
  {
   "cell_type": "code",
   "execution_count": 63,
   "id": "548594af-ca38-4547-b09a-1305e3e2b302",
   "metadata": {},
   "outputs": [
    {
     "name": "stderr",
     "output_type": "stream",
     "text": [
      "C:\\Users\\Syntari\\AppData\\Local\\Temp\\ipykernel_11932\\3266394182.py:1: FutureWarning: A value is trying to be set on a copy of a DataFrame or Series through chained assignment using an inplace method.\n",
      "The behavior will change in pandas 3.0. This inplace method will never work because the intermediate object on which we are setting values always behaves as a copy.\n",
      "\n",
      "For example, when doing 'df[col].method(value, inplace=True)', try using 'df.method({col: value}, inplace=True)' or df[col] = df[col].method(value) instead, to perform the operation inplace on the original object.\n",
      "\n",
      "\n",
      "  turisti [\"NrCh\"].fillna (mean_non_outliers_NrCh, inplace = True)\n"
     ]
    }
   ],
   "source": [
    "turisti [\"NrCh\"].fillna (mean_non_outliers_NrCh, inplace = True)"
   ]
  },
  {
   "cell_type": "code",
   "execution_count": 64,
   "id": "3b8370b2-df7c-4d7c-998d-d27fa27b4b10",
   "metadata": {},
   "outputs": [
    {
     "data": {
      "text/html": [
       "<div>\n",
       "<style scoped>\n",
       "    .dataframe tbody tr th:only-of-type {\n",
       "        vertical-align: middle;\n",
       "    }\n",
       "\n",
       "    .dataframe tbody tr th {\n",
       "        vertical-align: top;\n",
       "    }\n",
       "\n",
       "    .dataframe thead th {\n",
       "        text-align: right;\n",
       "    }\n",
       "</style>\n",
       "<table border=\"1\" class=\"dataframe\">\n",
       "  <thead>\n",
       "    <tr style=\"text-align: right;\">\n",
       "      <th></th>\n",
       "      <th>Country</th>\n",
       "      <th>City</th>\n",
       "      <th>NoDays</th>\n",
       "      <th>Motivation</th>\n",
       "      <th>Price</th>\n",
       "      <th>NrPeople</th>\n",
       "      <th>NrCh</th>\n",
       "      <th>Service</th>\n",
       "      <th>Transport</th>\n",
       "      <th>Loyalty</th>\n",
       "      <th>Paymenttype</th>\n",
       "    </tr>\n",
       "  </thead>\n",
       "  <tbody>\n",
       "    <tr>\n",
       "      <th>39</th>\n",
       "      <td>NaN</td>\n",
       "      <td>Madrid</td>\n",
       "      <td>5.0</td>\n",
       "      <td>tourism</td>\n",
       "      <td>1075.0</td>\n",
       "      <td>4.0</td>\n",
       "      <td>2.0</td>\n",
       "      <td>700.0</td>\n",
       "      <td>airplane</td>\n",
       "      <td>4.0</td>\n",
       "      <td>1.0</td>\n",
       "    </tr>\n",
       "    <tr>\n",
       "      <th>83</th>\n",
       "      <td>Španjolska</td>\n",
       "      <td>Madrid</td>\n",
       "      <td>7.0</td>\n",
       "      <td>NaN</td>\n",
       "      <td>1505.0</td>\n",
       "      <td>4.0</td>\n",
       "      <td>2.0</td>\n",
       "      <td>700.0</td>\n",
       "      <td>bus</td>\n",
       "      <td>4.0</td>\n",
       "      <td>2.0</td>\n",
       "    </tr>\n",
       "    <tr>\n",
       "      <th>238</th>\n",
       "      <td>Island</td>\n",
       "      <td>Reykjavík</td>\n",
       "      <td>10.0</td>\n",
       "      <td>tourism</td>\n",
       "      <td>2500.0</td>\n",
       "      <td>1.0</td>\n",
       "      <td>0.0</td>\n",
       "      <td>1000.0</td>\n",
       "      <td>NaN</td>\n",
       "      <td>6.0</td>\n",
       "      <td>2.0</td>\n",
       "    </tr>\n",
       "    <tr>\n",
       "      <th>270</th>\n",
       "      <td>Španjolska</td>\n",
       "      <td>NaN</td>\n",
       "      <td>7.0</td>\n",
       "      <td>NaN</td>\n",
       "      <td>1505.0</td>\n",
       "      <td>3.0</td>\n",
       "      <td>2.0</td>\n",
       "      <td>700.0</td>\n",
       "      <td>bus</td>\n",
       "      <td>5.0</td>\n",
       "      <td>1.0</td>\n",
       "    </tr>\n",
       "  </tbody>\n",
       "</table>\n",
       "</div>"
      ],
      "text/plain": [
       "        Country       City  NoDays Motivation   Price  NrPeople  NrCh  \\\n",
       "39          NaN     Madrid     5.0    tourism  1075.0       4.0   2.0   \n",
       "83   Španjolska     Madrid     7.0        NaN  1505.0       4.0   2.0   \n",
       "238      Island  Reykjavík    10.0    tourism  2500.0       1.0   0.0   \n",
       "270  Španjolska        NaN     7.0        NaN  1505.0       3.0   2.0   \n",
       "\n",
       "     Service Transport  Loyalty  Paymenttype  \n",
       "39     700.0  airplane      4.0          1.0  \n",
       "83     700.0       bus      4.0          2.0  \n",
       "238   1000.0       NaN      6.0          2.0  \n",
       "270    700.0       bus      5.0          1.0  "
      ]
     },
     "execution_count": 64,
     "metadata": {},
     "output_type": "execute_result"
    }
   ],
   "source": [
    "isna_values = turisti[turisti.isna().any(axis=1)]\n",
    "isna_values"
   ]
  },
  {
   "cell_type": "code",
   "execution_count": null,
   "id": "4eb76db3-a9e3-468d-b8e1-7d1c8a1638b4",
   "metadata": {},
   "outputs": [],
   "source": []
  },
  {
   "cell_type": "code",
   "execution_count": 65,
   "id": "82564612-8914-42c1-88db-2fd083cc8697",
   "metadata": {},
   "outputs": [
    {
     "data": {
      "text/plain": [
       "0    tourism\n",
       "Name: Motivation, dtype: object"
      ]
     },
     "execution_count": 65,
     "metadata": {},
     "output_type": "execute_result"
    }
   ],
   "source": [
    "turisti[\"Motivation\"].mode()"
   ]
  },
  {
   "cell_type": "code",
   "execution_count": 66,
   "id": "eef71b33-6365-431e-8421-131780e80949",
   "metadata": {},
   "outputs": [
    {
     "name": "stderr",
     "output_type": "stream",
     "text": [
      "C:\\Users\\Syntari\\AppData\\Local\\Temp\\ipykernel_11932\\3458909544.py:1: FutureWarning: A value is trying to be set on a copy of a DataFrame or Series through chained assignment using an inplace method.\n",
      "The behavior will change in pandas 3.0. This inplace method will never work because the intermediate object on which we are setting values always behaves as a copy.\n",
      "\n",
      "For example, when doing 'df[col].method(value, inplace=True)', try using 'df.method({col: value}, inplace=True)' or df[col] = df[col].method(value) instead, to perform the operation inplace on the original object.\n",
      "\n",
      "\n",
      "  turisti [\"Motivation\"].fillna(value = \"tourism\", inplace = True)\n"
     ]
    }
   ],
   "source": [
    "turisti [\"Motivation\"].fillna(value = \"tourism\", inplace = True)"
   ]
  },
  {
   "cell_type": "code",
   "execution_count": 67,
   "id": "e6174095-47b7-4ca4-a71b-cb653ed332c3",
   "metadata": {},
   "outputs": [],
   "source": [
    "isna_values = turisti[turisti.isna().any(axis=1)]"
   ]
  },
  {
   "cell_type": "code",
   "execution_count": 68,
   "id": "c762ddf4-11ab-44e6-a0d7-3349e493e267",
   "metadata": {},
   "outputs": [
    {
     "data": {
      "text/html": [
       "<div>\n",
       "<style scoped>\n",
       "    .dataframe tbody tr th:only-of-type {\n",
       "        vertical-align: middle;\n",
       "    }\n",
       "\n",
       "    .dataframe tbody tr th {\n",
       "        vertical-align: top;\n",
       "    }\n",
       "\n",
       "    .dataframe thead th {\n",
       "        text-align: right;\n",
       "    }\n",
       "</style>\n",
       "<table border=\"1\" class=\"dataframe\">\n",
       "  <thead>\n",
       "    <tr style=\"text-align: right;\">\n",
       "      <th></th>\n",
       "      <th>Country</th>\n",
       "      <th>City</th>\n",
       "      <th>NoDays</th>\n",
       "      <th>Motivation</th>\n",
       "      <th>Price</th>\n",
       "      <th>NrPeople</th>\n",
       "      <th>NrCh</th>\n",
       "      <th>Service</th>\n",
       "      <th>Transport</th>\n",
       "      <th>Loyalty</th>\n",
       "      <th>Paymenttype</th>\n",
       "    </tr>\n",
       "  </thead>\n",
       "  <tbody>\n",
       "    <tr>\n",
       "      <th>39</th>\n",
       "      <td>NaN</td>\n",
       "      <td>Madrid</td>\n",
       "      <td>5.0</td>\n",
       "      <td>tourism</td>\n",
       "      <td>1075.0</td>\n",
       "      <td>4.0</td>\n",
       "      <td>2.0</td>\n",
       "      <td>700.0</td>\n",
       "      <td>airplane</td>\n",
       "      <td>4.0</td>\n",
       "      <td>1.0</td>\n",
       "    </tr>\n",
       "    <tr>\n",
       "      <th>238</th>\n",
       "      <td>Island</td>\n",
       "      <td>Reykjavík</td>\n",
       "      <td>10.0</td>\n",
       "      <td>tourism</td>\n",
       "      <td>2500.0</td>\n",
       "      <td>1.0</td>\n",
       "      <td>0.0</td>\n",
       "      <td>1000.0</td>\n",
       "      <td>NaN</td>\n",
       "      <td>6.0</td>\n",
       "      <td>2.0</td>\n",
       "    </tr>\n",
       "    <tr>\n",
       "      <th>270</th>\n",
       "      <td>Španjolska</td>\n",
       "      <td>NaN</td>\n",
       "      <td>7.0</td>\n",
       "      <td>tourism</td>\n",
       "      <td>1505.0</td>\n",
       "      <td>3.0</td>\n",
       "      <td>2.0</td>\n",
       "      <td>700.0</td>\n",
       "      <td>bus</td>\n",
       "      <td>5.0</td>\n",
       "      <td>1.0</td>\n",
       "    </tr>\n",
       "  </tbody>\n",
       "</table>\n",
       "</div>"
      ],
      "text/plain": [
       "        Country       City  NoDays Motivation   Price  NrPeople  NrCh  \\\n",
       "39          NaN     Madrid     5.0    tourism  1075.0       4.0   2.0   \n",
       "238      Island  Reykjavík    10.0    tourism  2500.0       1.0   0.0   \n",
       "270  Španjolska        NaN     7.0    tourism  1505.0       3.0   2.0   \n",
       "\n",
       "     Service Transport  Loyalty  Paymenttype  \n",
       "39     700.0  airplane      4.0          1.0  \n",
       "238   1000.0       NaN      6.0          2.0  \n",
       "270    700.0       bus      5.0          1.0  "
      ]
     },
     "execution_count": 68,
     "metadata": {},
     "output_type": "execute_result"
    }
   ],
   "source": [
    "isna_values"
   ]
  },
  {
   "cell_type": "code",
   "execution_count": null,
   "id": "f94d339e-2b48-4390-978c-3f062ba94bbc",
   "metadata": {},
   "outputs": [],
   "source": []
  },
  {
   "cell_type": "code",
   "execution_count": 69,
   "id": "2ed1e196-b1ff-4a91-9f69-e6f74eb22b8a",
   "metadata": {},
   "outputs": [
    {
     "name": "stderr",
     "output_type": "stream",
     "text": [
      "C:\\Users\\Syntari\\AppData\\Local\\Temp\\ipykernel_11932\\811382505.py:1: FutureWarning: A value is trying to be set on a copy of a DataFrame or Series through chained assignment using an inplace method.\n",
      "The behavior will change in pandas 3.0. This inplace method will never work because the intermediate object on which we are setting values always behaves as a copy.\n",
      "\n",
      "For example, when doing 'df[col].method(value, inplace=True)', try using 'df.method({col: value}, inplace=True)' or df[col] = df[col].method(value) instead, to perform the operation inplace on the original object.\n",
      "\n",
      "\n",
      "  turisti [\"Country\"].fillna(value = \"Španjolska\", inplace = True)\n"
     ]
    }
   ],
   "source": [
    "turisti [\"Country\"].fillna(value = \"Španjolska\", inplace = True)"
   ]
  },
  {
   "cell_type": "code",
   "execution_count": 70,
   "id": "00ef292b-8894-4a99-b3e9-acc491c4842d",
   "metadata": {},
   "outputs": [],
   "source": [
    "isna_values = turisti[turisti.isna().any(axis=1)]"
   ]
  },
  {
   "cell_type": "code",
   "execution_count": 71,
   "id": "8dc96133-e575-49ff-845e-146264d8307a",
   "metadata": {},
   "outputs": [
    {
     "data": {
      "text/html": [
       "<div>\n",
       "<style scoped>\n",
       "    .dataframe tbody tr th:only-of-type {\n",
       "        vertical-align: middle;\n",
       "    }\n",
       "\n",
       "    .dataframe tbody tr th {\n",
       "        vertical-align: top;\n",
       "    }\n",
       "\n",
       "    .dataframe thead th {\n",
       "        text-align: right;\n",
       "    }\n",
       "</style>\n",
       "<table border=\"1\" class=\"dataframe\">\n",
       "  <thead>\n",
       "    <tr style=\"text-align: right;\">\n",
       "      <th></th>\n",
       "      <th>Country</th>\n",
       "      <th>City</th>\n",
       "      <th>NoDays</th>\n",
       "      <th>Motivation</th>\n",
       "      <th>Price</th>\n",
       "      <th>NrPeople</th>\n",
       "      <th>NrCh</th>\n",
       "      <th>Service</th>\n",
       "      <th>Transport</th>\n",
       "      <th>Loyalty</th>\n",
       "      <th>Paymenttype</th>\n",
       "    </tr>\n",
       "  </thead>\n",
       "  <tbody>\n",
       "    <tr>\n",
       "      <th>238</th>\n",
       "      <td>Island</td>\n",
       "      <td>Reykjavík</td>\n",
       "      <td>10.0</td>\n",
       "      <td>tourism</td>\n",
       "      <td>2500.0</td>\n",
       "      <td>1.0</td>\n",
       "      <td>0.0</td>\n",
       "      <td>1000.0</td>\n",
       "      <td>NaN</td>\n",
       "      <td>6.0</td>\n",
       "      <td>2.0</td>\n",
       "    </tr>\n",
       "    <tr>\n",
       "      <th>270</th>\n",
       "      <td>Španjolska</td>\n",
       "      <td>NaN</td>\n",
       "      <td>7.0</td>\n",
       "      <td>tourism</td>\n",
       "      <td>1505.0</td>\n",
       "      <td>3.0</td>\n",
       "      <td>2.0</td>\n",
       "      <td>700.0</td>\n",
       "      <td>bus</td>\n",
       "      <td>5.0</td>\n",
       "      <td>1.0</td>\n",
       "    </tr>\n",
       "  </tbody>\n",
       "</table>\n",
       "</div>"
      ],
      "text/plain": [
       "        Country       City  NoDays Motivation   Price  NrPeople  NrCh  \\\n",
       "238      Island  Reykjavík    10.0    tourism  2500.0       1.0   0.0   \n",
       "270  Španjolska        NaN     7.0    tourism  1505.0       3.0   2.0   \n",
       "\n",
       "     Service Transport  Loyalty  Paymenttype  \n",
       "238   1000.0       NaN      6.0          2.0  \n",
       "270    700.0       bus      5.0          1.0  "
      ]
     },
     "execution_count": 71,
     "metadata": {},
     "output_type": "execute_result"
    }
   ],
   "source": [
    "isna_values"
   ]
  },
  {
   "cell_type": "code",
   "execution_count": null,
   "id": "247eff2e-09e4-43be-8fae-2059132d2e66",
   "metadata": {},
   "outputs": [],
   "source": []
  },
  {
   "cell_type": "code",
   "execution_count": 72,
   "id": "93322757-e264-43fa-bff8-fd60170351be",
   "metadata": {},
   "outputs": [
    {
     "data": {
      "text/plain": [
       "0    bus\n",
       "Name: Transport, dtype: object"
      ]
     },
     "execution_count": 72,
     "metadata": {},
     "output_type": "execute_result"
    }
   ],
   "source": [
    "turisti[\"Transport\"].mode()"
   ]
  },
  {
   "cell_type": "code",
   "execution_count": 73,
   "id": "a1ad90dd-c00b-491b-8aa3-824fd12fab5d",
   "metadata": {},
   "outputs": [
    {
     "name": "stderr",
     "output_type": "stream",
     "text": [
      "C:\\Users\\Syntari\\AppData\\Local\\Temp\\ipykernel_11932\\1001795868.py:1: FutureWarning: A value is trying to be set on a copy of a DataFrame or Series through chained assignment using an inplace method.\n",
      "The behavior will change in pandas 3.0. This inplace method will never work because the intermediate object on which we are setting values always behaves as a copy.\n",
      "\n",
      "For example, when doing 'df[col].method(value, inplace=True)', try using 'df.method({col: value}, inplace=True)' or df[col] = df[col].method(value) instead, to perform the operation inplace on the original object.\n",
      "\n",
      "\n",
      "  turisti [\"Transport\"].fillna(value = \"airplane\", inplace = True)\n"
     ]
    }
   ],
   "source": [
    "turisti [\"Transport\"].fillna(value = \"airplane\", inplace = True)"
   ]
  },
  {
   "cell_type": "code",
   "execution_count": null,
   "id": "a06095c4-2119-44c7-9f5f-9a128dc43eed",
   "metadata": {},
   "outputs": [],
   "source": []
  },
  {
   "cell_type": "code",
   "execution_count": null,
   "id": "d227ea9b-7d27-4e40-92ed-8589f45ce63c",
   "metadata": {},
   "outputs": [],
   "source": []
  },
  {
   "cell_type": "code",
   "execution_count": 74,
   "id": "0f5a0d8c-75c8-4508-b5bd-3a917689ce38",
   "metadata": {},
   "outputs": [
    {
     "name": "stderr",
     "output_type": "stream",
     "text": [
      "C:\\Users\\Syntari\\AppData\\Local\\Temp\\ipykernel_11932\\1837169364.py:1: FutureWarning: A value is trying to be set on a copy of a DataFrame or Series through chained assignment using an inplace method.\n",
      "The behavior will change in pandas 3.0. This inplace method will never work because the intermediate object on which we are setting values always behaves as a copy.\n",
      "\n",
      "For example, when doing 'df[col].method(value, inplace=True)', try using 'df.method({col: value}, inplace=True)' or df[col] = df[col].method(value) instead, to perform the operation inplace on the original object.\n",
      "\n",
      "\n",
      "  turisti [\"City\"].fillna(value = \"Barcelona\", inplace = True)\n"
     ]
    }
   ],
   "source": [
    "turisti [\"City\"].fillna(value = \"Barcelona\", inplace = True)"
   ]
  },
  {
   "cell_type": "code",
   "execution_count": 75,
   "id": "74c2845c-98c7-4415-b675-64ad1f5b1db4",
   "metadata": {},
   "outputs": [],
   "source": [
    "isna_values = turisti[turisti.isna().any(axis=1)]"
   ]
  },
  {
   "cell_type": "code",
   "execution_count": 76,
   "id": "8d27a6da-fce6-45f4-ba9e-73ce182c2995",
   "metadata": {},
   "outputs": [
    {
     "data": {
      "text/html": [
       "<div>\n",
       "<style scoped>\n",
       "    .dataframe tbody tr th:only-of-type {\n",
       "        vertical-align: middle;\n",
       "    }\n",
       "\n",
       "    .dataframe tbody tr th {\n",
       "        vertical-align: top;\n",
       "    }\n",
       "\n",
       "    .dataframe thead th {\n",
       "        text-align: right;\n",
       "    }\n",
       "</style>\n",
       "<table border=\"1\" class=\"dataframe\">\n",
       "  <thead>\n",
       "    <tr style=\"text-align: right;\">\n",
       "      <th></th>\n",
       "      <th>Country</th>\n",
       "      <th>City</th>\n",
       "      <th>NoDays</th>\n",
       "      <th>Motivation</th>\n",
       "      <th>Price</th>\n",
       "      <th>NrPeople</th>\n",
       "      <th>NrCh</th>\n",
       "      <th>Service</th>\n",
       "      <th>Transport</th>\n",
       "      <th>Loyalty</th>\n",
       "      <th>Paymenttype</th>\n",
       "    </tr>\n",
       "  </thead>\n",
       "  <tbody>\n",
       "  </tbody>\n",
       "</table>\n",
       "</div>"
      ],
      "text/plain": [
       "Empty DataFrame\n",
       "Columns: [Country, City, NoDays, Motivation, Price, NrPeople, NrCh, Service, Transport, Loyalty, Paymenttype]\n",
       "Index: []"
      ]
     },
     "execution_count": 76,
     "metadata": {},
     "output_type": "execute_result"
    }
   ],
   "source": [
    "isna_values"
   ]
  },
  {
   "cell_type": "code",
   "execution_count": null,
   "id": "f7ba13f9-b075-452f-8e33-7dd4694a7054",
   "metadata": {},
   "outputs": [],
   "source": []
  },
  {
   "cell_type": "code",
   "execution_count": null,
   "id": "3c78fd90-49b5-4c6f-8000-4c423f38def9",
   "metadata": {},
   "outputs": [],
   "source": [
    "### duplici"
   ]
  },
  {
   "cell_type": "code",
   "execution_count": 77,
   "id": "2b5eef48-0187-4145-ab2a-3de17c379a15",
   "metadata": {},
   "outputs": [],
   "source": [
    "turisti.duplicated().sum()\n",
    "turisti.drop_duplicates(inplace=True)"
   ]
  },
  {
   "cell_type": "code",
   "execution_count": null,
   "id": "c7aaa199-7213-4749-9ebb-52c6b1d918c1",
   "metadata": {},
   "outputs": [],
   "source": []
  },
  {
   "cell_type": "code",
   "execution_count": null,
   "id": "0fbe447c-1aff-4c55-bfc2-4b3978a31ac4",
   "metadata": {},
   "outputs": [],
   "source": []
  },
  {
   "cell_type": "code",
   "execution_count": null,
   "id": "41239aad-c3f2-433a-b342-1122b2c57aa1",
   "metadata": {},
   "outputs": [],
   "source": []
  },
  {
   "cell_type": "code",
   "execution_count": null,
   "id": "546e1aaa-e2b3-42bc-91f3-82b6e34c4374",
   "metadata": {},
   "outputs": [],
   "source": []
  },
  {
   "cell_type": "code",
   "execution_count": null,
   "id": "d26f2aba-fb6d-4c58-90a9-493622e97bd2",
   "metadata": {},
   "outputs": [],
   "source": []
  },
  {
   "cell_type": "code",
   "execution_count": null,
   "id": "d14285ee-1fef-4cd5-8c2e-9fd122e99de3",
   "metadata": {},
   "outputs": [],
   "source": []
  },
  {
   "cell_type": "code",
   "execution_count": null,
   "id": "522d974b-4e35-4f65-99b5-98e8ebc33d1e",
   "metadata": {},
   "outputs": [],
   "source": []
  },
  {
   "cell_type": "code",
   "execution_count": null,
   "id": "538abe81-f15a-4117-988a-e74c63c29fa9",
   "metadata": {},
   "outputs": [],
   "source": []
  },
  {
   "cell_type": "code",
   "execution_count": null,
   "id": "daa9b86e-bfaa-4368-bb76-ffb8e48cb86a",
   "metadata": {},
   "outputs": [],
   "source": []
  }
 ],
 "metadata": {
  "kernelspec": {
   "display_name": "Python [conda env:base] *",
   "language": "python",
   "name": "conda-base-py"
  },
  "language_info": {
   "codemirror_mode": {
    "name": "ipython",
    "version": 3
   },
   "file_extension": ".py",
   "mimetype": "text/x-python",
   "name": "python",
   "nbconvert_exporter": "python",
   "pygments_lexer": "ipython3",
   "version": "3.13.5"
  }
 },
 "nbformat": 4,
 "nbformat_minor": 5
}
