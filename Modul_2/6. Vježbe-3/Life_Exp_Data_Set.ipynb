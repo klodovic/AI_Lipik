{
 "cells": [
  {
   "cell_type": "code",
   "execution_count": null,
   "id": "73dcb2d3-9ace-45a9-91b5-87dbeb7acfe1",
   "metadata": {},
   "outputs": [],
   "source": [
    "import pandas as pd\n",
    "import matplotlib.pyplot as plt\n",
    "import seaborn as sns\n",
    "\n"
   ]
  },
  {
   "cell_type": "code",
   "execution_count": 6,
   "id": "e019d174-495a-4c4e-9581-da530c5823ff",
   "metadata": {},
   "outputs": [
    {
     "data": {
      "text/html": [
       "<div>\n",
       "<style scoped>\n",
       "    .dataframe tbody tr th:only-of-type {\n",
       "        vertical-align: middle;\n",
       "    }\n",
       "\n",
       "    .dataframe tbody tr th {\n",
       "        vertical-align: top;\n",
       "    }\n",
       "\n",
       "    .dataframe thead th {\n",
       "        text-align: right;\n",
       "    }\n",
       "</style>\n",
       "<table border=\"1\" class=\"dataframe\">\n",
       "  <thead>\n",
       "    <tr style=\"text-align: right;\">\n",
       "      <th></th>\n",
       "      <th>Unnamed: 0</th>\n",
       "      <th>Life_Expectancy</th>\n",
       "      <th>Average_Temperature</th>\n",
       "      <th>Daily_Screen_Time</th>\n",
       "      <th>Health_Index</th>\n",
       "      <th>Income</th>\n",
       "      <th>Country</th>\n",
       "      <th>Diet_Type</th>\n",
       "      <th>Government_Health_Policy</th>\n",
       "    </tr>\n",
       "  </thead>\n",
       "  <tbody>\n",
       "    <tr>\n",
       "      <th>0</th>\n",
       "      <td>0</td>\n",
       "      <td>72.483571</td>\n",
       "      <td>17.923146</td>\n",
       "      <td>4.357787</td>\n",
       "      <td>71.654576</td>\n",
       "      <td>74294.715447</td>\n",
       "      <td>Country B</td>\n",
       "      <td>Vegetarian</td>\n",
       "      <td>1.0</td>\n",
       "    </tr>\n",
       "    <tr>\n",
       "      <th>1</th>\n",
       "      <td>1</td>\n",
       "      <td>69.308678</td>\n",
       "      <td>22.896773</td>\n",
       "      <td>4.560785</td>\n",
       "      <td>68.748497</td>\n",
       "      <td>73109.928448</td>\n",
       "      <td>Country B</td>\n",
       "      <td>Non-Vegetarian</td>\n",
       "      <td>1.0</td>\n",
       "    </tr>\n",
       "    <tr>\n",
       "      <th>2</th>\n",
       "      <td>2</td>\n",
       "      <td>73.238443</td>\n",
       "      <td>23.286427</td>\n",
       "      <td>5.083051</td>\n",
       "      <td>73.985736</td>\n",
       "      <td>78248.930090</td>\n",
       "      <td>Country C</td>\n",
       "      <td>Vegetarian</td>\n",
       "      <td>1.0</td>\n",
       "    </tr>\n",
       "    <tr>\n",
       "      <th>3</th>\n",
       "      <td>3</td>\n",
       "      <td>77.615149</td>\n",
       "      <td>20.988614</td>\n",
       "      <td>5.053802</td>\n",
       "      <td>78.225520</td>\n",
       "      <td>82709.110470</td>\n",
       "      <td>Country C</td>\n",
       "      <td>Vegan</td>\n",
       "      <td>1.0</td>\n",
       "    </tr>\n",
       "    <tr>\n",
       "      <th>4</th>\n",
       "      <td>4</td>\n",
       "      <td>68.829233</td>\n",
       "      <td>24.193571</td>\n",
       "      <td>2.622331</td>\n",
       "      <td>68.808332</td>\n",
       "      <td>72929.102183</td>\n",
       "      <td>Country A</td>\n",
       "      <td>Vegetarian</td>\n",
       "      <td>1.0</td>\n",
       "    </tr>\n",
       "  </tbody>\n",
       "</table>\n",
       "</div>"
      ],
      "text/plain": [
       "   Unnamed: 0  Life_Expectancy  Average_Temperature  Daily_Screen_Time  \\\n",
       "0           0        72.483571            17.923146           4.357787   \n",
       "1           1        69.308678            22.896773           4.560785   \n",
       "2           2        73.238443            23.286427           5.083051   \n",
       "3           3        77.615149            20.988614           5.053802   \n",
       "4           4        68.829233            24.193571           2.622331   \n",
       "\n",
       "   Health_Index        Income    Country       Diet_Type  \\\n",
       "0     71.654576  74294.715447  Country B      Vegetarian   \n",
       "1     68.748497  73109.928448  Country B  Non-Vegetarian   \n",
       "2     73.985736  78248.930090  Country C      Vegetarian   \n",
       "3     78.225520  82709.110470  Country C           Vegan   \n",
       "4     68.808332  72929.102183  Country A      Vegetarian   \n",
       "\n",
       "   Government_Health_Policy  \n",
       "0                       1.0  \n",
       "1                       1.0  \n",
       "2                       1.0  \n",
       "3                       1.0  \n",
       "4                       1.0  "
      ]
     },
     "execution_count": 6,
     "metadata": {},
     "output_type": "execute_result"
    }
   ],
   "source": [
    "df = pd.read_csv(\"life_exp.csv\")\n",
    "df.head()"
   ]
  },
  {
   "cell_type": "code",
   "execution_count": 17,
   "id": "4d911ba6-64b3-4a48-8e30-789bb043b8f6",
   "metadata": {},
   "outputs": [
    {
     "data": {
      "text/html": [
       "<div>\n",
       "<style scoped>\n",
       "    .dataframe tbody tr th:only-of-type {\n",
       "        vertical-align: middle;\n",
       "    }\n",
       "\n",
       "    .dataframe tbody tr th {\n",
       "        vertical-align: top;\n",
       "    }\n",
       "\n",
       "    .dataframe thead th {\n",
       "        text-align: right;\n",
       "    }\n",
       "</style>\n",
       "<table border=\"1\" class=\"dataframe\">\n",
       "  <thead>\n",
       "    <tr style=\"text-align: right;\">\n",
       "      <th></th>\n",
       "      <th>Unnamed: 0</th>\n",
       "      <th>Life_Expectancy</th>\n",
       "      <th>Average_Temperature</th>\n",
       "      <th>Daily_Screen_Time</th>\n",
       "      <th>Health_Index</th>\n",
       "      <th>Income</th>\n",
       "      <th>Government_Health_Policy</th>\n",
       "    </tr>\n",
       "  </thead>\n",
       "  <tbody>\n",
       "    <tr>\n",
       "      <th>count</th>\n",
       "      <td>100.000000</td>\n",
       "      <td>100.000000</td>\n",
       "      <td>100.000000</td>\n",
       "      <td>100.000000</td>\n",
       "      <td>100.000000</td>\n",
       "      <td>100.000000</td>\n",
       "      <td>100.0</td>\n",
       "    </tr>\n",
       "    <tr>\n",
       "      <th>mean</th>\n",
       "      <td>49.500000</td>\n",
       "      <td>69.480767</td>\n",
       "      <td>25.111523</td>\n",
       "      <td>4.064896</td>\n",
       "      <td>69.587608</td>\n",
       "      <td>74368.758472</td>\n",
       "      <td>1.0</td>\n",
       "    </tr>\n",
       "    <tr>\n",
       "      <th>std</th>\n",
       "      <td>29.011492</td>\n",
       "      <td>4.540842</td>\n",
       "      <td>4.768345</td>\n",
       "      <td>1.084283</td>\n",
       "      <td>4.475948</td>\n",
       "      <td>4744.899489</td>\n",
       "      <td>0.0</td>\n",
       "    </tr>\n",
       "    <tr>\n",
       "      <th>min</th>\n",
       "      <td>0.000000</td>\n",
       "      <td>56.901274</td>\n",
       "      <td>15.406144</td>\n",
       "      <td>0.758733</td>\n",
       "      <td>59.054457</td>\n",
       "      <td>62441.446464</td>\n",
       "      <td>1.0</td>\n",
       "    </tr>\n",
       "    <tr>\n",
       "      <th>25%</th>\n",
       "      <td>24.750000</td>\n",
       "      <td>66.995472</td>\n",
       "      <td>20.971697</td>\n",
       "      <td>3.344556</td>\n",
       "      <td>66.820378</td>\n",
       "      <td>70968.995974</td>\n",
       "      <td>1.0</td>\n",
       "    </tr>\n",
       "    <tr>\n",
       "      <th>50%</th>\n",
       "      <td>49.500000</td>\n",
       "      <td>69.365219</td>\n",
       "      <td>25.420536</td>\n",
       "      <td>4.097696</td>\n",
       "      <td>69.626849</td>\n",
       "      <td>74399.904642</td>\n",
       "      <td>1.0</td>\n",
       "    </tr>\n",
       "    <tr>\n",
       "      <th>75%</th>\n",
       "      <td>74.250000</td>\n",
       "      <td>72.029760</td>\n",
       "      <td>27.690852</td>\n",
       "      <td>4.704437</td>\n",
       "      <td>72.651242</td>\n",
       "      <td>78126.987900</td>\n",
       "      <td>1.0</td>\n",
       "    </tr>\n",
       "    <tr>\n",
       "      <th>max</th>\n",
       "      <td>99.000000</td>\n",
       "      <td>79.261391</td>\n",
       "      <td>38.600846</td>\n",
       "      <td>7.852731</td>\n",
       "      <td>79.173729</td>\n",
       "      <td>86449.739694</td>\n",
       "      <td>1.0</td>\n",
       "    </tr>\n",
       "  </tbody>\n",
       "</table>\n",
       "</div>"
      ],
      "text/plain": [
       "       Unnamed: 0  Life_Expectancy  Average_Temperature  Daily_Screen_Time  \\\n",
       "count  100.000000       100.000000           100.000000         100.000000   \n",
       "mean    49.500000        69.480767            25.111523           4.064896   \n",
       "std     29.011492         4.540842             4.768345           1.084283   \n",
       "min      0.000000        56.901274            15.406144           0.758733   \n",
       "25%     24.750000        66.995472            20.971697           3.344556   \n",
       "50%     49.500000        69.365219            25.420536           4.097696   \n",
       "75%     74.250000        72.029760            27.690852           4.704437   \n",
       "max     99.000000        79.261391            38.600846           7.852731   \n",
       "\n",
       "       Health_Index        Income  Government_Health_Policy  \n",
       "count    100.000000    100.000000                     100.0  \n",
       "mean      69.587608  74368.758472                       1.0  \n",
       "std        4.475948   4744.899489                       0.0  \n",
       "min       59.054457  62441.446464                       1.0  \n",
       "25%       66.820378  70968.995974                       1.0  \n",
       "50%       69.626849  74399.904642                       1.0  \n",
       "75%       72.651242  78126.987900                       1.0  \n",
       "max       79.173729  86449.739694                       1.0  "
      ]
     },
     "execution_count": 17,
     "metadata": {},
     "output_type": "execute_result"
    }
   ],
   "source": [
    "df.describe()"
   ]
  },
  {
   "cell_type": "markdown",
   "id": "cf56e7b8-fb98-4784-aeb6-2a354221ef2d",
   "metadata": {},
   "source": [
    "### Analiza odnosa Life_Expectancy, Health_Index i Income"
   ]
  },
  {
   "cell_type": "code",
   "execution_count": 7,
   "id": "a643004c-0685-43ba-a58f-7e338d421c13",
   "metadata": {},
   "outputs": [
    {
     "data": {
      "text/plain": [
       "Country\n",
       "Country B    38\n",
       "Country C    33\n",
       "Country A    29\n",
       "Name: count, dtype: int64"
      ]
     },
     "execution_count": 7,
     "metadata": {},
     "output_type": "execute_result"
    }
   ],
   "source": [
    "df['Country'].value_counts()"
   ]
  },
  {
   "cell_type": "code",
   "execution_count": 8,
   "id": "841e1660-f7ba-4ed6-893f-094a0c5adbdd",
   "metadata": {},
   "outputs": [
    {
     "data": {
      "text/plain": [
       "Diet_Type\n",
       "Vegan             36\n",
       "Vegetarian        34\n",
       "Non-Vegetarian    30\n",
       "Name: count, dtype: int64"
      ]
     },
     "execution_count": 8,
     "metadata": {},
     "output_type": "execute_result"
    }
   ],
   "source": [
    "df['Diet_Type'].value_counts()"
   ]
  },
  {
   "cell_type": "code",
   "execution_count": 11,
   "id": "044dba6f-7a8b-4229-86da-54473bf2cbe3",
   "metadata": {},
   "outputs": [],
   "source": [
    "###df['Income'].value_counts()"
   ]
  },
  {
   "cell_type": "code",
   "execution_count": 12,
   "id": "925d849f-3c1a-49c0-8ae2-aacf2723be74",
   "metadata": {},
   "outputs": [
    {
     "data": {
      "text/plain": [
       "Unnamed: 0                  0\n",
       "Life_Expectancy             0\n",
       "Average_Temperature         0\n",
       "Daily_Screen_Time           0\n",
       "Health_Index                0\n",
       "Income                      0\n",
       "Country                     0\n",
       "Diet_Type                   0\n",
       "Government_Health_Policy    0\n",
       "dtype: int64"
      ]
     },
     "execution_count": 12,
     "metadata": {},
     "output_type": "execute_result"
    }
   ],
   "source": [
    "df.isnull().sum()"
   ]
  },
  {
   "cell_type": "code",
   "execution_count": 13,
   "id": "f03371c5-a767-4586-9e12-5cec09518298",
   "metadata": {},
   "outputs": [],
   "source": [
    "## Korelacijska matrica"
   ]
  },
  {
   "cell_type": "code",
   "execution_count": 16,
   "id": "37710926-53a8-4f48-b4bd-5fc02c95ec97",
   "metadata": {},
   "outputs": [
    {
     "data": {
      "text/html": [
       "<div>\n",
       "<style scoped>\n",
       "    .dataframe tbody tr th:only-of-type {\n",
       "        vertical-align: middle;\n",
       "    }\n",
       "\n",
       "    .dataframe tbody tr th {\n",
       "        vertical-align: top;\n",
       "    }\n",
       "\n",
       "    .dataframe thead th {\n",
       "        text-align: right;\n",
       "    }\n",
       "</style>\n",
       "<table border=\"1\" class=\"dataframe\">\n",
       "  <thead>\n",
       "    <tr style=\"text-align: right;\">\n",
       "      <th></th>\n",
       "      <th>Unnamed: 0</th>\n",
       "      <th>Life_Expectancy</th>\n",
       "      <th>Average_Temperature</th>\n",
       "      <th>Daily_Screen_Time</th>\n",
       "      <th>Health_Index</th>\n",
       "      <th>Income</th>\n",
       "      <th>Government_Health_Policy</th>\n",
       "    </tr>\n",
       "  </thead>\n",
       "  <tbody>\n",
       "    <tr>\n",
       "      <th>Unnamed: 0</th>\n",
       "      <td>1.000000</td>\n",
       "      <td>0.044508</td>\n",
       "      <td>0.006198</td>\n",
       "      <td>-0.089520</td>\n",
       "      <td>0.043373</td>\n",
       "      <td>0.029239</td>\n",
       "      <td>NaN</td>\n",
       "    </tr>\n",
       "    <tr>\n",
       "      <th>Life_Expectancy</th>\n",
       "      <td>0.044508</td>\n",
       "      <td>1.000000</td>\n",
       "      <td>-0.136422</td>\n",
       "      <td>0.190840</td>\n",
       "      <td>0.980875</td>\n",
       "      <td>0.895932</td>\n",
       "      <td>NaN</td>\n",
       "    </tr>\n",
       "    <tr>\n",
       "      <th>Average_Temperature</th>\n",
       "      <td>0.006198</td>\n",
       "      <td>-0.136422</td>\n",
       "      <td>1.000000</td>\n",
       "      <td>-0.036632</td>\n",
       "      <td>-0.141879</td>\n",
       "      <td>-0.045018</td>\n",
       "      <td>NaN</td>\n",
       "    </tr>\n",
       "    <tr>\n",
       "      <th>Daily_Screen_Time</th>\n",
       "      <td>-0.089520</td>\n",
       "      <td>0.190840</td>\n",
       "      <td>-0.036632</td>\n",
       "      <td>1.000000</td>\n",
       "      <td>0.193556</td>\n",
       "      <td>0.135069</td>\n",
       "      <td>NaN</td>\n",
       "    </tr>\n",
       "    <tr>\n",
       "      <th>Health_Index</th>\n",
       "      <td>0.043373</td>\n",
       "      <td>0.980875</td>\n",
       "      <td>-0.141879</td>\n",
       "      <td>0.193556</td>\n",
       "      <td>1.000000</td>\n",
       "      <td>0.895719</td>\n",
       "      <td>NaN</td>\n",
       "    </tr>\n",
       "    <tr>\n",
       "      <th>Income</th>\n",
       "      <td>0.029239</td>\n",
       "      <td>0.895932</td>\n",
       "      <td>-0.045018</td>\n",
       "      <td>0.135069</td>\n",
       "      <td>0.895719</td>\n",
       "      <td>1.000000</td>\n",
       "      <td>NaN</td>\n",
       "    </tr>\n",
       "    <tr>\n",
       "      <th>Government_Health_Policy</th>\n",
       "      <td>NaN</td>\n",
       "      <td>NaN</td>\n",
       "      <td>NaN</td>\n",
       "      <td>NaN</td>\n",
       "      <td>NaN</td>\n",
       "      <td>NaN</td>\n",
       "      <td>NaN</td>\n",
       "    </tr>\n",
       "  </tbody>\n",
       "</table>\n",
       "</div>"
      ],
      "text/plain": [
       "                          Unnamed: 0  Life_Expectancy  Average_Temperature  \\\n",
       "Unnamed: 0                  1.000000         0.044508             0.006198   \n",
       "Life_Expectancy             0.044508         1.000000            -0.136422   \n",
       "Average_Temperature         0.006198        -0.136422             1.000000   \n",
       "Daily_Screen_Time          -0.089520         0.190840            -0.036632   \n",
       "Health_Index                0.043373         0.980875            -0.141879   \n",
       "Income                      0.029239         0.895932            -0.045018   \n",
       "Government_Health_Policy         NaN              NaN                  NaN   \n",
       "\n",
       "                          Daily_Screen_Time  Health_Index    Income  \\\n",
       "Unnamed: 0                        -0.089520      0.043373  0.029239   \n",
       "Life_Expectancy                    0.190840      0.980875  0.895932   \n",
       "Average_Temperature               -0.036632     -0.141879 -0.045018   \n",
       "Daily_Screen_Time                  1.000000      0.193556  0.135069   \n",
       "Health_Index                       0.193556      1.000000  0.895719   \n",
       "Income                             0.135069      0.895719  1.000000   \n",
       "Government_Health_Policy                NaN           NaN       NaN   \n",
       "\n",
       "                          Government_Health_Policy  \n",
       "Unnamed: 0                                     NaN  \n",
       "Life_Expectancy                                NaN  \n",
       "Average_Temperature                            NaN  \n",
       "Daily_Screen_Time                              NaN  \n",
       "Health_Index                                   NaN  \n",
       "Income                                         NaN  \n",
       "Government_Health_Policy                       NaN  "
      ]
     },
     "execution_count": 16,
     "metadata": {},
     "output_type": "execute_result"
    }
   ],
   "source": [
    "df.corr(numeric_only=True)"
   ]
  },
  {
   "cell_type": "code",
   "execution_count": null,
   "id": "703a37ef-5696-47bc-ae01-541cd3485500",
   "metadata": {},
   "outputs": [],
   "source": []
  },
  {
   "cell_type": "code",
   "execution_count": 44,
   "id": "3d871f48-0b0d-43d1-b1db-62fee8ac6e45",
   "metadata": {},
   "outputs": [
    {
     "data": {
      "text/html": [
       "<div>\n",
       "<style scoped>\n",
       "    .dataframe tbody tr th:only-of-type {\n",
       "        vertical-align: middle;\n",
       "    }\n",
       "\n",
       "    .dataframe tbody tr th {\n",
       "        vertical-align: top;\n",
       "    }\n",
       "\n",
       "    .dataframe thead th {\n",
       "        text-align: right;\n",
       "    }\n",
       "</style>\n",
       "<table border=\"1\" class=\"dataframe\">\n",
       "  <thead>\n",
       "    <tr style=\"text-align: right;\">\n",
       "      <th></th>\n",
       "      <th>Country</th>\n",
       "      <th>Diet_Type</th>\n",
       "      <th>Min</th>\n",
       "      <th>Max</th>\n",
       "      <th>mean</th>\n",
       "    </tr>\n",
       "  </thead>\n",
       "  <tbody>\n",
       "    <tr>\n",
       "      <th>0</th>\n",
       "      <td>Country A</td>\n",
       "      <td>Non-Vegetarian</td>\n",
       "      <td>56.901274</td>\n",
       "      <td>77.896064</td>\n",
       "      <td>70.471262</td>\n",
       "    </tr>\n",
       "    <tr>\n",
       "      <th>1</th>\n",
       "      <td>Country A</td>\n",
       "      <td>Vegan</td>\n",
       "      <td>60.062155</td>\n",
       "      <td>75.285611</td>\n",
       "      <td>69.242026</td>\n",
       "    </tr>\n",
       "    <tr>\n",
       "      <th>2</th>\n",
       "      <td>Country A</td>\n",
       "      <td>Vegetarian</td>\n",
       "      <td>66.615390</td>\n",
       "      <td>74.877726</td>\n",
       "      <td>70.414555</td>\n",
       "    </tr>\n",
       "    <tr>\n",
       "      <th>3</th>\n",
       "      <td>Country B</td>\n",
       "      <td>Non-Vegetarian</td>\n",
       "      <td>60.201649</td>\n",
       "      <td>77.823218</td>\n",
       "      <td>68.942830</td>\n",
       "    </tr>\n",
       "    <tr>\n",
       "      <th>4</th>\n",
       "      <td>Country B</td>\n",
       "      <td>Vegan</td>\n",
       "      <td>60.433599</td>\n",
       "      <td>74.843225</td>\n",
       "      <td>68.623591</td>\n",
       "    </tr>\n",
       "    <tr>\n",
       "      <th>5</th>\n",
       "      <td>Country B</td>\n",
       "      <td>Vegetarian</td>\n",
       "      <td>64.711445</td>\n",
       "      <td>74.112725</td>\n",
       "      <td>69.120235</td>\n",
       "    </tr>\n",
       "    <tr>\n",
       "      <th>6</th>\n",
       "      <td>Country C</td>\n",
       "      <td>Non-Vegetarian</td>\n",
       "      <td>61.375411</td>\n",
       "      <td>77.690183</td>\n",
       "      <td>67.402317</td>\n",
       "    </tr>\n",
       "    <tr>\n",
       "      <th>7</th>\n",
       "      <td>Country C</td>\n",
       "      <td>Vegan</td>\n",
       "      <td>64.468325</td>\n",
       "      <td>77.615149</td>\n",
       "      <td>69.500399</td>\n",
       "    </tr>\n",
       "    <tr>\n",
       "      <th>8</th>\n",
       "      <td>Country C</td>\n",
       "      <td>Vegetarian</td>\n",
       "      <td>68.074589</td>\n",
       "      <td>79.261391</td>\n",
       "      <td>73.212622</td>\n",
       "    </tr>\n",
       "  </tbody>\n",
       "</table>\n",
       "</div>"
      ],
      "text/plain": [
       "     Country       Diet_Type        Min        Max       mean\n",
       "0  Country A  Non-Vegetarian  56.901274  77.896064  70.471262\n",
       "1  Country A           Vegan  60.062155  75.285611  69.242026\n",
       "2  Country A      Vegetarian  66.615390  74.877726  70.414555\n",
       "3  Country B  Non-Vegetarian  60.201649  77.823218  68.942830\n",
       "4  Country B           Vegan  60.433599  74.843225  68.623591\n",
       "5  Country B      Vegetarian  64.711445  74.112725  69.120235\n",
       "6  Country C  Non-Vegetarian  61.375411  77.690183  67.402317\n",
       "7  Country C           Vegan  64.468325  77.615149  69.500399\n",
       "8  Country C      Vegetarian  68.074589  79.261391  73.212622"
      ]
     },
     "execution_count": 44,
     "metadata": {},
     "output_type": "execute_result"
    }
   ],
   "source": [
    "# min_value = df.groupby(['Country', 'Diet_Type'])['Life_Expectancy'].min()\n",
    "# max_value = df.groupby(['Country', 'Diet_Type'])['Life_Expectancy'].max()\n",
    "# mean_value = df.groupby(['Country', 'Diet_Type'])['Life_Expectancy'].mean()\n",
    "\n",
    "# country_Diet_df['Min', 'Max', 'Mean'] = [min_value, max_value, mean_value]\n",
    "# country_Diet_df\n",
    "\n",
    "\n",
    "\n",
    "country_Diet_df = df.groupby(['Country', 'Diet_Type'])['Life_Expectancy'].agg(\n",
    "    Min='min',\n",
    "    Max='max',\n",
    "    mean='mean'\n",
    ").reset_index()\n",
    "\n",
    "country_Diet_df = country_Diet_df.set_index('Country')\n",
    "country_Diet_df\n",
    "\n",
    "country_Diet_df = country_Diet_df.reset_index()\n",
    "country_Diet_df"
   ]
  },
  {
   "cell_type": "code",
   "execution_count": 39,
   "id": "310efe6f-c546-4e40-b934-bd75b6e3abf3",
   "metadata": {},
   "outputs": [
    {
     "data": {
      "text/plain": [
       "<Axes: xlabel='Country', ylabel='Life_Expectancy'>"
      ]
     },
     "execution_count": 39,
     "metadata": {},
     "output_type": "execute_result"
    },
    {
     "data": {
      "image/png": "[encoded data removed]",
      "text/plain": [
       "<Figure size 1200x600 with 1 Axes>"
      ]
     },
     "metadata": {},
     "output_type": "display_data"
    }
   ],
   "source": [
    "plt.figure(figsize=(12, 6))\n",
    "sns.boxplot(\n",
    "    data=df,\n",
    "    x='Country',\n",
    "    y='Life_Expectancy',\n",
    "    hue='Diet_Type'\n",
    ")"
   ]
  },
  {
   "cell_type": "code",
   "execution_count": null,
   "id": "e1c235c3-6b64-4327-be6a-85a0d398a152",
   "metadata": {},
   "outputs": [],
   "source": []
  },
  {
   "cell_type": "code",
   "execution_count": 32,
   "id": "7f5a4c74-933b-47bd-963e-93abf87515a1",
   "metadata": {},
   "outputs": [
    {
     "data": {
      "image/png": "[encoded data removed]",
      "text/plain": [
       "<Figure size 640x480 with 1 Axes>"
      ]
     },
     "metadata": {},
     "output_type": "display_data"
    }
   ],
   "source": [
    "df['Life_Expectancy'].hist(bins=20)\n",
    "plt.xlabel('Life Expectancy')\n",
    "plt.ylabel('Frequency')\n",
    "plt.title('Distribucija životnog vijeka')\n",
    "plt.show()"
   ]
  },
  {
   "cell_type": "code",
   "execution_count": 34,
   "id": "05f118b5-1fe6-47c0-8f20-9aea30463693",
   "metadata": {},
   "outputs": [
    {
     "data": {
      "text/plain": [
       "<seaborn.axisgrid.PairGrid at 0x1eba17956a0>"
      ]
     },
     "execution_count": 34,
     "metadata": {},
     "output_type": "execute_result"
    },
    {
     "data": {
      "image/png": "[encoded data removed]",
      "text/plain": [
       "<Figure size 750x750 with 12 Axes>"
      ]
     },
     "metadata": {},
     "output_type": "display_data"
    }
   ],
   "source": [
    "sns.pairplot(df[[\"Life_Expectancy\", \"Health_Index\", \"Income\"]])"
   ]
  },
  {
   "cell_type": "code",
   "execution_count": null,
   "id": "a7756876-ce24-408c-b4b6-e852a21c7abe",
   "metadata": {},
   "outputs": [],
   "source": []
  },
  {
   "cell_type": "code",
   "execution_count": null,
   "id": "70bd1a37-a441-4ee3-ac07-70fd8b601d64",
   "metadata": {},
   "outputs": [],
   "source": []
  },
  {
   "cell_type": "code",
   "execution_count": null,
   "id": "58545c60-6089-4ffb-962c-dd48b3c153e3",
   "metadata": {},
   "outputs": [],
   "source": []
  },
  {
   "cell_type": "code",
   "execution_count": null,
   "id": "2caeaf08-5387-4b93-aec9-5f5d839e33b2",
   "metadata": {},
   "outputs": [],
   "source": []
  },
  {
   "cell_type": "code",
   "execution_count": null,
   "id": "ad1aa33e-da0a-4580-bfbb-03d7091d49cd",
   "metadata": {},
   "outputs": [],
   "source": []
  },
  {
   "cell_type": "code",
   "execution_count": null,
   "id": "e0da8a30-8390-4ce4-bbcd-84e91c9af692",
   "metadata": {},
   "outputs": [],
   "source": []
  },
  {
   "cell_type": "code",
   "execution_count": null,
   "id": "d291c99b-e582-44ff-95aa-3fcd79450e31",
   "metadata": {},
   "outputs": [],
   "source": []
  },
  {
   "cell_type": "code",
   "execution_count": null,
   "id": "7e64633d-a606-41ff-8e06-18ccb374b769",
   "metadata": {},
   "outputs": [],
   "source": []
  },
  {
   "cell_type": "code",
   "execution_count": null,
   "id": "192232f5-229e-436d-a54e-953741d26f7f",
   "metadata": {},
   "outputs": [],
   "source": []
  },
  {
   "cell_type": "code",
   "execution_count": null,
   "id": "3322dea7-b53e-456b-b769-d9c92517ccb3",
   "metadata": {},
   "outputs": [],
   "source": []
  },
  {
   "cell_type": "code",
   "execution_count": null,
   "id": "44235944-7f28-426b-84a5-b7c6f6f33ed2",
   "metadata": {},
   "outputs": [],
   "source": []
  },
  {
   "cell_type": "code",
   "execution_count": null,
   "id": "28f15121-0af8-488d-bf87-933cc5c808f6",
   "metadata": {},
   "outputs": [],
   "source": []
  },
  {
   "cell_type": "code",
   "execution_count": null,
   "id": "877d1933-5fa0-406a-88c3-8ef35488d509",
   "metadata": {},
   "outputs": [],
   "source": []
  },
  {
   "cell_type": "code",
   "execution_count": null,
   "id": "82901ab0-57ea-4b37-95f6-ba554a48fc28",
   "metadata": {},
   "outputs": [],
   "source": []
  },
  {
   "cell_type": "code",
   "execution_count": null,
   "id": "a74868ed-c7eb-4031-9202-5c917b49e70a",
   "metadata": {},
   "outputs": [],
   "source": []
  },
  {
   "cell_type": "code",
   "execution_count": null,
   "id": "4c2e92a8-2245-4841-b4ce-675b6725e980",
   "metadata": {},
   "outputs": [],
   "source": []
  },
  {
   "cell_type": "code",
   "execution_count": null,
   "id": "a23bd57e-66c7-4afa-ba81-202a1a2c21de",
   "metadata": {},
   "outputs": [],
   "source": []
  },
  {
   "cell_type": "code",
   "execution_count": null,
   "id": "190847ca-2793-4fd7-8750-c73470ddcd26",
   "metadata": {},
   "outputs": [],
   "source": []
  },
  {
   "cell_type": "code",
   "execution_count": null,
   "id": "3c53e511-9e39-44f9-9a12-c99c2e865418",
   "metadata": {},
   "outputs": [],
   "source": []
  },
  {
   "cell_type": "code",
   "execution_count": null,
   "id": "8f34aa3e-73b0-4514-8eff-e00715fbb9c5",
   "metadata": {},
   "outputs": [],
   "source": []
  },
  {
   "cell_type": "code",
   "execution_count": null,
   "id": "999c7cb4-2a85-4238-85bf-2d32b88c09b0",
   "metadata": {},
   "outputs": [],
   "source": []
  },
  {
   "cell_type": "code",
   "execution_count": null,
   "id": "1c495fba-6546-418e-aa8d-9eee5b626c03",
   "metadata": {},
   "outputs": [],
   "source": []
  }
 ],
 "metadata": {
  "kernelspec": {
   "display_name": "Python [conda env:base] *",
   "language": "python",
   "name": "conda-base-py"
  },
  "language_info": {
   "codemirror_mode": {
    "name": "ipython",
    "version": 3
   },
   "file_extension": ".py",
   "mimetype": "text/x-python",
   "name": "python",
   "nbconvert_exporter": "python",
   "pygments_lexer": "ipython3",
   "version": "3.13.5"
  }
 },
 "nbformat": 4,
 "nbformat_minor": 5
}
