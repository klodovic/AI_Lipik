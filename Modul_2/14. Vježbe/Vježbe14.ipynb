{
 "cells": [
  {
   "cell_type": "code",
   "execution_count": 1,
   "id": "15732e23-47d7-4025-89f5-bfce5ddfb054",
   "metadata": {},
   "outputs": [],
   "source": [
    "import pandas as pd\n",
    "import matplotlib.pyplot as plt\n",
    "import numpy as np\n",
    "import seaborn as sns\n",
    "from scipy import stats\n",
    "\n",
    "from sklearn.preprocessing import LabelEncoder"
   ]
  },
  {
   "cell_type": "code",
   "execution_count": 2,
   "id": "ff2edb76-242b-48ca-9242-65c3ade31253",
   "metadata": {},
   "outputs": [],
   "source": [
    "def apply_iqr_capping(series):\n",
    "    Q1 = series.quantile(0.25)\n",
    "    Q3 = series.quantile(0.75)\n",
    "    IQR = Q3 - Q1\n",
    "    lower_bound = Q1 - 1.5 * IQR\n",
    "    upper_bound = Q3 + 1.5 * IQR\n",
    "\n",
    "    # Primjena cappinga\n",
    "    # Sve vrijednosti manje od donje granice postaju donja granica\n",
    "    # Sve vrijednosti veće od gornje granice postaju gornja granica\n",
    "    # round() zakružujemo sve vrijednosti\n",
    "    capped_series = series.clip(lower=lower_bound, upper=upper_bound)\n",
    "    return capped_series"
   ]
  },
  {
   "cell_type": "code",
   "execution_count": 3,
   "id": "4c4a6ad0-0e8a-4528-b326-411525c57c61",
   "metadata": {},
   "outputs": [],
   "source": [
    "zaposlenici = pd.read_csv(\"zaposlenici.csv\")\n"
   ]
  },
  {
   "cell_type": "code",
   "execution_count": 4,
   "id": "f9d9166c-be0b-4b7e-a671-d2bcda92f6e4",
   "metadata": {},
   "outputs": [
    {
     "data": {
      "text/html": [
       "<div>\n",
       "<style scoped>\n",
       "    .dataframe tbody tr th:only-of-type {\n",
       "        vertical-align: middle;\n",
       "    }\n",
       "\n",
       "    .dataframe tbody tr th {\n",
       "        vertical-align: top;\n",
       "    }\n",
       "\n",
       "    .dataframe thead th {\n",
       "        text-align: right;\n",
       "    }\n",
       "</style>\n",
       "<table border=\"1\" class=\"dataframe\">\n",
       "  <thead>\n",
       "    <tr style=\"text-align: right;\">\n",
       "      <th></th>\n",
       "      <th>Drzava</th>\n",
       "      <th>Starost</th>\n",
       "      <th>_jfhjbgjdb_</th>\n",
       "      <th>Odjel</th>\n",
       "      <th>Spol</th>\n",
       "      <th>Iskustvo_Godine</th>\n",
       "      <th>Placa_USD</th>\n",
       "    </tr>\n",
       "  </thead>\n",
       "  <tbody>\n",
       "    <tr>\n",
       "      <th>0</th>\n",
       "      <td>SAD</td>\n",
       "      <td>22</td>\n",
       "      <td>Houston</td>\n",
       "      <td>Nabava</td>\n",
       "      <td>Z</td>\n",
       "      <td>1.0</td>\n",
       "      <td>5354.83</td>\n",
       "    </tr>\n",
       "    <tr>\n",
       "      <th>1</th>\n",
       "      <td>SAD</td>\n",
       "      <td>75</td>\n",
       "      <td>New York</td>\n",
       "      <td>Proizvodnja</td>\n",
       "      <td>M</td>\n",
       "      <td>35.0</td>\n",
       "      <td>3388.79</td>\n",
       "    </tr>\n",
       "    <tr>\n",
       "      <th>2</th>\n",
       "      <td>SAD</td>\n",
       "      <td>62</td>\n",
       "      <td>Houston</td>\n",
       "      <td>Nabava</td>\n",
       "      <td>Z</td>\n",
       "      <td>33.0</td>\n",
       "      <td>5892.16</td>\n",
       "    </tr>\n",
       "    <tr>\n",
       "      <th>3</th>\n",
       "      <td>SAD</td>\n",
       "      <td>48</td>\n",
       "      <td>Boston</td>\n",
       "      <td>Nabava</td>\n",
       "      <td>M</td>\n",
       "      <td>9.0</td>\n",
       "      <td>5827.25</td>\n",
       "    </tr>\n",
       "    <tr>\n",
       "      <th>4</th>\n",
       "      <td>SAD</td>\n",
       "      <td>22</td>\n",
       "      <td>Boston</td>\n",
       "      <td>Proizvodnja</td>\n",
       "      <td>Z</td>\n",
       "      <td>1.0</td>\n",
       "      <td>3673.74</td>\n",
       "    </tr>\n",
       "    <tr>\n",
       "      <th>...</th>\n",
       "      <td>...</td>\n",
       "      <td>...</td>\n",
       "      <td>...</td>\n",
       "      <td>...</td>\n",
       "      <td>...</td>\n",
       "      <td>...</td>\n",
       "      <td>...</td>\n",
       "    </tr>\n",
       "    <tr>\n",
       "      <th>510</th>\n",
       "      <td>SAD</td>\n",
       "      <td>51</td>\n",
       "      <td>Miami</td>\n",
       "      <td>Proizvodnja</td>\n",
       "      <td>NaN</td>\n",
       "      <td>23.0</td>\n",
       "      <td>5033.18</td>\n",
       "    </tr>\n",
       "    <tr>\n",
       "      <th>511</th>\n",
       "      <td>SAD</td>\n",
       "      <td>67</td>\n",
       "      <td>Houston</td>\n",
       "      <td>Prodaja</td>\n",
       "      <td>M</td>\n",
       "      <td>3.0</td>\n",
       "      <td>8078.86</td>\n",
       "    </tr>\n",
       "    <tr>\n",
       "      <th>512</th>\n",
       "      <td>SAD</td>\n",
       "      <td>24</td>\n",
       "      <td>Houston</td>\n",
       "      <td>Nabava</td>\n",
       "      <td>M</td>\n",
       "      <td>2.0</td>\n",
       "      <td>4879.26</td>\n",
       "    </tr>\n",
       "    <tr>\n",
       "      <th>513</th>\n",
       "      <td>SAD</td>\n",
       "      <td>74</td>\n",
       "      <td>Houston</td>\n",
       "      <td>Nabava</td>\n",
       "      <td>Z</td>\n",
       "      <td>16.0</td>\n",
       "      <td>6445.39</td>\n",
       "    </tr>\n",
       "    <tr>\n",
       "      <th>514</th>\n",
       "      <td>SAD</td>\n",
       "      <td>69</td>\n",
       "      <td>New York</td>\n",
       "      <td>Nabava</td>\n",
       "      <td>Z</td>\n",
       "      <td>44.0</td>\n",
       "      <td>7502.53</td>\n",
       "    </tr>\n",
       "  </tbody>\n",
       "</table>\n",
       "<p>515 rows × 7 columns</p>\n",
       "</div>"
      ],
      "text/plain": [
       "    Drzava  Starost _jfhjbgjdb_        Odjel Spol  Iskustvo_Godine  Placa_USD\n",
       "0      SAD       22     Houston       Nabava    Z              1.0    5354.83\n",
       "1      SAD       75    New York  Proizvodnja    M             35.0    3388.79\n",
       "2      SAD       62     Houston       Nabava    Z             33.0    5892.16\n",
       "3      SAD       48      Boston       Nabava    M              9.0    5827.25\n",
       "4      SAD       22      Boston  Proizvodnja    Z              1.0    3673.74\n",
       "..     ...      ...         ...          ...  ...              ...        ...\n",
       "510    SAD       51       Miami  Proizvodnja  NaN             23.0    5033.18\n",
       "511    SAD       67     Houston      Prodaja    M              3.0    8078.86\n",
       "512    SAD       24     Houston       Nabava    M              2.0    4879.26\n",
       "513    SAD       74     Houston       Nabava    Z             16.0    6445.39\n",
       "514    SAD       69    New York       Nabava    Z             44.0    7502.53\n",
       "\n",
       "[515 rows x 7 columns]"
      ]
     },
     "execution_count": 4,
     "metadata": {},
     "output_type": "execute_result"
    }
   ],
   "source": [
    "zaposlenici"
   ]
  },
  {
   "cell_type": "code",
   "execution_count": 5,
   "id": "8983c016-08d4-4729-852d-0c9ded5c5084",
   "metadata": {},
   "outputs": [
    {
     "data": {
      "text/html": [
       "<div>\n",
       "<style scoped>\n",
       "    .dataframe tbody tr th:only-of-type {\n",
       "        vertical-align: middle;\n",
       "    }\n",
       "\n",
       "    .dataframe tbody tr th {\n",
       "        vertical-align: top;\n",
       "    }\n",
       "\n",
       "    .dataframe thead th {\n",
       "        text-align: right;\n",
       "    }\n",
       "</style>\n",
       "<table border=\"1\" class=\"dataframe\">\n",
       "  <thead>\n",
       "    <tr style=\"text-align: right;\">\n",
       "      <th></th>\n",
       "      <th>Starost</th>\n",
       "      <th>Iskustvo_Godine</th>\n",
       "      <th>Placa_USD</th>\n",
       "    </tr>\n",
       "  </thead>\n",
       "  <tbody>\n",
       "    <tr>\n",
       "      <th>count</th>\n",
       "      <td>515.000000</td>\n",
       "      <td>507.000000</td>\n",
       "      <td>515.000000</td>\n",
       "    </tr>\n",
       "    <tr>\n",
       "      <th>mean</th>\n",
       "      <td>47.339806</td>\n",
       "      <td>10.613412</td>\n",
       "      <td>5598.921670</td>\n",
       "    </tr>\n",
       "    <tr>\n",
       "      <th>std</th>\n",
       "      <td>16.921973</td>\n",
       "      <td>10.296996</td>\n",
       "      <td>1866.144549</td>\n",
       "    </tr>\n",
       "    <tr>\n",
       "      <th>min</th>\n",
       "      <td>20.000000</td>\n",
       "      <td>-9.000000</td>\n",
       "      <td>2000.000000</td>\n",
       "    </tr>\n",
       "    <tr>\n",
       "      <th>25%</th>\n",
       "      <td>33.000000</td>\n",
       "      <td>3.000000</td>\n",
       "      <td>4026.645000</td>\n",
       "    </tr>\n",
       "    <tr>\n",
       "      <th>50%</th>\n",
       "      <td>46.000000</td>\n",
       "      <td>8.000000</td>\n",
       "      <td>5520.930000</td>\n",
       "    </tr>\n",
       "    <tr>\n",
       "      <th>75%</th>\n",
       "      <td>60.000000</td>\n",
       "      <td>15.000000</td>\n",
       "      <td>6736.745000</td>\n",
       "    </tr>\n",
       "    <tr>\n",
       "      <th>max</th>\n",
       "      <td>113.000000</td>\n",
       "      <td>68.000000</td>\n",
       "      <td>10000.000000</td>\n",
       "    </tr>\n",
       "  </tbody>\n",
       "</table>\n",
       "</div>"
      ],
      "text/plain": [
       "          Starost  Iskustvo_Godine     Placa_USD\n",
       "count  515.000000       507.000000    515.000000\n",
       "mean    47.339806        10.613412   5598.921670\n",
       "std     16.921973        10.296996   1866.144549\n",
       "min     20.000000        -9.000000   2000.000000\n",
       "25%     33.000000         3.000000   4026.645000\n",
       "50%     46.000000         8.000000   5520.930000\n",
       "75%     60.000000        15.000000   6736.745000\n",
       "max    113.000000        68.000000  10000.000000"
      ]
     },
     "execution_count": 5,
     "metadata": {},
     "output_type": "execute_result"
    }
   ],
   "source": [
    "zaposlenici.describe()"
   ]
  },
  {
   "cell_type": "code",
   "execution_count": 6,
   "id": "731879b6-4075-4945-91e4-057544068953",
   "metadata": {},
   "outputs": [],
   "source": [
    "zaposlenici.rename(columns = {'_jfhjbgjdb_':'Grad'}, inplace = True)"
   ]
  },
  {
   "cell_type": "code",
   "execution_count": 7,
   "id": "9e8a9e93-ffd0-4b47-b757-20c90f99a77b",
   "metadata": {},
   "outputs": [
    {
     "data": {
      "text/html": [
       "<div>\n",
       "<style scoped>\n",
       "    .dataframe tbody tr th:only-of-type {\n",
       "        vertical-align: middle;\n",
       "    }\n",
       "\n",
       "    .dataframe tbody tr th {\n",
       "        vertical-align: top;\n",
       "    }\n",
       "\n",
       "    .dataframe thead th {\n",
       "        text-align: right;\n",
       "    }\n",
       "</style>\n",
       "<table border=\"1\" class=\"dataframe\">\n",
       "  <thead>\n",
       "    <tr style=\"text-align: right;\">\n",
       "      <th></th>\n",
       "      <th>Drzava</th>\n",
       "      <th>Starost</th>\n",
       "      <th>Grad</th>\n",
       "      <th>Odjel</th>\n",
       "      <th>Spol</th>\n",
       "      <th>Iskustvo_Godine</th>\n",
       "      <th>Placa_USD</th>\n",
       "    </tr>\n",
       "  </thead>\n",
       "  <tbody>\n",
       "    <tr>\n",
       "      <th>0</th>\n",
       "      <td>SAD</td>\n",
       "      <td>22</td>\n",
       "      <td>Houston</td>\n",
       "      <td>Nabava</td>\n",
       "      <td>Z</td>\n",
       "      <td>1.0</td>\n",
       "      <td>5354.83</td>\n",
       "    </tr>\n",
       "    <tr>\n",
       "      <th>1</th>\n",
       "      <td>SAD</td>\n",
       "      <td>75</td>\n",
       "      <td>New York</td>\n",
       "      <td>Proizvodnja</td>\n",
       "      <td>M</td>\n",
       "      <td>35.0</td>\n",
       "      <td>3388.79</td>\n",
       "    </tr>\n",
       "    <tr>\n",
       "      <th>2</th>\n",
       "      <td>SAD</td>\n",
       "      <td>62</td>\n",
       "      <td>Houston</td>\n",
       "      <td>Nabava</td>\n",
       "      <td>Z</td>\n",
       "      <td>33.0</td>\n",
       "      <td>5892.16</td>\n",
       "    </tr>\n",
       "    <tr>\n",
       "      <th>3</th>\n",
       "      <td>SAD</td>\n",
       "      <td>48</td>\n",
       "      <td>Boston</td>\n",
       "      <td>Nabava</td>\n",
       "      <td>M</td>\n",
       "      <td>9.0</td>\n",
       "      <td>5827.25</td>\n",
       "    </tr>\n",
       "    <tr>\n",
       "      <th>4</th>\n",
       "      <td>SAD</td>\n",
       "      <td>22</td>\n",
       "      <td>Boston</td>\n",
       "      <td>Proizvodnja</td>\n",
       "      <td>Z</td>\n",
       "      <td>1.0</td>\n",
       "      <td>3673.74</td>\n",
       "    </tr>\n",
       "    <tr>\n",
       "      <th>...</th>\n",
       "      <td>...</td>\n",
       "      <td>...</td>\n",
       "      <td>...</td>\n",
       "      <td>...</td>\n",
       "      <td>...</td>\n",
       "      <td>...</td>\n",
       "      <td>...</td>\n",
       "    </tr>\n",
       "    <tr>\n",
       "      <th>510</th>\n",
       "      <td>SAD</td>\n",
       "      <td>51</td>\n",
       "      <td>Miami</td>\n",
       "      <td>Proizvodnja</td>\n",
       "      <td>NaN</td>\n",
       "      <td>23.0</td>\n",
       "      <td>5033.18</td>\n",
       "    </tr>\n",
       "    <tr>\n",
       "      <th>511</th>\n",
       "      <td>SAD</td>\n",
       "      <td>67</td>\n",
       "      <td>Houston</td>\n",
       "      <td>Prodaja</td>\n",
       "      <td>M</td>\n",
       "      <td>3.0</td>\n",
       "      <td>8078.86</td>\n",
       "    </tr>\n",
       "    <tr>\n",
       "      <th>512</th>\n",
       "      <td>SAD</td>\n",
       "      <td>24</td>\n",
       "      <td>Houston</td>\n",
       "      <td>Nabava</td>\n",
       "      <td>M</td>\n",
       "      <td>2.0</td>\n",
       "      <td>4879.26</td>\n",
       "    </tr>\n",
       "    <tr>\n",
       "      <th>513</th>\n",
       "      <td>SAD</td>\n",
       "      <td>74</td>\n",
       "      <td>Houston</td>\n",
       "      <td>Nabava</td>\n",
       "      <td>Z</td>\n",
       "      <td>16.0</td>\n",
       "      <td>6445.39</td>\n",
       "    </tr>\n",
       "    <tr>\n",
       "      <th>514</th>\n",
       "      <td>SAD</td>\n",
       "      <td>69</td>\n",
       "      <td>New York</td>\n",
       "      <td>Nabava</td>\n",
       "      <td>Z</td>\n",
       "      <td>44.0</td>\n",
       "      <td>7502.53</td>\n",
       "    </tr>\n",
       "  </tbody>\n",
       "</table>\n",
       "<p>515 rows × 7 columns</p>\n",
       "</div>"
      ],
      "text/plain": [
       "    Drzava  Starost      Grad        Odjel Spol  Iskustvo_Godine  Placa_USD\n",
       "0      SAD       22   Houston       Nabava    Z              1.0    5354.83\n",
       "1      SAD       75  New York  Proizvodnja    M             35.0    3388.79\n",
       "2      SAD       62   Houston       Nabava    Z             33.0    5892.16\n",
       "3      SAD       48    Boston       Nabava    M              9.0    5827.25\n",
       "4      SAD       22    Boston  Proizvodnja    Z              1.0    3673.74\n",
       "..     ...      ...       ...          ...  ...              ...        ...\n",
       "510    SAD       51     Miami  Proizvodnja  NaN             23.0    5033.18\n",
       "511    SAD       67   Houston      Prodaja    M              3.0    8078.86\n",
       "512    SAD       24   Houston       Nabava    M              2.0    4879.26\n",
       "513    SAD       74   Houston       Nabava    Z             16.0    6445.39\n",
       "514    SAD       69  New York       Nabava    Z             44.0    7502.53\n",
       "\n",
       "[515 rows x 7 columns]"
      ]
     },
     "execution_count": 7,
     "metadata": {},
     "output_type": "execute_result"
    }
   ],
   "source": [
    "zaposlenici"
   ]
  },
  {
   "cell_type": "code",
   "execution_count": 8,
   "id": "c7d17594-2b8a-4690-84ff-c55864c4ab75",
   "metadata": {},
   "outputs": [],
   "source": [
    "#### Prazne ćelije"
   ]
  },
  {
   "cell_type": "code",
   "execution_count": 9,
   "id": "6877e4ca-4795-4b73-bca3-d68bcfb99f36",
   "metadata": {},
   "outputs": [
    {
     "data": {
      "text/plain": [
       "Drzava              0\n",
       "Starost             0\n",
       "Grad                0\n",
       "Odjel              11\n",
       "Spol               10\n",
       "Iskustvo_Godine     8\n",
       "Placa_USD           0\n",
       "dtype: int64"
      ]
     },
     "execution_count": 9,
     "metadata": {},
     "output_type": "execute_result"
    }
   ],
   "source": [
    "zaposlenici.isna().sum()"
   ]
  },
  {
   "cell_type": "code",
   "execution_count": 10,
   "id": "cd9b419c-c328-44aa-9b6d-227287a69024",
   "metadata": {},
   "outputs": [],
   "source": [
    "#### Koliko je različitih vrijednosti u koloni Država"
   ]
  },
  {
   "cell_type": "code",
   "execution_count": 11,
   "id": "ec118635-9053-4688-93f3-2642b1b43d71",
   "metadata": {},
   "outputs": [
    {
     "data": {
      "text/plain": [
       "Drzava\n",
       "SAD    515\n",
       "Name: count, dtype: int64"
      ]
     },
     "execution_count": 11,
     "metadata": {},
     "output_type": "execute_result"
    }
   ],
   "source": [
    "zaposlenici[\"Drzava\"].value_counts()"
   ]
  },
  {
   "cell_type": "code",
   "execution_count": 12,
   "id": "f4815a17-4c3e-4de6-877f-9a9155f30d60",
   "metadata": {},
   "outputs": [],
   "source": [
    "#### Brišemo kolonu država"
   ]
  },
  {
   "cell_type": "code",
   "execution_count": 13,
   "id": "5a96a16b-99d7-4231-be03-42dad78780ed",
   "metadata": {},
   "outputs": [],
   "source": [
    "zaposlenici.drop(columns=[\"Drzava\"], inplace=True)"
   ]
  },
  {
   "cell_type": "code",
   "execution_count": 14,
   "id": "ba70ed52-2ce4-46f8-9dfe-08dbbc1a0219",
   "metadata": {},
   "outputs": [
    {
     "data": {
      "text/html": [
       "<div>\n",
       "<style scoped>\n",
       "    .dataframe tbody tr th:only-of-type {\n",
       "        vertical-align: middle;\n",
       "    }\n",
       "\n",
       "    .dataframe tbody tr th {\n",
       "        vertical-align: top;\n",
       "    }\n",
       "\n",
       "    .dataframe thead th {\n",
       "        text-align: right;\n",
       "    }\n",
       "</style>\n",
       "<table border=\"1\" class=\"dataframe\">\n",
       "  <thead>\n",
       "    <tr style=\"text-align: right;\">\n",
       "      <th></th>\n",
       "      <th>Starost</th>\n",
       "      <th>Grad</th>\n",
       "      <th>Odjel</th>\n",
       "      <th>Spol</th>\n",
       "      <th>Iskustvo_Godine</th>\n",
       "      <th>Placa_USD</th>\n",
       "    </tr>\n",
       "  </thead>\n",
       "  <tbody>\n",
       "    <tr>\n",
       "      <th>0</th>\n",
       "      <td>22</td>\n",
       "      <td>Houston</td>\n",
       "      <td>Nabava</td>\n",
       "      <td>Z</td>\n",
       "      <td>1.0</td>\n",
       "      <td>5354.83</td>\n",
       "    </tr>\n",
       "    <tr>\n",
       "      <th>1</th>\n",
       "      <td>75</td>\n",
       "      <td>New York</td>\n",
       "      <td>Proizvodnja</td>\n",
       "      <td>M</td>\n",
       "      <td>35.0</td>\n",
       "      <td>3388.79</td>\n",
       "    </tr>\n",
       "    <tr>\n",
       "      <th>2</th>\n",
       "      <td>62</td>\n",
       "      <td>Houston</td>\n",
       "      <td>Nabava</td>\n",
       "      <td>Z</td>\n",
       "      <td>33.0</td>\n",
       "      <td>5892.16</td>\n",
       "    </tr>\n",
       "    <tr>\n",
       "      <th>3</th>\n",
       "      <td>48</td>\n",
       "      <td>Boston</td>\n",
       "      <td>Nabava</td>\n",
       "      <td>M</td>\n",
       "      <td>9.0</td>\n",
       "      <td>5827.25</td>\n",
       "    </tr>\n",
       "    <tr>\n",
       "      <th>4</th>\n",
       "      <td>22</td>\n",
       "      <td>Boston</td>\n",
       "      <td>Proizvodnja</td>\n",
       "      <td>Z</td>\n",
       "      <td>1.0</td>\n",
       "      <td>3673.74</td>\n",
       "    </tr>\n",
       "    <tr>\n",
       "      <th>...</th>\n",
       "      <td>...</td>\n",
       "      <td>...</td>\n",
       "      <td>...</td>\n",
       "      <td>...</td>\n",
       "      <td>...</td>\n",
       "      <td>...</td>\n",
       "    </tr>\n",
       "    <tr>\n",
       "      <th>510</th>\n",
       "      <td>51</td>\n",
       "      <td>Miami</td>\n",
       "      <td>Proizvodnja</td>\n",
       "      <td>NaN</td>\n",
       "      <td>23.0</td>\n",
       "      <td>5033.18</td>\n",
       "    </tr>\n",
       "    <tr>\n",
       "      <th>511</th>\n",
       "      <td>67</td>\n",
       "      <td>Houston</td>\n",
       "      <td>Prodaja</td>\n",
       "      <td>M</td>\n",
       "      <td>3.0</td>\n",
       "      <td>8078.86</td>\n",
       "    </tr>\n",
       "    <tr>\n",
       "      <th>512</th>\n",
       "      <td>24</td>\n",
       "      <td>Houston</td>\n",
       "      <td>Nabava</td>\n",
       "      <td>M</td>\n",
       "      <td>2.0</td>\n",
       "      <td>4879.26</td>\n",
       "    </tr>\n",
       "    <tr>\n",
       "      <th>513</th>\n",
       "      <td>74</td>\n",
       "      <td>Houston</td>\n",
       "      <td>Nabava</td>\n",
       "      <td>Z</td>\n",
       "      <td>16.0</td>\n",
       "      <td>6445.39</td>\n",
       "    </tr>\n",
       "    <tr>\n",
       "      <th>514</th>\n",
       "      <td>69</td>\n",
       "      <td>New York</td>\n",
       "      <td>Nabava</td>\n",
       "      <td>Z</td>\n",
       "      <td>44.0</td>\n",
       "      <td>7502.53</td>\n",
       "    </tr>\n",
       "  </tbody>\n",
       "</table>\n",
       "<p>515 rows × 6 columns</p>\n",
       "</div>"
      ],
      "text/plain": [
       "     Starost      Grad        Odjel Spol  Iskustvo_Godine  Placa_USD\n",
       "0         22   Houston       Nabava    Z              1.0    5354.83\n",
       "1         75  New York  Proizvodnja    M             35.0    3388.79\n",
       "2         62   Houston       Nabava    Z             33.0    5892.16\n",
       "3         48    Boston       Nabava    M              9.0    5827.25\n",
       "4         22    Boston  Proizvodnja    Z              1.0    3673.74\n",
       "..       ...       ...          ...  ...              ...        ...\n",
       "510       51     Miami  Proizvodnja  NaN             23.0    5033.18\n",
       "511       67   Houston      Prodaja    M              3.0    8078.86\n",
       "512       24   Houston       Nabava    M              2.0    4879.26\n",
       "513       74   Houston       Nabava    Z             16.0    6445.39\n",
       "514       69  New York       Nabava    Z             44.0    7502.53\n",
       "\n",
       "[515 rows x 6 columns]"
      ]
     },
     "execution_count": 14,
     "metadata": {},
     "output_type": "execute_result"
    }
   ],
   "source": [
    "zaposlenici"
   ]
  },
  {
   "cell_type": "code",
   "execution_count": 15,
   "id": "1ec50aaf-4a8c-44f0-bf39-77493e2a1fe2",
   "metadata": {},
   "outputs": [
    {
     "data": {
      "text/plain": [
       "Grad\n",
       "New York       135\n",
       "Houston        102\n",
       "Los Angeles    100\n",
       "Miami           94\n",
       "Boston          84\n",
       "Name: count, dtype: int64"
      ]
     },
     "execution_count": 15,
     "metadata": {},
     "output_type": "execute_result"
    }
   ],
   "source": [
    "zaposlenici[\"Grad\"].value_counts()"
   ]
  },
  {
   "cell_type": "code",
   "execution_count": 16,
   "id": "beb301d9-24ce-4b96-9718-8ebc931872dc",
   "metadata": {},
   "outputs": [],
   "source": [
    "### Odjel ima 11 praznih ćelija"
   ]
  },
  {
   "cell_type": "code",
   "execution_count": 17,
   "id": "344bdffa-cbbd-497d-a4fc-d38383db8ad8",
   "metadata": {},
   "outputs": [
    {
     "data": {
      "text/plain": [
       "Odjel\n",
       "Proizvodnja    184\n",
       "Nabava          98\n",
       "Marketing       97\n",
       "Prodaja         84\n",
       "proizvodnja     18\n",
       "prrrodaja       10\n",
       "nabava           6\n",
       "marketing        4\n",
       "prodaja          3\n",
       "Name: count, dtype: int64"
      ]
     },
     "execution_count": 17,
     "metadata": {},
     "output_type": "execute_result"
    }
   ],
   "source": [
    "zaposlenici[\"Odjel\"].value_counts()"
   ]
  },
  {
   "cell_type": "code",
   "execution_count": 18,
   "id": "5fdfbd74-ca15-4214-8e48-330f658ed3ee",
   "metadata": {},
   "outputs": [],
   "source": [
    "### Najčešće radno mjesto je u Proizvodnja te ćemo s tim podatkom popuniti prane ćelije"
   ]
  },
  {
   "cell_type": "code",
   "execution_count": 19,
   "id": "80a316b1-bcbe-4d6c-9d94-7f389d0c06ff",
   "metadata": {},
   "outputs": [
    {
     "data": {
      "text/plain": [
       "0    Proizvodnja\n",
       "Name: Odjel, dtype: object"
      ]
     },
     "execution_count": 19,
     "metadata": {},
     "output_type": "execute_result"
    }
   ],
   "source": [
    "zaposlenici[\"Odjel\"].mode()\n"
   ]
  },
  {
   "cell_type": "code",
   "execution_count": 20,
   "id": "d318d8aa-3e53-49b0-a81d-68e7c2f12645",
   "metadata": {},
   "outputs": [
    {
     "name": "stderr",
     "output_type": "stream",
     "text": [
      "C:\\Users\\Syntari\\AppData\\Local\\Temp\\ipykernel_21404\\2947286761.py:1: FutureWarning: A value is trying to be set on a copy of a DataFrame or Series through chained assignment using an inplace method.\n",
      "The behavior will change in pandas 3.0. This inplace method will never work because the intermediate object on which we are setting values always behaves as a copy.\n",
      "\n",
      "For example, when doing 'df[col].method(value, inplace=True)', try using 'df.method({col: value}, inplace=True)' or df[col] = df[col].method(value) instead, to perform the operation inplace on the original object.\n",
      "\n",
      "\n",
      "  zaposlenici[\"Odjel\"].fillna(value = \"Proizvodnja\", inplace = True)\n"
     ]
    },
    {
     "data": {
      "text/html": [
       "<div>\n",
       "<style scoped>\n",
       "    .dataframe tbody tr th:only-of-type {\n",
       "        vertical-align: middle;\n",
       "    }\n",
       "\n",
       "    .dataframe tbody tr th {\n",
       "        vertical-align: top;\n",
       "    }\n",
       "\n",
       "    .dataframe thead th {\n",
       "        text-align: right;\n",
       "    }\n",
       "</style>\n",
       "<table border=\"1\" class=\"dataframe\">\n",
       "  <thead>\n",
       "    <tr style=\"text-align: right;\">\n",
       "      <th></th>\n",
       "      <th>Starost</th>\n",
       "      <th>Grad</th>\n",
       "      <th>Odjel</th>\n",
       "      <th>Spol</th>\n",
       "      <th>Iskustvo_Godine</th>\n",
       "      <th>Placa_USD</th>\n",
       "    </tr>\n",
       "  </thead>\n",
       "  <tbody>\n",
       "    <tr>\n",
       "      <th>0</th>\n",
       "      <td>22</td>\n",
       "      <td>Houston</td>\n",
       "      <td>Nabava</td>\n",
       "      <td>Z</td>\n",
       "      <td>1.0</td>\n",
       "      <td>5354.83</td>\n",
       "    </tr>\n",
       "    <tr>\n",
       "      <th>1</th>\n",
       "      <td>75</td>\n",
       "      <td>New York</td>\n",
       "      <td>Proizvodnja</td>\n",
       "      <td>M</td>\n",
       "      <td>35.0</td>\n",
       "      <td>3388.79</td>\n",
       "    </tr>\n",
       "    <tr>\n",
       "      <th>2</th>\n",
       "      <td>62</td>\n",
       "      <td>Houston</td>\n",
       "      <td>Nabava</td>\n",
       "      <td>Z</td>\n",
       "      <td>33.0</td>\n",
       "      <td>5892.16</td>\n",
       "    </tr>\n",
       "    <tr>\n",
       "      <th>3</th>\n",
       "      <td>48</td>\n",
       "      <td>Boston</td>\n",
       "      <td>Nabava</td>\n",
       "      <td>M</td>\n",
       "      <td>9.0</td>\n",
       "      <td>5827.25</td>\n",
       "    </tr>\n",
       "    <tr>\n",
       "      <th>4</th>\n",
       "      <td>22</td>\n",
       "      <td>Boston</td>\n",
       "      <td>Proizvodnja</td>\n",
       "      <td>Z</td>\n",
       "      <td>1.0</td>\n",
       "      <td>3673.74</td>\n",
       "    </tr>\n",
       "    <tr>\n",
       "      <th>...</th>\n",
       "      <td>...</td>\n",
       "      <td>...</td>\n",
       "      <td>...</td>\n",
       "      <td>...</td>\n",
       "      <td>...</td>\n",
       "      <td>...</td>\n",
       "    </tr>\n",
       "    <tr>\n",
       "      <th>510</th>\n",
       "      <td>51</td>\n",
       "      <td>Miami</td>\n",
       "      <td>Proizvodnja</td>\n",
       "      <td>NaN</td>\n",
       "      <td>23.0</td>\n",
       "      <td>5033.18</td>\n",
       "    </tr>\n",
       "    <tr>\n",
       "      <th>511</th>\n",
       "      <td>67</td>\n",
       "      <td>Houston</td>\n",
       "      <td>Prodaja</td>\n",
       "      <td>M</td>\n",
       "      <td>3.0</td>\n",
       "      <td>8078.86</td>\n",
       "    </tr>\n",
       "    <tr>\n",
       "      <th>512</th>\n",
       "      <td>24</td>\n",
       "      <td>Houston</td>\n",
       "      <td>Nabava</td>\n",
       "      <td>M</td>\n",
       "      <td>2.0</td>\n",
       "      <td>4879.26</td>\n",
       "    </tr>\n",
       "    <tr>\n",
       "      <th>513</th>\n",
       "      <td>74</td>\n",
       "      <td>Houston</td>\n",
       "      <td>Nabava</td>\n",
       "      <td>Z</td>\n",
       "      <td>16.0</td>\n",
       "      <td>6445.39</td>\n",
       "    </tr>\n",
       "    <tr>\n",
       "      <th>514</th>\n",
       "      <td>69</td>\n",
       "      <td>New York</td>\n",
       "      <td>Nabava</td>\n",
       "      <td>Z</td>\n",
       "      <td>44.0</td>\n",
       "      <td>7502.53</td>\n",
       "    </tr>\n",
       "  </tbody>\n",
       "</table>\n",
       "<p>515 rows × 6 columns</p>\n",
       "</div>"
      ],
      "text/plain": [
       "     Starost      Grad        Odjel Spol  Iskustvo_Godine  Placa_USD\n",
       "0         22   Houston       Nabava    Z              1.0    5354.83\n",
       "1         75  New York  Proizvodnja    M             35.0    3388.79\n",
       "2         62   Houston       Nabava    Z             33.0    5892.16\n",
       "3         48    Boston       Nabava    M              9.0    5827.25\n",
       "4         22    Boston  Proizvodnja    Z              1.0    3673.74\n",
       "..       ...       ...          ...  ...              ...        ...\n",
       "510       51     Miami  Proizvodnja  NaN             23.0    5033.18\n",
       "511       67   Houston      Prodaja    M              3.0    8078.86\n",
       "512       24   Houston       Nabava    M              2.0    4879.26\n",
       "513       74   Houston       Nabava    Z             16.0    6445.39\n",
       "514       69  New York       Nabava    Z             44.0    7502.53\n",
       "\n",
       "[515 rows x 6 columns]"
      ]
     },
     "execution_count": 20,
     "metadata": {},
     "output_type": "execute_result"
    }
   ],
   "source": [
    "zaposlenici[\"Odjel\"].fillna(value = \"Proizvodnja\", inplace = True)\n",
    "zaposlenici"
   ]
  },
  {
   "cell_type": "code",
   "execution_count": 21,
   "id": "bb7f4a4d-24a1-47f5-9657-de8fee9c1a3a",
   "metadata": {},
   "outputs": [
    {
     "data": {
      "text/plain": [
       "Starost             0\n",
       "Grad                0\n",
       "Odjel               0\n",
       "Spol               10\n",
       "Iskustvo_Godine     8\n",
       "Placa_USD           0\n",
       "dtype: int64"
      ]
     },
     "execution_count": 21,
     "metadata": {},
     "output_type": "execute_result"
    }
   ],
   "source": [
    "zaposlenici.isna().sum()"
   ]
  },
  {
   "cell_type": "code",
   "execution_count": 22,
   "id": "db96beda-cd40-4ae1-821b-724fc0196812",
   "metadata": {},
   "outputs": [],
   "source": [
    "### Proizvodnja sada ima 195 redaka"
   ]
  },
  {
   "cell_type": "code",
   "execution_count": 23,
   "id": "617dfc81-ffe8-42e1-ba86-c8b1fe806fd0",
   "metadata": {},
   "outputs": [
    {
     "data": {
      "text/plain": [
       "Odjel\n",
       "Proizvodnja    195\n",
       "Nabava          98\n",
       "Marketing       97\n",
       "Prodaja         84\n",
       "proizvodnja     18\n",
       "prrrodaja       10\n",
       "nabava           6\n",
       "marketing        4\n",
       "prodaja          3\n",
       "Name: count, dtype: int64"
      ]
     },
     "execution_count": 23,
     "metadata": {},
     "output_type": "execute_result"
    }
   ],
   "source": [
    "zaposlenici[\"Odjel\"].value_counts()"
   ]
  },
  {
   "cell_type": "code",
   "execution_count": null,
   "id": "39f5db51-5b77-452e-a647-cadbf9fd2c3c",
   "metadata": {},
   "outputs": [],
   "source": []
  },
  {
   "cell_type": "code",
   "execution_count": 24,
   "id": "a7e75d75-0dbc-466a-b110-34ea64344569",
   "metadata": {},
   "outputs": [],
   "source": [
    "#### Spol također ima prazne ćelije (10)"
   ]
  },
  {
   "cell_type": "code",
   "execution_count": 25,
   "id": "f9382743-2544-4765-90c9-bd595da65e44",
   "metadata": {},
   "outputs": [
    {
     "data": {
      "text/plain": [
       "0    Z\n",
       "Name: Spol, dtype: object"
      ]
     },
     "execution_count": 25,
     "metadata": {},
     "output_type": "execute_result"
    }
   ],
   "source": [
    "zaposlenici[\"Spol\"].mode()"
   ]
  },
  {
   "cell_type": "code",
   "execution_count": 26,
   "id": "f609fc4c-b163-4591-8649-0015b943ff11",
   "metadata": {},
   "outputs": [
    {
     "name": "stderr",
     "output_type": "stream",
     "text": [
      "C:\\Users\\Syntari\\AppData\\Local\\Temp\\ipykernel_21404\\3868669458.py:1: FutureWarning: A value is trying to be set on a copy of a DataFrame or Series through chained assignment using an inplace method.\n",
      "The behavior will change in pandas 3.0. This inplace method will never work because the intermediate object on which we are setting values always behaves as a copy.\n",
      "\n",
      "For example, when doing 'df[col].method(value, inplace=True)', try using 'df.method({col: value}, inplace=True)' or df[col] = df[col].method(value) instead, to perform the operation inplace on the original object.\n",
      "\n",
      "\n",
      "  zaposlenici[\"Spol\"].fillna(value = \"Z\", inplace = True)\n"
     ]
    }
   ],
   "source": [
    "zaposlenici[\"Spol\"].fillna(value = \"Z\", inplace = True)"
   ]
  },
  {
   "cell_type": "code",
   "execution_count": 27,
   "id": "bb5f4a4a-bc8b-4a90-b59f-475c21c82237",
   "metadata": {},
   "outputs": [
    {
     "data": {
      "text/html": [
       "<div>\n",
       "<style scoped>\n",
       "    .dataframe tbody tr th:only-of-type {\n",
       "        vertical-align: middle;\n",
       "    }\n",
       "\n",
       "    .dataframe tbody tr th {\n",
       "        vertical-align: top;\n",
       "    }\n",
       "\n",
       "    .dataframe thead th {\n",
       "        text-align: right;\n",
       "    }\n",
       "</style>\n",
       "<table border=\"1\" class=\"dataframe\">\n",
       "  <thead>\n",
       "    <tr style=\"text-align: right;\">\n",
       "      <th></th>\n",
       "      <th>Starost</th>\n",
       "      <th>Grad</th>\n",
       "      <th>Odjel</th>\n",
       "      <th>Spol</th>\n",
       "      <th>Iskustvo_Godine</th>\n",
       "      <th>Placa_USD</th>\n",
       "    </tr>\n",
       "  </thead>\n",
       "  <tbody>\n",
       "    <tr>\n",
       "      <th>0</th>\n",
       "      <td>22</td>\n",
       "      <td>Houston</td>\n",
       "      <td>Nabava</td>\n",
       "      <td>Z</td>\n",
       "      <td>1.0</td>\n",
       "      <td>5354.83</td>\n",
       "    </tr>\n",
       "    <tr>\n",
       "      <th>1</th>\n",
       "      <td>75</td>\n",
       "      <td>New York</td>\n",
       "      <td>Proizvodnja</td>\n",
       "      <td>M</td>\n",
       "      <td>35.0</td>\n",
       "      <td>3388.79</td>\n",
       "    </tr>\n",
       "    <tr>\n",
       "      <th>2</th>\n",
       "      <td>62</td>\n",
       "      <td>Houston</td>\n",
       "      <td>Nabava</td>\n",
       "      <td>Z</td>\n",
       "      <td>33.0</td>\n",
       "      <td>5892.16</td>\n",
       "    </tr>\n",
       "    <tr>\n",
       "      <th>3</th>\n",
       "      <td>48</td>\n",
       "      <td>Boston</td>\n",
       "      <td>Nabava</td>\n",
       "      <td>M</td>\n",
       "      <td>9.0</td>\n",
       "      <td>5827.25</td>\n",
       "    </tr>\n",
       "    <tr>\n",
       "      <th>4</th>\n",
       "      <td>22</td>\n",
       "      <td>Boston</td>\n",
       "      <td>Proizvodnja</td>\n",
       "      <td>Z</td>\n",
       "      <td>1.0</td>\n",
       "      <td>3673.74</td>\n",
       "    </tr>\n",
       "    <tr>\n",
       "      <th>...</th>\n",
       "      <td>...</td>\n",
       "      <td>...</td>\n",
       "      <td>...</td>\n",
       "      <td>...</td>\n",
       "      <td>...</td>\n",
       "      <td>...</td>\n",
       "    </tr>\n",
       "    <tr>\n",
       "      <th>510</th>\n",
       "      <td>51</td>\n",
       "      <td>Miami</td>\n",
       "      <td>Proizvodnja</td>\n",
       "      <td>Z</td>\n",
       "      <td>23.0</td>\n",
       "      <td>5033.18</td>\n",
       "    </tr>\n",
       "    <tr>\n",
       "      <th>511</th>\n",
       "      <td>67</td>\n",
       "      <td>Houston</td>\n",
       "      <td>Prodaja</td>\n",
       "      <td>M</td>\n",
       "      <td>3.0</td>\n",
       "      <td>8078.86</td>\n",
       "    </tr>\n",
       "    <tr>\n",
       "      <th>512</th>\n",
       "      <td>24</td>\n",
       "      <td>Houston</td>\n",
       "      <td>Nabava</td>\n",
       "      <td>M</td>\n",
       "      <td>2.0</td>\n",
       "      <td>4879.26</td>\n",
       "    </tr>\n",
       "    <tr>\n",
       "      <th>513</th>\n",
       "      <td>74</td>\n",
       "      <td>Houston</td>\n",
       "      <td>Nabava</td>\n",
       "      <td>Z</td>\n",
       "      <td>16.0</td>\n",
       "      <td>6445.39</td>\n",
       "    </tr>\n",
       "    <tr>\n",
       "      <th>514</th>\n",
       "      <td>69</td>\n",
       "      <td>New York</td>\n",
       "      <td>Nabava</td>\n",
       "      <td>Z</td>\n",
       "      <td>44.0</td>\n",
       "      <td>7502.53</td>\n",
       "    </tr>\n",
       "  </tbody>\n",
       "</table>\n",
       "<p>515 rows × 6 columns</p>\n",
       "</div>"
      ],
      "text/plain": [
       "     Starost      Grad        Odjel Spol  Iskustvo_Godine  Placa_USD\n",
       "0         22   Houston       Nabava    Z              1.0    5354.83\n",
       "1         75  New York  Proizvodnja    M             35.0    3388.79\n",
       "2         62   Houston       Nabava    Z             33.0    5892.16\n",
       "3         48    Boston       Nabava    M              9.0    5827.25\n",
       "4         22    Boston  Proizvodnja    Z              1.0    3673.74\n",
       "..       ...       ...          ...  ...              ...        ...\n",
       "510       51     Miami  Proizvodnja    Z             23.0    5033.18\n",
       "511       67   Houston      Prodaja    M              3.0    8078.86\n",
       "512       24   Houston       Nabava    M              2.0    4879.26\n",
       "513       74   Houston       Nabava    Z             16.0    6445.39\n",
       "514       69  New York       Nabava    Z             44.0    7502.53\n",
       "\n",
       "[515 rows x 6 columns]"
      ]
     },
     "execution_count": 27,
     "metadata": {},
     "output_type": "execute_result"
    }
   ],
   "source": [
    "zaposlenici"
   ]
  },
  {
   "cell_type": "code",
   "execution_count": 28,
   "id": "e8f36fda-0ceb-486f-801a-d854d5b33040",
   "metadata": {},
   "outputs": [],
   "source": [
    "#### Sve ćelije su popunjene u koloni Spol"
   ]
  },
  {
   "cell_type": "code",
   "execution_count": 29,
   "id": "b6a8356f-8245-4513-9c3b-49934b7c0637",
   "metadata": {},
   "outputs": [
    {
     "data": {
      "text/plain": [
       "Starost            0\n",
       "Grad               0\n",
       "Odjel              0\n",
       "Spol               0\n",
       "Iskustvo_Godine    8\n",
       "Placa_USD          0\n",
       "dtype: int64"
      ]
     },
     "execution_count": 29,
     "metadata": {},
     "output_type": "execute_result"
    }
   ],
   "source": [
    "zaposlenici.isna().sum()"
   ]
  },
  {
   "cell_type": "code",
   "execution_count": null,
   "id": "a7467e81-8f63-46a9-ad65-bfe372627692",
   "metadata": {},
   "outputs": [],
   "source": []
  },
  {
   "cell_type": "code",
   "execution_count": 30,
   "id": "f9c279b0-da78-4957-abe3-d60e3354da09",
   "metadata": {},
   "outputs": [],
   "source": [
    "#### Kolona Iskustvo_Godine ima praznih ćelija kao i neke nelogičnosti s vrijednostima  -9"
   ]
  },
  {
   "cell_type": "code",
   "execution_count": 31,
   "id": "03c9123d-6f15-4b8a-99af-f156e5da4bc2",
   "metadata": {},
   "outputs": [
    {
     "data": {
      "text/html": [
       "<div>\n",
       "<style scoped>\n",
       "    .dataframe tbody tr th:only-of-type {\n",
       "        vertical-align: middle;\n",
       "    }\n",
       "\n",
       "    .dataframe tbody tr th {\n",
       "        vertical-align: top;\n",
       "    }\n",
       "\n",
       "    .dataframe thead th {\n",
       "        text-align: right;\n",
       "    }\n",
       "</style>\n",
       "<table border=\"1\" class=\"dataframe\">\n",
       "  <thead>\n",
       "    <tr style=\"text-align: right;\">\n",
       "      <th></th>\n",
       "      <th>Starost</th>\n",
       "      <th>Iskustvo_Godine</th>\n",
       "      <th>Placa_USD</th>\n",
       "    </tr>\n",
       "  </thead>\n",
       "  <tbody>\n",
       "    <tr>\n",
       "      <th>count</th>\n",
       "      <td>515.000000</td>\n",
       "      <td>507.000000</td>\n",
       "      <td>515.000000</td>\n",
       "    </tr>\n",
       "    <tr>\n",
       "      <th>mean</th>\n",
       "      <td>47.339806</td>\n",
       "      <td>10.613412</td>\n",
       "      <td>5598.921670</td>\n",
       "    </tr>\n",
       "    <tr>\n",
       "      <th>std</th>\n",
       "      <td>16.921973</td>\n",
       "      <td>10.296996</td>\n",
       "      <td>1866.144549</td>\n",
       "    </tr>\n",
       "    <tr>\n",
       "      <th>min</th>\n",
       "      <td>20.000000</td>\n",
       "      <td>-9.000000</td>\n",
       "      <td>2000.000000</td>\n",
       "    </tr>\n",
       "    <tr>\n",
       "      <th>25%</th>\n",
       "      <td>33.000000</td>\n",
       "      <td>3.000000</td>\n",
       "      <td>4026.645000</td>\n",
       "    </tr>\n",
       "    <tr>\n",
       "      <th>50%</th>\n",
       "      <td>46.000000</td>\n",
       "      <td>8.000000</td>\n",
       "      <td>5520.930000</td>\n",
       "    </tr>\n",
       "    <tr>\n",
       "      <th>75%</th>\n",
       "      <td>60.000000</td>\n",
       "      <td>15.000000</td>\n",
       "      <td>6736.745000</td>\n",
       "    </tr>\n",
       "    <tr>\n",
       "      <th>max</th>\n",
       "      <td>113.000000</td>\n",
       "      <td>68.000000</td>\n",
       "      <td>10000.000000</td>\n",
       "    </tr>\n",
       "  </tbody>\n",
       "</table>\n",
       "</div>"
      ],
      "text/plain": [
       "          Starost  Iskustvo_Godine     Placa_USD\n",
       "count  515.000000       507.000000    515.000000\n",
       "mean    47.339806        10.613412   5598.921670\n",
       "std     16.921973        10.296996   1866.144549\n",
       "min     20.000000        -9.000000   2000.000000\n",
       "25%     33.000000         3.000000   4026.645000\n",
       "50%     46.000000         8.000000   5520.930000\n",
       "75%     60.000000        15.000000   6736.745000\n",
       "max    113.000000        68.000000  10000.000000"
      ]
     },
     "execution_count": 31,
     "metadata": {},
     "output_type": "execute_result"
    }
   ],
   "source": [
    "zaposlenici.describe()"
   ]
  },
  {
   "cell_type": "code",
   "execution_count": 32,
   "id": "ab44286f-b9b7-4ff2-bac9-6da7eeec8a24",
   "metadata": {},
   "outputs": [
    {
     "data": {
      "text/html": [
       "<div>\n",
       "<style scoped>\n",
       "    .dataframe tbody tr th:only-of-type {\n",
       "        vertical-align: middle;\n",
       "    }\n",
       "\n",
       "    .dataframe tbody tr th {\n",
       "        vertical-align: top;\n",
       "    }\n",
       "\n",
       "    .dataframe thead th {\n",
       "        text-align: right;\n",
       "    }\n",
       "</style>\n",
       "<table border=\"1\" class=\"dataframe\">\n",
       "  <thead>\n",
       "    <tr style=\"text-align: right;\">\n",
       "      <th></th>\n",
       "      <th>Starost</th>\n",
       "      <th>Grad</th>\n",
       "      <th>Odjel</th>\n",
       "      <th>Spol</th>\n",
       "      <th>Iskustvo_Godine</th>\n",
       "      <th>Placa_USD</th>\n",
       "    </tr>\n",
       "  </thead>\n",
       "  <tbody>\n",
       "    <tr>\n",
       "      <th>506</th>\n",
       "      <td>35</td>\n",
       "      <td>Los Angeles</td>\n",
       "      <td>Proizvodnja</td>\n",
       "      <td>Z</td>\n",
       "      <td>-9.0</td>\n",
       "      <td>3628.97</td>\n",
       "    </tr>\n",
       "    <tr>\n",
       "      <th>189</th>\n",
       "      <td>43</td>\n",
       "      <td>Boston</td>\n",
       "      <td>Proizvodnja</td>\n",
       "      <td>Z</td>\n",
       "      <td>-8.0</td>\n",
       "      <td>3012.43</td>\n",
       "    </tr>\n",
       "    <tr>\n",
       "      <th>289</th>\n",
       "      <td>54</td>\n",
       "      <td>Los Angeles</td>\n",
       "      <td>Nabava</td>\n",
       "      <td>Z</td>\n",
       "      <td>-6.0</td>\n",
       "      <td>5391.29</td>\n",
       "    </tr>\n",
       "    <tr>\n",
       "      <th>174</th>\n",
       "      <td>42</td>\n",
       "      <td>Miami</td>\n",
       "      <td>Marketing</td>\n",
       "      <td>M</td>\n",
       "      <td>-6.0</td>\n",
       "      <td>4999.23</td>\n",
       "    </tr>\n",
       "    <tr>\n",
       "      <th>437</th>\n",
       "      <td>66</td>\n",
       "      <td>Houston</td>\n",
       "      <td>Marketing</td>\n",
       "      <td>Z</td>\n",
       "      <td>-2.0</td>\n",
       "      <td>6736.41</td>\n",
       "    </tr>\n",
       "    <tr>\n",
       "      <th>...</th>\n",
       "      <td>...</td>\n",
       "      <td>...</td>\n",
       "      <td>...</td>\n",
       "      <td>...</td>\n",
       "      <td>...</td>\n",
       "      <td>...</td>\n",
       "    </tr>\n",
       "    <tr>\n",
       "      <th>201</th>\n",
       "      <td>41</td>\n",
       "      <td>Houston</td>\n",
       "      <td>Proizvodnja</td>\n",
       "      <td>Z</td>\n",
       "      <td>NaN</td>\n",
       "      <td>3820.49</td>\n",
       "    </tr>\n",
       "    <tr>\n",
       "      <th>269</th>\n",
       "      <td>39</td>\n",
       "      <td>New York</td>\n",
       "      <td>Nabava</td>\n",
       "      <td>M</td>\n",
       "      <td>NaN</td>\n",
       "      <td>6122.90</td>\n",
       "    </tr>\n",
       "    <tr>\n",
       "      <th>276</th>\n",
       "      <td>66</td>\n",
       "      <td>Boston</td>\n",
       "      <td>Marketing</td>\n",
       "      <td>Z</td>\n",
       "      <td>NaN</td>\n",
       "      <td>5856.65</td>\n",
       "    </tr>\n",
       "    <tr>\n",
       "      <th>280</th>\n",
       "      <td>49</td>\n",
       "      <td>Los Angeles</td>\n",
       "      <td>Marketing</td>\n",
       "      <td>M</td>\n",
       "      <td>NaN</td>\n",
       "      <td>5194.29</td>\n",
       "    </tr>\n",
       "    <tr>\n",
       "      <th>292</th>\n",
       "      <td>39</td>\n",
       "      <td>Boston</td>\n",
       "      <td>Marketing</td>\n",
       "      <td>M</td>\n",
       "      <td>NaN</td>\n",
       "      <td>5926.27</td>\n",
       "    </tr>\n",
       "  </tbody>\n",
       "</table>\n",
       "<p>515 rows × 6 columns</p>\n",
       "</div>"
      ],
      "text/plain": [
       "     Starost         Grad        Odjel Spol  Iskustvo_Godine  Placa_USD\n",
       "506       35  Los Angeles  Proizvodnja    Z             -9.0    3628.97\n",
       "189       43       Boston  Proizvodnja    Z             -8.0    3012.43\n",
       "289       54  Los Angeles       Nabava    Z             -6.0    5391.29\n",
       "174       42        Miami    Marketing    M             -6.0    4999.23\n",
       "437       66      Houston    Marketing    Z             -2.0    6736.41\n",
       "..       ...          ...          ...  ...              ...        ...\n",
       "201       41      Houston  Proizvodnja    Z              NaN    3820.49\n",
       "269       39     New York       Nabava    M              NaN    6122.90\n",
       "276       66       Boston    Marketing    Z              NaN    5856.65\n",
       "280       49  Los Angeles    Marketing    M              NaN    5194.29\n",
       "292       39       Boston    Marketing    M              NaN    5926.27\n",
       "\n",
       "[515 rows x 6 columns]"
      ]
     },
     "execution_count": 32,
     "metadata": {},
     "output_type": "execute_result"
    }
   ],
   "source": [
    "zaposlenici.sort_values(by = [\"Iskustvo_Godine\"])"
   ]
  },
  {
   "cell_type": "code",
   "execution_count": 33,
   "id": "c20e8ada-f077-4df9-8a23-c51889ce2891",
   "metadata": {},
   "outputs": [
    {
     "data": {
      "text/plain": [
       "(array([ 2.,  2.,  0.,  0.,  1.,  9., 42., 74., 36., 45., 34., 56., 33.,\n",
       "        17., 28.,  7., 26., 11., 19.,  3., 11.,  7.,  8.,  3.,  4.,  2.,\n",
       "         2.,  5.,  2.,  1.,  1.,  3.,  0.,  1.,  2.,  4.,  2.,  1.,  1.,\n",
       "         0.,  0.,  0.,  1.,  0.,  0.,  0.,  0.,  0.,  0.,  1.]),\n",
       " array([-9.  , -7.46, -5.92, -4.38, -2.84, -1.3 ,  0.24,  1.78,  3.32,\n",
       "         4.86,  6.4 ,  7.94,  9.48, 11.02, 12.56, 14.1 , 15.64, 17.18,\n",
       "        18.72, 20.26, 21.8 , 23.34, 24.88, 26.42, 27.96, 29.5 , 31.04,\n",
       "        32.58, 34.12, 35.66, 37.2 , 38.74, 40.28, 41.82, 43.36, 44.9 ,\n",
       "        46.44, 47.98, 49.52, 51.06, 52.6 , 54.14, 55.68, 57.22, 58.76,\n",
       "        60.3 , 61.84, 63.38, 64.92, 66.46, 68.  ]),\n",
       " <BarContainer object of 50 artists>)"
      ]
     },
     "execution_count": 33,
     "metadata": {},
     "output_type": "execute_result"
    },
    {
     "data": {
      "image/png": "[encoded data removed]",
      "text/plain": [
       "<Figure size 640x480 with 1 Axes>"
      ]
     },
     "metadata": {},
     "output_type": "display_data"
    }
   ],
   "source": [
    "plt.hist(zaposlenici.Iskustvo_Godine, bins=50)"
   ]
  },
  {
   "cell_type": "code",
   "execution_count": null,
   "id": "98c657b0-6bbb-43ce-a1d5-1a8a6f0c4d6a",
   "metadata": {},
   "outputs": [],
   "source": []
  },
  {
   "cell_type": "code",
   "execution_count": 34,
   "id": "d81c97c4-6fe4-4d55-a59b-cd4a4336cb3c",
   "metadata": {},
   "outputs": [
    {
     "data": {
      "text/html": [
       "<div>\n",
       "<style scoped>\n",
       "    .dataframe tbody tr th:only-of-type {\n",
       "        vertical-align: middle;\n",
       "    }\n",
       "\n",
       "    .dataframe tbody tr th {\n",
       "        vertical-align: top;\n",
       "    }\n",
       "\n",
       "    .dataframe thead th {\n",
       "        text-align: right;\n",
       "    }\n",
       "</style>\n",
       "<table border=\"1\" class=\"dataframe\">\n",
       "  <thead>\n",
       "    <tr style=\"text-align: right;\">\n",
       "      <th></th>\n",
       "      <th>Starost</th>\n",
       "      <th>Grad</th>\n",
       "      <th>Odjel</th>\n",
       "      <th>Spol</th>\n",
       "      <th>Iskustvo_Godine</th>\n",
       "      <th>Placa_USD</th>\n",
       "    </tr>\n",
       "  </thead>\n",
       "  <tbody>\n",
       "    <tr>\n",
       "      <th>32</th>\n",
       "      <td>34</td>\n",
       "      <td>Miami</td>\n",
       "      <td>Nabava</td>\n",
       "      <td>M</td>\n",
       "      <td>NaN</td>\n",
       "      <td>4953.39</td>\n",
       "    </tr>\n",
       "    <tr>\n",
       "      <th>45</th>\n",
       "      <td>66</td>\n",
       "      <td>Houston</td>\n",
       "      <td>nabava</td>\n",
       "      <td>Z</td>\n",
       "      <td>NaN</td>\n",
       "      <td>6297.98</td>\n",
       "    </tr>\n",
       "    <tr>\n",
       "      <th>70</th>\n",
       "      <td>34</td>\n",
       "      <td>New York</td>\n",
       "      <td>Proizvodnja</td>\n",
       "      <td>M</td>\n",
       "      <td>NaN</td>\n",
       "      <td>3145.09</td>\n",
       "    </tr>\n",
       "    <tr>\n",
       "      <th>201</th>\n",
       "      <td>41</td>\n",
       "      <td>Houston</td>\n",
       "      <td>Proizvodnja</td>\n",
       "      <td>Z</td>\n",
       "      <td>NaN</td>\n",
       "      <td>3820.49</td>\n",
       "    </tr>\n",
       "    <tr>\n",
       "      <th>269</th>\n",
       "      <td>39</td>\n",
       "      <td>New York</td>\n",
       "      <td>Nabava</td>\n",
       "      <td>M</td>\n",
       "      <td>NaN</td>\n",
       "      <td>6122.90</td>\n",
       "    </tr>\n",
       "    <tr>\n",
       "      <th>276</th>\n",
       "      <td>66</td>\n",
       "      <td>Boston</td>\n",
       "      <td>Marketing</td>\n",
       "      <td>Z</td>\n",
       "      <td>NaN</td>\n",
       "      <td>5856.65</td>\n",
       "    </tr>\n",
       "    <tr>\n",
       "      <th>280</th>\n",
       "      <td>49</td>\n",
       "      <td>Los Angeles</td>\n",
       "      <td>Marketing</td>\n",
       "      <td>M</td>\n",
       "      <td>NaN</td>\n",
       "      <td>5194.29</td>\n",
       "    </tr>\n",
       "    <tr>\n",
       "      <th>292</th>\n",
       "      <td>39</td>\n",
       "      <td>Boston</td>\n",
       "      <td>Marketing</td>\n",
       "      <td>M</td>\n",
       "      <td>NaN</td>\n",
       "      <td>5926.27</td>\n",
       "    </tr>\n",
       "  </tbody>\n",
       "</table>\n",
       "</div>"
      ],
      "text/plain": [
       "     Starost         Grad        Odjel Spol  Iskustvo_Godine  Placa_USD\n",
       "32        34        Miami       Nabava    M              NaN    4953.39\n",
       "45        66      Houston       nabava    Z              NaN    6297.98\n",
       "70        34     New York  Proizvodnja    M              NaN    3145.09\n",
       "201       41      Houston  Proizvodnja    Z              NaN    3820.49\n",
       "269       39     New York       Nabava    M              NaN    6122.90\n",
       "276       66       Boston    Marketing    Z              NaN    5856.65\n",
       "280       49  Los Angeles    Marketing    M              NaN    5194.29\n",
       "292       39       Boston    Marketing    M              NaN    5926.27"
      ]
     },
     "execution_count": 34,
     "metadata": {},
     "output_type": "execute_result"
    }
   ],
   "source": [
    "isna_values = zaposlenici[zaposlenici.isna().any(axis=1)]\n",
    "isna_values"
   ]
  },
  {
   "cell_type": "code",
   "execution_count": null,
   "id": "95b8b5cf-6e47-4d66-bd1f-dfd7bdf95f38",
   "metadata": {},
   "outputs": [],
   "source": []
  },
  {
   "cell_type": "code",
   "execution_count": 35,
   "id": "bf75c60b-7ffb-43e8-b175-865a58c9e37f",
   "metadata": {},
   "outputs": [
    {
     "data": {
      "text/plain": [
       "np.float64(10.613412228796845)"
      ]
     },
     "execution_count": 35,
     "metadata": {},
     "output_type": "execute_result"
    }
   ],
   "source": [
    "zaposlenici[\"Iskustvo_Godine\"].mean()"
   ]
  },
  {
   "cell_type": "code",
   "execution_count": 36,
   "id": "9f25effa-0691-4174-a23d-e39e46389221",
   "metadata": {},
   "outputs": [
    {
     "data": {
      "text/plain": [
       "8.0"
      ]
     },
     "execution_count": 36,
     "metadata": {},
     "output_type": "execute_result"
    }
   ],
   "source": [
    "zaposlenici[\"Iskustvo_Godine\"].median()"
   ]
  },
  {
   "cell_type": "code",
   "execution_count": 37,
   "id": "e1a35457-0c89-4872-a6b7-0f1a11413161",
   "metadata": {},
   "outputs": [
    {
     "name": "stderr",
     "output_type": "stream",
     "text": [
      "C:\\Users\\Syntari\\AppData\\Local\\Temp\\ipykernel_21404\\1357525139.py:1: FutureWarning: A value is trying to be set on a copy of a DataFrame or Series through chained assignment using an inplace method.\n",
      "The behavior will change in pandas 3.0. This inplace method will never work because the intermediate object on which we are setting values always behaves as a copy.\n",
      "\n",
      "For example, when doing 'df[col].method(value, inplace=True)', try using 'df.method({col: value}, inplace=True)' or df[col] = df[col].method(value) instead, to perform the operation inplace on the original object.\n",
      "\n",
      "\n",
      "  zaposlenici[\"Iskustvo_Godine\"].fillna(value = 8.0, inplace = True)\n"
     ]
    }
   ],
   "source": [
    "zaposlenici[\"Iskustvo_Godine\"].fillna(value = 8.0, inplace = True)"
   ]
  },
  {
   "cell_type": "code",
   "execution_count": 38,
   "id": "dec55af4-8773-4273-8b08-fc8750398754",
   "metadata": {},
   "outputs": [
    {
     "data": {
      "text/html": [
       "<div>\n",
       "<style scoped>\n",
       "    .dataframe tbody tr th:only-of-type {\n",
       "        vertical-align: middle;\n",
       "    }\n",
       "\n",
       "    .dataframe tbody tr th {\n",
       "        vertical-align: top;\n",
       "    }\n",
       "\n",
       "    .dataframe thead th {\n",
       "        text-align: right;\n",
       "    }\n",
       "</style>\n",
       "<table border=\"1\" class=\"dataframe\">\n",
       "  <thead>\n",
       "    <tr style=\"text-align: right;\">\n",
       "      <th></th>\n",
       "      <th>Starost</th>\n",
       "      <th>Grad</th>\n",
       "      <th>Odjel</th>\n",
       "      <th>Spol</th>\n",
       "      <th>Iskustvo_Godine</th>\n",
       "      <th>Placa_USD</th>\n",
       "    </tr>\n",
       "  </thead>\n",
       "  <tbody>\n",
       "  </tbody>\n",
       "</table>\n",
       "</div>"
      ],
      "text/plain": [
       "Empty DataFrame\n",
       "Columns: [Starost, Grad, Odjel, Spol, Iskustvo_Godine, Placa_USD]\n",
       "Index: []"
      ]
     },
     "execution_count": 38,
     "metadata": {},
     "output_type": "execute_result"
    }
   ],
   "source": [
    "isna_values2 = zaposlenici[zaposlenici.isna().any(axis=1)]\n",
    "isna_values2"
   ]
  },
  {
   "cell_type": "code",
   "execution_count": null,
   "id": "62d4e8e4-2f67-43e3-82b2-e5375a4e980e",
   "metadata": {},
   "outputs": [],
   "source": []
  },
  {
   "cell_type": "code",
   "execution_count": 39,
   "id": "a3e270ed-6092-4595-a6aa-fd95bd29640e",
   "metadata": {},
   "outputs": [
    {
     "data": {
      "text/plain": [
       "(array([ 2.,  2.,  0.,  0.,  1.,  9., 42., 74., 36., 45., 34., 64., 33.,\n",
       "        17., 28.,  7., 26., 11., 19.,  3., 11.,  7.,  8.,  3.,  4.,  2.,\n",
       "         2.,  5.,  2.,  1.,  1.,  3.,  0.,  1.,  2.,  4.,  2.,  1.,  1.,\n",
       "         0.,  0.,  0.,  1.,  0.,  0.,  0.,  0.,  0.,  0.,  1.]),\n",
       " array([-9.  , -7.46, -5.92, -4.38, -2.84, -1.3 ,  0.24,  1.78,  3.32,\n",
       "         4.86,  6.4 ,  7.94,  9.48, 11.02, 12.56, 14.1 , 15.64, 17.18,\n",
       "        18.72, 20.26, 21.8 , 23.34, 24.88, 26.42, 27.96, 29.5 , 31.04,\n",
       "        32.58, 34.12, 35.66, 37.2 , 38.74, 40.28, 41.82, 43.36, 44.9 ,\n",
       "        46.44, 47.98, 49.52, 51.06, 52.6 , 54.14, 55.68, 57.22, 58.76,\n",
       "        60.3 , 61.84, 63.38, 64.92, 66.46, 68.  ]),\n",
       " <BarContainer object of 50 artists>)"
      ]
     },
     "execution_count": 39,
     "metadata": {},
     "output_type": "execute_result"
    },
    {
     "data": {
      "image/png": "[encoded data removed]",
      "text/plain": [
       "<Figure size 640x480 with 1 Axes>"
      ]
     },
     "metadata": {},
     "output_type": "display_data"
    }
   ],
   "source": [
    "plt.hist(zaposlenici.Iskustvo_Godine, bins=50)"
   ]
  },
  {
   "cell_type": "code",
   "execution_count": null,
   "id": "2e0a07a8-9c08-4dd8-9854-eed8dc998fc4",
   "metadata": {},
   "outputs": [],
   "source": []
  },
  {
   "cell_type": "code",
   "execution_count": 40,
   "id": "d2312911-36ff-4b03-835b-070f0cfe125a",
   "metadata": {},
   "outputs": [
    {
     "data": {
      "text/html": [
       "<div>\n",
       "<style scoped>\n",
       "    .dataframe tbody tr th:only-of-type {\n",
       "        vertical-align: middle;\n",
       "    }\n",
       "\n",
       "    .dataframe tbody tr th {\n",
       "        vertical-align: top;\n",
       "    }\n",
       "\n",
       "    .dataframe thead th {\n",
       "        text-align: right;\n",
       "    }\n",
       "</style>\n",
       "<table border=\"1\" class=\"dataframe\">\n",
       "  <thead>\n",
       "    <tr style=\"text-align: right;\">\n",
       "      <th></th>\n",
       "      <th>Starost</th>\n",
       "      <th>Grad</th>\n",
       "      <th>Odjel</th>\n",
       "      <th>Spol</th>\n",
       "      <th>Iskustvo_Godine</th>\n",
       "      <th>Placa_USD</th>\n",
       "    </tr>\n",
       "  </thead>\n",
       "  <tbody>\n",
       "    <tr>\n",
       "      <th>506</th>\n",
       "      <td>35</td>\n",
       "      <td>Los Angeles</td>\n",
       "      <td>Proizvodnja</td>\n",
       "      <td>Z</td>\n",
       "      <td>-9.0</td>\n",
       "      <td>3628.97</td>\n",
       "    </tr>\n",
       "    <tr>\n",
       "      <th>189</th>\n",
       "      <td>43</td>\n",
       "      <td>Boston</td>\n",
       "      <td>Proizvodnja</td>\n",
       "      <td>Z</td>\n",
       "      <td>-8.0</td>\n",
       "      <td>3012.43</td>\n",
       "    </tr>\n",
       "    <tr>\n",
       "      <th>289</th>\n",
       "      <td>54</td>\n",
       "      <td>Los Angeles</td>\n",
       "      <td>Nabava</td>\n",
       "      <td>Z</td>\n",
       "      <td>-6.0</td>\n",
       "      <td>5391.29</td>\n",
       "    </tr>\n",
       "    <tr>\n",
       "      <th>174</th>\n",
       "      <td>42</td>\n",
       "      <td>Miami</td>\n",
       "      <td>Marketing</td>\n",
       "      <td>M</td>\n",
       "      <td>-6.0</td>\n",
       "      <td>4999.23</td>\n",
       "    </tr>\n",
       "    <tr>\n",
       "      <th>437</th>\n",
       "      <td>66</td>\n",
       "      <td>Houston</td>\n",
       "      <td>Marketing</td>\n",
       "      <td>Z</td>\n",
       "      <td>-2.0</td>\n",
       "      <td>6736.41</td>\n",
       "    </tr>\n",
       "    <tr>\n",
       "      <th>...</th>\n",
       "      <td>...</td>\n",
       "      <td>...</td>\n",
       "      <td>...</td>\n",
       "      <td>...</td>\n",
       "      <td>...</td>\n",
       "      <td>...</td>\n",
       "    </tr>\n",
       "    <tr>\n",
       "      <th>489</th>\n",
       "      <td>65</td>\n",
       "      <td>Boston</td>\n",
       "      <td>nabava</td>\n",
       "      <td>M</td>\n",
       "      <td>47.0</td>\n",
       "      <td>6607.01</td>\n",
       "    </tr>\n",
       "    <tr>\n",
       "      <th>112</th>\n",
       "      <td>75</td>\n",
       "      <td>Boston</td>\n",
       "      <td>Prodaja</td>\n",
       "      <td>M</td>\n",
       "      <td>49.0</td>\n",
       "      <td>9979.05</td>\n",
       "    </tr>\n",
       "    <tr>\n",
       "      <th>13</th>\n",
       "      <td>71</td>\n",
       "      <td>Houston</td>\n",
       "      <td>Nabava</td>\n",
       "      <td>M</td>\n",
       "      <td>50.0</td>\n",
       "      <td>7901.27</td>\n",
       "    </tr>\n",
       "    <tr>\n",
       "      <th>88</th>\n",
       "      <td>74</td>\n",
       "      <td>Los Angeles</td>\n",
       "      <td>Proizvodnja</td>\n",
       "      <td>M</td>\n",
       "      <td>56.0</td>\n",
       "      <td>3451.67</td>\n",
       "    </tr>\n",
       "    <tr>\n",
       "      <th>486</th>\n",
       "      <td>112</td>\n",
       "      <td>Los Angeles</td>\n",
       "      <td>Nabava</td>\n",
       "      <td>Z</td>\n",
       "      <td>68.0</td>\n",
       "      <td>8524.24</td>\n",
       "    </tr>\n",
       "  </tbody>\n",
       "</table>\n",
       "<p>515 rows × 6 columns</p>\n",
       "</div>"
      ],
      "text/plain": [
       "     Starost         Grad        Odjel Spol  Iskustvo_Godine  Placa_USD\n",
       "506       35  Los Angeles  Proizvodnja    Z             -9.0    3628.97\n",
       "189       43       Boston  Proizvodnja    Z             -8.0    3012.43\n",
       "289       54  Los Angeles       Nabava    Z             -6.0    5391.29\n",
       "174       42        Miami    Marketing    M             -6.0    4999.23\n",
       "437       66      Houston    Marketing    Z             -2.0    6736.41\n",
       "..       ...          ...          ...  ...              ...        ...\n",
       "489       65       Boston       nabava    M             47.0    6607.01\n",
       "112       75       Boston      Prodaja    M             49.0    9979.05\n",
       "13        71      Houston       Nabava    M             50.0    7901.27\n",
       "88        74  Los Angeles  Proizvodnja    M             56.0    3451.67\n",
       "486      112  Los Angeles       Nabava    Z             68.0    8524.24\n",
       "\n",
       "[515 rows x 6 columns]"
      ]
     },
     "execution_count": 40,
     "metadata": {},
     "output_type": "execute_result"
    }
   ],
   "source": [
    "zaposlenici.sort_values(by = [\"Iskustvo_Godine\"])"
   ]
  },
  {
   "cell_type": "code",
   "execution_count": 41,
   "id": "6a829493-1293-493a-ab15-225b17baef6f",
   "metadata": {},
   "outputs": [],
   "source": [
    "#### Još uvijek imamo negativne vrijednosti za Iskustvo_Godine....\n",
    "#### Zbog pretpostavke da je unos bio pogrešan (-9), nisam se odlučio za srednju vrijednost ili medijan,\n",
    "#### nego za apsolutnu vrijednost koja pretvara vrijednosti u pozitivne "
   ]
  },
  {
   "cell_type": "code",
   "execution_count": 42,
   "id": "6c7224a1-198c-409f-8088-33135511711b",
   "metadata": {},
   "outputs": [],
   "source": [
    "zaposlenici['Iskustvo_Godine'] = zaposlenici['Iskustvo_Godine'].abs()"
   ]
  },
  {
   "cell_type": "code",
   "execution_count": 43,
   "id": "4219488d-ff3d-4867-8ff3-67dc337e01ba",
   "metadata": {},
   "outputs": [
    {
     "data": {
      "text/html": [
       "<div>\n",
       "<style scoped>\n",
       "    .dataframe tbody tr th:only-of-type {\n",
       "        vertical-align: middle;\n",
       "    }\n",
       "\n",
       "    .dataframe tbody tr th {\n",
       "        vertical-align: top;\n",
       "    }\n",
       "\n",
       "    .dataframe thead th {\n",
       "        text-align: right;\n",
       "    }\n",
       "</style>\n",
       "<table border=\"1\" class=\"dataframe\">\n",
       "  <thead>\n",
       "    <tr style=\"text-align: right;\">\n",
       "      <th></th>\n",
       "      <th>Starost</th>\n",
       "      <th>Grad</th>\n",
       "      <th>Odjel</th>\n",
       "      <th>Spol</th>\n",
       "      <th>Iskustvo_Godine</th>\n",
       "      <th>Placa_USD</th>\n",
       "    </tr>\n",
       "  </thead>\n",
       "  <tbody>\n",
       "    <tr>\n",
       "      <th>38</th>\n",
       "      <td>20</td>\n",
       "      <td>Miami</td>\n",
       "      <td>Prodaja</td>\n",
       "      <td>M</td>\n",
       "      <td>0.0</td>\n",
       "      <td>8229.05</td>\n",
       "    </tr>\n",
       "    <tr>\n",
       "      <th>440</th>\n",
       "      <td>36</td>\n",
       "      <td>Houston</td>\n",
       "      <td>Nabava</td>\n",
       "      <td>M</td>\n",
       "      <td>0.0</td>\n",
       "      <td>5115.68</td>\n",
       "    </tr>\n",
       "    <tr>\n",
       "      <th>382</th>\n",
       "      <td>21</td>\n",
       "      <td>Boston</td>\n",
       "      <td>prrrodaja</td>\n",
       "      <td>Z</td>\n",
       "      <td>0.0</td>\n",
       "      <td>6303.75</td>\n",
       "    </tr>\n",
       "    <tr>\n",
       "      <th>363</th>\n",
       "      <td>20</td>\n",
       "      <td>New York</td>\n",
       "      <td>Marketing</td>\n",
       "      <td>M</td>\n",
       "      <td>0.0</td>\n",
       "      <td>5351.39</td>\n",
       "    </tr>\n",
       "    <tr>\n",
       "      <th>261</th>\n",
       "      <td>22</td>\n",
       "      <td>Miami</td>\n",
       "      <td>Marketing</td>\n",
       "      <td>Z</td>\n",
       "      <td>0.0</td>\n",
       "      <td>6914.66</td>\n",
       "    </tr>\n",
       "    <tr>\n",
       "      <th>...</th>\n",
       "      <td>...</td>\n",
       "      <td>...</td>\n",
       "      <td>...</td>\n",
       "      <td>...</td>\n",
       "      <td>...</td>\n",
       "      <td>...</td>\n",
       "    </tr>\n",
       "    <tr>\n",
       "      <th>42</th>\n",
       "      <td>66</td>\n",
       "      <td>Los Angeles</td>\n",
       "      <td>Proizvodnja</td>\n",
       "      <td>Z</td>\n",
       "      <td>47.0</td>\n",
       "      <td>5599.76</td>\n",
       "    </tr>\n",
       "    <tr>\n",
       "      <th>112</th>\n",
       "      <td>75</td>\n",
       "      <td>Boston</td>\n",
       "      <td>Prodaja</td>\n",
       "      <td>M</td>\n",
       "      <td>49.0</td>\n",
       "      <td>9979.05</td>\n",
       "    </tr>\n",
       "    <tr>\n",
       "      <th>13</th>\n",
       "      <td>71</td>\n",
       "      <td>Houston</td>\n",
       "      <td>Nabava</td>\n",
       "      <td>M</td>\n",
       "      <td>50.0</td>\n",
       "      <td>7901.27</td>\n",
       "    </tr>\n",
       "    <tr>\n",
       "      <th>88</th>\n",
       "      <td>74</td>\n",
       "      <td>Los Angeles</td>\n",
       "      <td>Proizvodnja</td>\n",
       "      <td>M</td>\n",
       "      <td>56.0</td>\n",
       "      <td>3451.67</td>\n",
       "    </tr>\n",
       "    <tr>\n",
       "      <th>486</th>\n",
       "      <td>112</td>\n",
       "      <td>Los Angeles</td>\n",
       "      <td>Nabava</td>\n",
       "      <td>Z</td>\n",
       "      <td>68.0</td>\n",
       "      <td>8524.24</td>\n",
       "    </tr>\n",
       "  </tbody>\n",
       "</table>\n",
       "<p>515 rows × 6 columns</p>\n",
       "</div>"
      ],
      "text/plain": [
       "     Starost         Grad        Odjel Spol  Iskustvo_Godine  Placa_USD\n",
       "38        20        Miami      Prodaja    M              0.0    8229.05\n",
       "440       36      Houston       Nabava    M              0.0    5115.68\n",
       "382       21       Boston    prrrodaja    Z              0.0    6303.75\n",
       "363       20     New York    Marketing    M              0.0    5351.39\n",
       "261       22        Miami    Marketing    Z              0.0    6914.66\n",
       "..       ...          ...          ...  ...              ...        ...\n",
       "42        66  Los Angeles  Proizvodnja    Z             47.0    5599.76\n",
       "112       75       Boston      Prodaja    M             49.0    9979.05\n",
       "13        71      Houston       Nabava    M             50.0    7901.27\n",
       "88        74  Los Angeles  Proizvodnja    M             56.0    3451.67\n",
       "486      112  Los Angeles       Nabava    Z             68.0    8524.24\n",
       "\n",
       "[515 rows x 6 columns]"
      ]
     },
     "execution_count": 43,
     "metadata": {},
     "output_type": "execute_result"
    }
   ],
   "source": [
    "zaposlenici.sort_values(by = [\"Iskustvo_Godine\"])"
   ]
  },
  {
   "cell_type": "code",
   "execution_count": 44,
   "id": "bf21f77b-fb67-4112-aca6-6263edd46259",
   "metadata": {},
   "outputs": [],
   "source": [
    "#### Potrebno je riješiti vrijednosti koje imaju vrijednosti 0.0"
   ]
  },
  {
   "cell_type": "code",
   "execution_count": 45,
   "id": "e1c3ea94-0adf-482f-a90b-6a7f027e6c20",
   "metadata": {},
   "outputs": [],
   "source": [
    "medijan = zaposlenici[zaposlenici['Iskustvo_Godine'] > 0]['Iskustvo_Godine'].median()"
   ]
  },
  {
   "cell_type": "code",
   "execution_count": 46,
   "id": "b325bef7-8d74-42d8-afc4-0dcabc916453",
   "metadata": {},
   "outputs": [],
   "source": [
    "zaposlenici.loc[zaposlenici['Iskustvo_Godine'] == 0.0, 'Iskustvo_Godine'] = medijan"
   ]
  },
  {
   "cell_type": "code",
   "execution_count": 47,
   "id": "8955e412-0f8c-49e0-88d0-d51e5d5567f3",
   "metadata": {},
   "outputs": [],
   "source": [
    "#### Grafički prikaz"
   ]
  },
  {
   "cell_type": "code",
   "execution_count": 72,
   "id": "6ac7a446-2cd9-468f-a25c-20997d6b7d31",
   "metadata": {},
   "outputs": [
    {
     "data": {
      "text/plain": [
       "(array([88., 29., 60., 23., 34., 75., 15., 35., 12., 16., 24.,  9., 23.,\n",
       "         7.,  3., 11.,  7.,  8.,  3., 33.]),\n",
       " array([ 1. ,  2.4,  3.8,  5.2,  6.6,  8. ,  9.4, 10.8, 12.2, 13.6, 15. ,\n",
       "        16.4, 17.8, 19.2, 20.6, 22. , 23.4, 24.8, 26.2, 27.6, 29. ]),\n",
       " <BarContainer object of 20 artists>)"
      ]
     },
     "execution_count": 72,
     "metadata": {},
     "output_type": "execute_result"
    },
    {
     "data": {
      "image/png": "[encoded data removed]",
      "text/plain": [
       "<Figure size 640x480 with 1 Axes>"
      ]
     },
     "metadata": {},
     "output_type": "display_data"
    }
   ],
   "source": [
    "plt.hist(zaposlenici.Iskustvo_Godine, bins=20)"
   ]
  },
  {
   "cell_type": "code",
   "execution_count": null,
   "id": "1ed44ddc-5154-4eb2-835a-7d186188feff",
   "metadata": {},
   "outputs": [],
   "source": []
  },
  {
   "cell_type": "code",
   "execution_count": 49,
   "id": "f6cb0366-3d7d-4038-ab6e-7ad7b7a4e055",
   "metadata": {},
   "outputs": [],
   "source": [
    "#### IQR metoda"
   ]
  },
  {
   "cell_type": "code",
   "execution_count": 50,
   "id": "c93e4683-99ec-4c68-840d-e5f2a152941d",
   "metadata": {},
   "outputs": [],
   "source": [
    "for col in ['Iskustvo_Godine']:\n",
    "    zaposlenici[col] = apply_iqr_capping(zaposlenici[col])"
   ]
  },
  {
   "cell_type": "code",
   "execution_count": 51,
   "id": "60d7bfa9-dddf-4fa9-8229-5ef41534e922",
   "metadata": {},
   "outputs": [],
   "source": [
    "#### Stanje nakon IQR metode"
   ]
  },
  {
   "cell_type": "code",
   "execution_count": 52,
   "id": "fac3ae06-a531-4a74-a07d-4b6d3500709e",
   "metadata": {},
   "outputs": [
    {
     "data": {
      "text/plain": [
       "(array([88., 29., 60., 23., 34., 75., 15., 35., 12., 16., 24.,  9., 23.,\n",
       "         7.,  3., 11.,  7.,  8.,  3., 33.]),\n",
       " array([ 1. ,  2.4,  3.8,  5.2,  6.6,  8. ,  9.4, 10.8, 12.2, 13.6, 15. ,\n",
       "        16.4, 17.8, 19.2, 20.6, 22. , 23.4, 24.8, 26.2, 27.6, 29. ]),\n",
       " <BarContainer object of 20 artists>)"
      ]
     },
     "execution_count": 52,
     "metadata": {},
     "output_type": "execute_result"
    },
    {
     "data": {
      "image/png": "[encoded data removed]",
      "text/plain": [
       "<Figure size 640x480 with 1 Axes>"
      ]
     },
     "metadata": {},
     "output_type": "display_data"
    }
   ],
   "source": [
    "plt.hist(zaposlenici.Iskustvo_Godine, bins=20)"
   ]
  },
  {
   "cell_type": "code",
   "execution_count": null,
   "id": "4dfdf50e-2800-4691-842c-7acf06d48185",
   "metadata": {},
   "outputs": [],
   "source": []
  },
  {
   "cell_type": "code",
   "execution_count": 53,
   "id": "07b901ae-722b-4967-82b4-9486d1905993",
   "metadata": {},
   "outputs": [
    {
     "data": {
      "text/html": [
       "<div>\n",
       "<style scoped>\n",
       "    .dataframe tbody tr th:only-of-type {\n",
       "        vertical-align: middle;\n",
       "    }\n",
       "\n",
       "    .dataframe tbody tr th {\n",
       "        vertical-align: top;\n",
       "    }\n",
       "\n",
       "    .dataframe thead th {\n",
       "        text-align: right;\n",
       "    }\n",
       "</style>\n",
       "<table border=\"1\" class=\"dataframe\">\n",
       "  <thead>\n",
       "    <tr style=\"text-align: right;\">\n",
       "      <th></th>\n",
       "      <th>Starost</th>\n",
       "      <th>Iskustvo_Godine</th>\n",
       "      <th>Placa_USD</th>\n",
       "    </tr>\n",
       "  </thead>\n",
       "  <tbody>\n",
       "    <tr>\n",
       "      <th>Starost</th>\n",
       "      <td>1.000000</td>\n",
       "      <td>0.586445</td>\n",
       "      <td>0.056749</td>\n",
       "    </tr>\n",
       "    <tr>\n",
       "      <th>Iskustvo_Godine</th>\n",
       "      <td>0.586445</td>\n",
       "      <td>1.000000</td>\n",
       "      <td>0.117955</td>\n",
       "    </tr>\n",
       "    <tr>\n",
       "      <th>Placa_USD</th>\n",
       "      <td>0.056749</td>\n",
       "      <td>0.117955</td>\n",
       "      <td>1.000000</td>\n",
       "    </tr>\n",
       "  </tbody>\n",
       "</table>\n",
       "</div>"
      ],
      "text/plain": [
       "                  Starost  Iskustvo_Godine  Placa_USD\n",
       "Starost          1.000000         0.586445   0.056749\n",
       "Iskustvo_Godine  0.586445         1.000000   0.117955\n",
       "Placa_USD        0.056749         0.117955   1.000000"
      ]
     },
     "execution_count": 53,
     "metadata": {},
     "output_type": "execute_result"
    }
   ],
   "source": [
    "zaposlenici.corr(numeric_only=True)"
   ]
  },
  {
   "cell_type": "code",
   "execution_count": 54,
   "id": "7cea47a1-ec0f-4381-b207-9fe2bbcebf25",
   "metadata": {},
   "outputs": [],
   "source": [
    "#### HeatMap "
   ]
  },
  {
   "cell_type": "code",
   "execution_count": 55,
   "id": "b4a78888-8603-4c11-948d-6522de4a9ad3",
   "metadata": {},
   "outputs": [
    {
     "data": {
      "image/png": "[encoded data removed]",
      "text/plain": [
       "<Figure size 640x480 with 2 Axes>"
      ]
     },
     "metadata": {},
     "output_type": "display_data"
    }
   ],
   "source": [
    "sns.heatmap(zaposlenici.corr(numeric_only=True), annot=True, cmap='coolwarm')\n",
    "plt.title('Korelacijska matrica')\n",
    "plt.show()"
   ]
  },
  {
   "cell_type": "code",
   "execution_count": null,
   "id": "25667a83-5660-4af7-9311-9c85be1788e1",
   "metadata": {},
   "outputs": [],
   "source": []
  },
  {
   "cell_type": "code",
   "execution_count": null,
   "id": "0c3b4730-4934-486b-b012-7f50d551dfc7",
   "metadata": {},
   "outputs": [],
   "source": []
  },
  {
   "cell_type": "code",
   "execution_count": 56,
   "id": "f50a1935-772f-4764-99f0-01b4737f1b1a",
   "metadata": {},
   "outputs": [
    {
     "data": {
      "text/plain": [
       "<seaborn.axisgrid.PairGrid at 0x282fbd6aba0>"
      ]
     },
     "execution_count": 56,
     "metadata": {},
     "output_type": "execute_result"
    },
    {
     "data": {
      "image/png": "[encoded data removed]",
      "text/plain": [
       "<Figure size 750x750 with 12 Axes>"
      ]
     },
     "metadata": {},
     "output_type": "display_data"
    }
   ],
   "source": [
    "sns.pairplot(zaposlenici)"
   ]
  },
  {
   "cell_type": "code",
   "execution_count": null,
   "id": "3cf2c136-8ca4-42bf-b38e-20e523f4af3d",
   "metadata": {},
   "outputs": [],
   "source": []
  },
  {
   "cell_type": "code",
   "execution_count": 57,
   "id": "ae460c47-0c1a-47fb-a8e4-814392237266",
   "metadata": {},
   "outputs": [],
   "source": [
    "### Ostala je još i Starost koja ima outliere"
   ]
  },
  {
   "cell_type": "code",
   "execution_count": 58,
   "id": "aee1806e-2992-4d6c-9802-5e156ddaba7a",
   "metadata": {},
   "outputs": [
    {
     "data": {
      "text/plain": [
       "(array([16., 17., 14., 20., 23., 20., 21., 10., 13., 21., 25., 26., 17.,\n",
       "        16., 17., 20., 17., 12., 21., 13., 19., 12., 12., 17., 19., 12.,\n",
       "        15., 15., 11., 19.,  0.,  0.,  0.,  0.,  0.,  0.,  0.,  0.,  0.,\n",
       "         0.,  0.,  0.,  0.,  0.,  0.,  1.,  0.,  0.,  2.,  2.]),\n",
       " array([ 20.  ,  21.86,  23.72,  25.58,  27.44,  29.3 ,  31.16,  33.02,\n",
       "         34.88,  36.74,  38.6 ,  40.46,  42.32,  44.18,  46.04,  47.9 ,\n",
       "         49.76,  51.62,  53.48,  55.34,  57.2 ,  59.06,  60.92,  62.78,\n",
       "         64.64,  66.5 ,  68.36,  70.22,  72.08,  73.94,  75.8 ,  77.66,\n",
       "         79.52,  81.38,  83.24,  85.1 ,  86.96,  88.82,  90.68,  92.54,\n",
       "         94.4 ,  96.26,  98.12,  99.98, 101.84, 103.7 , 105.56, 107.42,\n",
       "        109.28, 111.14, 113.  ]),\n",
       " <BarContainer object of 50 artists>)"
      ]
     },
     "execution_count": 58,
     "metadata": {},
     "output_type": "execute_result"
    },
    {
     "data": {
      "image/png": "[encoded data removed]",
      "text/plain": [
       "<Figure size 640x480 with 1 Axes>"
      ]
     },
     "metadata": {},
     "output_type": "display_data"
    }
   ],
   "source": [
    "plt.hist(zaposlenici.Starost, bins=50)"
   ]
  },
  {
   "cell_type": "code",
   "execution_count": null,
   "id": "8301c701-dad0-41b4-86d2-99584a2671cb",
   "metadata": {},
   "outputs": [],
   "source": []
  },
  {
   "cell_type": "code",
   "execution_count": 61,
   "id": "cb08de84-1b37-4f98-bd5e-bf1d632b9a46",
   "metadata": {},
   "outputs": [
    {
     "data": {
      "text/html": [
       "<div>\n",
       "<style scoped>\n",
       "    .dataframe tbody tr th:only-of-type {\n",
       "        vertical-align: middle;\n",
       "    }\n",
       "\n",
       "    .dataframe tbody tr th {\n",
       "        vertical-align: top;\n",
       "    }\n",
       "\n",
       "    .dataframe thead th {\n",
       "        text-align: right;\n",
       "    }\n",
       "</style>\n",
       "<table border=\"1\" class=\"dataframe\">\n",
       "  <thead>\n",
       "    <tr style=\"text-align: right;\">\n",
       "      <th></th>\n",
       "      <th>Starost</th>\n",
       "      <th>Grad</th>\n",
       "      <th>Odjel</th>\n",
       "      <th>Spol</th>\n",
       "      <th>Iskustvo_Godine</th>\n",
       "      <th>Placa_USD</th>\n",
       "    </tr>\n",
       "  </thead>\n",
       "  <tbody>\n",
       "    <tr>\n",
       "      <th>38</th>\n",
       "      <td>20</td>\n",
       "      <td>Miami</td>\n",
       "      <td>Prodaja</td>\n",
       "      <td>M</td>\n",
       "      <td>8.0</td>\n",
       "      <td>8229.05</td>\n",
       "    </tr>\n",
       "    <tr>\n",
       "      <th>320</th>\n",
       "      <td>20</td>\n",
       "      <td>Houston</td>\n",
       "      <td>Prodaja</td>\n",
       "      <td>Z</td>\n",
       "      <td>1.0</td>\n",
       "      <td>8000.88</td>\n",
       "    </tr>\n",
       "    <tr>\n",
       "      <th>363</th>\n",
       "      <td>20</td>\n",
       "      <td>New York</td>\n",
       "      <td>Marketing</td>\n",
       "      <td>M</td>\n",
       "      <td>8.0</td>\n",
       "      <td>5351.39</td>\n",
       "    </tr>\n",
       "    <tr>\n",
       "      <th>400</th>\n",
       "      <td>20</td>\n",
       "      <td>Houston</td>\n",
       "      <td>Proizvodnja</td>\n",
       "      <td>M</td>\n",
       "      <td>2.0</td>\n",
       "      <td>3663.97</td>\n",
       "    </tr>\n",
       "    <tr>\n",
       "      <th>159</th>\n",
       "      <td>20</td>\n",
       "      <td>Boston</td>\n",
       "      <td>Prodaja</td>\n",
       "      <td>Z</td>\n",
       "      <td>8.0</td>\n",
       "      <td>8975.21</td>\n",
       "    </tr>\n",
       "    <tr>\n",
       "      <th>...</th>\n",
       "      <td>...</td>\n",
       "      <td>...</td>\n",
       "      <td>...</td>\n",
       "      <td>...</td>\n",
       "      <td>...</td>\n",
       "      <td>...</td>\n",
       "    </tr>\n",
       "    <tr>\n",
       "      <th>487</th>\n",
       "      <td>105</td>\n",
       "      <td>Boston</td>\n",
       "      <td>Nabava</td>\n",
       "      <td>M</td>\n",
       "      <td>24.0</td>\n",
       "      <td>5490.98</td>\n",
       "    </tr>\n",
       "    <tr>\n",
       "      <th>291</th>\n",
       "      <td>110</td>\n",
       "      <td>Los Angeles</td>\n",
       "      <td>Nabava</td>\n",
       "      <td>Z</td>\n",
       "      <td>17.0</td>\n",
       "      <td>7822.19</td>\n",
       "    </tr>\n",
       "    <tr>\n",
       "      <th>218</th>\n",
       "      <td>110</td>\n",
       "      <td>Houston</td>\n",
       "      <td>proizvodnja</td>\n",
       "      <td>Z</td>\n",
       "      <td>29.0</td>\n",
       "      <td>10000.00</td>\n",
       "    </tr>\n",
       "    <tr>\n",
       "      <th>486</th>\n",
       "      <td>112</td>\n",
       "      <td>Los Angeles</td>\n",
       "      <td>Nabava</td>\n",
       "      <td>Z</td>\n",
       "      <td>29.0</td>\n",
       "      <td>8524.24</td>\n",
       "    </tr>\n",
       "    <tr>\n",
       "      <th>388</th>\n",
       "      <td>113</td>\n",
       "      <td>Miami</td>\n",
       "      <td>Nabava</td>\n",
       "      <td>M</td>\n",
       "      <td>29.0</td>\n",
       "      <td>6737.08</td>\n",
       "    </tr>\n",
       "  </tbody>\n",
       "</table>\n",
       "<p>515 rows × 6 columns</p>\n",
       "</div>"
      ],
      "text/plain": [
       "     Starost         Grad        Odjel Spol  Iskustvo_Godine  Placa_USD\n",
       "38        20        Miami      Prodaja    M              8.0    8229.05\n",
       "320       20      Houston      Prodaja    Z              1.0    8000.88\n",
       "363       20     New York    Marketing    M              8.0    5351.39\n",
       "400       20      Houston  Proizvodnja    M              2.0    3663.97\n",
       "159       20       Boston      Prodaja    Z              8.0    8975.21\n",
       "..       ...          ...          ...  ...              ...        ...\n",
       "487      105       Boston       Nabava    M             24.0    5490.98\n",
       "291      110  Los Angeles       Nabava    Z             17.0    7822.19\n",
       "218      110      Houston  proizvodnja    Z             29.0   10000.00\n",
       "486      112  Los Angeles       Nabava    Z             29.0    8524.24\n",
       "388      113        Miami       Nabava    M             29.0    6737.08\n",
       "\n",
       "[515 rows x 6 columns]"
      ]
     },
     "execution_count": 61,
     "metadata": {},
     "output_type": "execute_result"
    }
   ],
   "source": [
    "zaposlenici.sort_values(by = [\"Starost\"])"
   ]
  },
  {
   "cell_type": "code",
   "execution_count": 74,
   "id": "347c9c8a-56c6-4d09-b045-d033e59ff753",
   "metadata": {},
   "outputs": [
    {
     "data": {
      "text/plain": [
       "Starost  Grad         Odjel        Spol  Iskustvo_Godine  Placa_USD\n",
       "73       New York     Marketing    Z     20.0             6499.03      2\n",
       "66       Boston       Marketing    Z     8.0              5856.65      1\n",
       "         Houston      Nabava       Z     2.0              4654.71      1\n",
       "                      Marketing    Z     2.0              6736.41      1\n",
       "                      Proizvodnja  Z     10.0             3049.41      1\n",
       "                                                                      ..\n",
       "105      Boston       Nabava       M     24.0             5490.98      1\n",
       "110      Houston      proizvodnja  Z     29.0             10000.00     1\n",
       "         Los Angeles  Nabava       Z     17.0             7822.19      1\n",
       "112      Los Angeles  Nabava       Z     29.0             8524.24      1\n",
       "113      Miami        Nabava       M     29.0             6737.08      1\n",
       "Name: count, Length: 88, dtype: int64"
      ]
     },
     "execution_count": 74,
     "metadata": {},
     "output_type": "execute_result"
    }
   ],
   "source": [
    "zaposlenici[zaposlenici['Starost'] > 65].value_counts()"
   ]
  },
  {
   "cell_type": "code",
   "execution_count": null,
   "id": "bb83b832-e472-4a97-afe4-a196f64f762a",
   "metadata": {},
   "outputs": [],
   "source": []
  },
  {
   "cell_type": "code",
   "execution_count": null,
   "id": "da96bc6d-8b64-4bf6-ae2d-50b13e13b533",
   "metadata": {},
   "outputs": [],
   "source": []
  },
  {
   "cell_type": "code",
   "execution_count": 71,
   "id": "4b0033ce-96f4-4c90-9a9b-b4976fffb181",
   "metadata": {},
   "outputs": [
    {
     "data": {
      "text/plain": [
       "Odjel\n",
       "Proizvodnja    195\n",
       "Nabava          98\n",
       "Marketing       97\n",
       "Prodaja         84\n",
       "proizvodnja     18\n",
       "prrrodaja       10\n",
       "nabava           6\n",
       "marketing        4\n",
       "prodaja          3\n",
       "Name: count, dtype: int64"
      ]
     },
     "execution_count": 71,
     "metadata": {},
     "output_type": "execute_result"
    }
   ],
   "source": [
    "zaposlenici['Odjel'].value_counts()"
   ]
  },
  {
   "cell_type": "code",
   "execution_count": null,
   "id": "699b7f87-398c-4fe1-aea3-ba8a295fe9ed",
   "metadata": {},
   "outputs": [],
   "source": [
    "zaposlenici[\"Odjel\"]"
   ]
  },
  {
   "cell_type": "code",
   "execution_count": null,
   "id": "8530ac13-5a24-4114-92f7-d0a21c933bea",
   "metadata": {},
   "outputs": [],
   "source": []
  },
  {
   "cell_type": "code",
   "execution_count": null,
   "id": "b7e954fa-a554-49f0-9790-399b2522668c",
   "metadata": {},
   "outputs": [],
   "source": [
    "zaposlenici[\"Odjel\"].replace({-654.0: 6540.0}, inplace=True)"
   ]
  },
  {
   "cell_type": "code",
   "execution_count": null,
   "id": "e37e4e33-fe5e-4c05-a2eb-ace55597336c",
   "metadata": {},
   "outputs": [],
   "source": []
  },
  {
   "cell_type": "code",
   "execution_count": 59,
   "id": "9f3fec64-d080-4b45-ac49-f2b8fed69d6c",
   "metadata": {},
   "outputs": [],
   "source": [
    "#### IQR metoda za starost"
   ]
  },
  {
   "cell_type": "code",
   "execution_count": null,
   "id": "c9e12b7c-8473-47f9-b9e1-2c602f33442f",
   "metadata": {},
   "outputs": [],
   "source": []
  },
  {
   "cell_type": "code",
   "execution_count": 60,
   "id": "b5865c69-a741-411b-a879-4b13c22fe9a0",
   "metadata": {},
   "outputs": [],
   "source": [
    "#### nakon IQR metode"
   ]
  },
  {
   "cell_type": "code",
   "execution_count": null,
   "id": "3ec9f0ca-4a1d-4b38-bf19-7419dc47f4a5",
   "metadata": {},
   "outputs": [],
   "source": []
  },
  {
   "cell_type": "code",
   "execution_count": null,
   "id": "e02f9118-eb1f-4a4a-8f9b-1a1a7dd0cfce",
   "metadata": {},
   "outputs": [],
   "source": []
  },
  {
   "cell_type": "code",
   "execution_count": null,
   "id": "ecf0f3f9-b543-4ed6-ae22-68f809dc81af",
   "metadata": {},
   "outputs": [],
   "source": []
  },
  {
   "cell_type": "code",
   "execution_count": null,
   "id": "5789b8d8-fccb-4aac-95e1-362bd4590815",
   "metadata": {},
   "outputs": [],
   "source": []
  },
  {
   "cell_type": "code",
   "execution_count": null,
   "id": "383aa0eb-ce28-499d-a4d4-60367bd087c0",
   "metadata": {},
   "outputs": [],
   "source": []
  },
  {
   "cell_type": "code",
   "execution_count": null,
   "id": "fb13432f-ff87-4da1-9fc2-464aa100093e",
   "metadata": {},
   "outputs": [],
   "source": []
  },
  {
   "cell_type": "code",
   "execution_count": null,
   "id": "0524e82f-5153-4d23-a89e-cec1c5fdd494",
   "metadata": {},
   "outputs": [],
   "source": []
  },
  {
   "cell_type": "code",
   "execution_count": null,
   "id": "52a16ebd-66e2-4c18-954d-bd0b27bd424c",
   "metadata": {},
   "outputs": [],
   "source": []
  },
  {
   "cell_type": "code",
   "execution_count": null,
   "id": "4ce5e3e0-b80f-42b2-8eb0-98600df8c685",
   "metadata": {},
   "outputs": [],
   "source": []
  },
  {
   "cell_type": "code",
   "execution_count": null,
   "id": "9331cf7c-e4e9-4057-b4bd-067c0d2054c5",
   "metadata": {},
   "outputs": [],
   "source": []
  },
  {
   "cell_type": "code",
   "execution_count": null,
   "id": "809d1963-6747-4efe-8889-2a28151824f0",
   "metadata": {},
   "outputs": [],
   "source": []
  },
  {
   "cell_type": "code",
   "execution_count": null,
   "id": "cf8cfb3f-190c-4975-b5b6-da50b2c08fd3",
   "metadata": {},
   "outputs": [],
   "source": []
  },
  {
   "cell_type": "code",
   "execution_count": null,
   "id": "6f0bd125-ab33-4190-a701-378f26815494",
   "metadata": {},
   "outputs": [],
   "source": []
  },
  {
   "cell_type": "code",
   "execution_count": null,
   "id": "3d739ea8-838c-47aa-aea0-16cc5372d5c6",
   "metadata": {},
   "outputs": [],
   "source": []
  },
  {
   "cell_type": "code",
   "execution_count": null,
   "id": "d266e040-45cf-436c-a65d-cf88cfd90cbf",
   "metadata": {},
   "outputs": [],
   "source": []
  },
  {
   "cell_type": "code",
   "execution_count": null,
   "id": "521674b3-fb81-41e6-b9d5-3e4692222c08",
   "metadata": {},
   "outputs": [],
   "source": []
  },
  {
   "cell_type": "code",
   "execution_count": null,
   "id": "4824f2e5-b316-41e0-b87b-509b1a169cd6",
   "metadata": {},
   "outputs": [],
   "source": []
  },
  {
   "cell_type": "code",
   "execution_count": null,
   "id": "a8bb1883-4cd8-4c5e-b9b5-87dcad210e32",
   "metadata": {},
   "outputs": [],
   "source": []
  },
  {
   "cell_type": "code",
   "execution_count": null,
   "id": "af614037-5ce1-48a6-a2c1-143124c979ea",
   "metadata": {},
   "outputs": [],
   "source": []
  },
  {
   "cell_type": "code",
   "execution_count": null,
   "id": "0a6ac4dd-d29e-4bd0-81a4-4607a7f9da09",
   "metadata": {},
   "outputs": [],
   "source": []
  },
  {
   "cell_type": "code",
   "execution_count": null,
   "id": "a36fd971-a443-4565-8843-083f63765747",
   "metadata": {},
   "outputs": [],
   "source": []
  },
  {
   "cell_type": "code",
   "execution_count": null,
   "id": "edbb2d7b-56dd-4c79-b0ae-615b5e24a8ec",
   "metadata": {},
   "outputs": [],
   "source": []
  },
  {
   "cell_type": "code",
   "execution_count": null,
   "id": "4fdcb54f-8d9f-4690-b7d3-2cd2a2013b34",
   "metadata": {},
   "outputs": [],
   "source": []
  },
  {
   "cell_type": "code",
   "execution_count": null,
   "id": "615dfe6b-5834-44dc-9dd7-2e41c856aaf9",
   "metadata": {},
   "outputs": [],
   "source": []
  },
  {
   "cell_type": "code",
   "execution_count": null,
   "id": "eebd7643-4b9e-41ce-a372-61981314db6a",
   "metadata": {},
   "outputs": [],
   "source": []
  },
  {
   "cell_type": "code",
   "execution_count": null,
   "id": "8169090a-143f-4221-809c-8ed9a665df0f",
   "metadata": {},
   "outputs": [],
   "source": []
  },
  {
   "cell_type": "code",
   "execution_count": null,
   "id": "b119bd11-cfa5-42ce-adf3-a32c7f57b016",
   "metadata": {},
   "outputs": [],
   "source": []
  },
  {
   "cell_type": "code",
   "execution_count": null,
   "id": "80f2c27a-5a8d-41ff-afa3-bd1430fbed2e",
   "metadata": {},
   "outputs": [],
   "source": []
  },
  {
   "cell_type": "code",
   "execution_count": null,
   "id": "4f070bc5-c9ad-441b-ab4b-cdda4890a419",
   "metadata": {},
   "outputs": [],
   "source": []
  },
  {
   "cell_type": "code",
   "execution_count": null,
   "id": "3bdb12cb-8efe-4a4f-9449-f7aec405c642",
   "metadata": {},
   "outputs": [],
   "source": []
  },
  {
   "cell_type": "code",
   "execution_count": null,
   "id": "f6ce1c7a-fe9a-4bc5-8e32-e98bc24ba6c4",
   "metadata": {},
   "outputs": [],
   "source": []
  },
  {
   "cell_type": "code",
   "execution_count": null,
   "id": "004ff344-88db-48f7-a3b8-733e9c42bcbb",
   "metadata": {},
   "outputs": [],
   "source": []
  }
 ],
 "metadata": {
  "kernelspec": {
   "display_name": "Python [conda env:base] *",
   "language": "python",
   "name": "conda-base-py"
  },
  "language_info": {
   "codemirror_mode": {
    "name": "ipython",
    "version": 3
   },
   "file_extension": ".py",
   "mimetype": "text/x-python",
   "name": "python",
   "nbconvert_exporter": "python",
   "pygments_lexer": "ipython3",
   "version": "3.13.5"
  }
 },
 "nbformat": 4,
 "nbformat_minor": 5
}
